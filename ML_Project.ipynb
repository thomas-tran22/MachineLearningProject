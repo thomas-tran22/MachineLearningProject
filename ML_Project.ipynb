{
 "cells": [
  {
   "cell_type": "code",
   "execution_count": 167,
   "metadata": {},
   "outputs": [],
   "source": [
    "\n",
    "import pandas as pd\n",
    "import numpy as np\n",
    "import sklearn as sk\n",
    "import matplotlib.pyplot as plt\n",
    "import time\n",
    "%matplotlib inline\n"
   ]
  },
  {
   "cell_type": "markdown",
   "metadata": {},
   "source": [
    "Read in the Data "
   ]
  },
  {
   "cell_type": "code",
   "execution_count": 168,
   "metadata": {},
   "outputs": [
    {
     "name": "stderr",
     "output_type": "stream",
     "text": [
      "/var/folders/7p/v4s1vzgj3fz1cnk_dqbddljr0000gn/T/ipykernel_90474/2462508884.py:3: FutureWarning: Downcasting behavior in `replace` is deprecated and will be removed in a future version. To retain the old behavior, explicitly call `result.infer_objects(copy=False)`. To opt-in to the future behavior, set `pd.set_option('future.no_silent_downcasting', True)`\n",
      "  data = data.replace({\"M\",\"B\"},{1,0})\n"
     ]
    },
    {
     "data": {
      "text/html": [
       "<div>\n",
       "<style scoped>\n",
       "    .dataframe tbody tr th:only-of-type {\n",
       "        vertical-align: middle;\n",
       "    }\n",
       "\n",
       "    .dataframe tbody tr th {\n",
       "        vertical-align: top;\n",
       "    }\n",
       "\n",
       "    .dataframe thead th {\n",
       "        text-align: right;\n",
       "    }\n",
       "</style>\n",
       "<table border=\"1\" class=\"dataframe\">\n",
       "  <thead>\n",
       "    <tr style=\"text-align: right;\">\n",
       "      <th></th>\n",
       "      <th>radius_mean</th>\n",
       "      <th>texture_mean</th>\n",
       "      <th>perimeter_mean</th>\n",
       "      <th>area_mean</th>\n",
       "      <th>smoothness_mean</th>\n",
       "      <th>compactness_mean</th>\n",
       "      <th>concavity_mean</th>\n",
       "      <th>concave points_mean</th>\n",
       "      <th>symmetry_mean</th>\n",
       "      <th>fractal_dimension_mean</th>\n",
       "      <th>...</th>\n",
       "      <th>radius_worst</th>\n",
       "      <th>texture_worst</th>\n",
       "      <th>perimeter_worst</th>\n",
       "      <th>area_worst</th>\n",
       "      <th>smoothness_worst</th>\n",
       "      <th>compactness_worst</th>\n",
       "      <th>concavity_worst</th>\n",
       "      <th>concave points_worst</th>\n",
       "      <th>symmetry_worst</th>\n",
       "      <th>fractal_dimension_worst</th>\n",
       "    </tr>\n",
       "  </thead>\n",
       "  <tbody>\n",
       "    <tr>\n",
       "      <th>492</th>\n",
       "      <td>18.01</td>\n",
       "      <td>20.56</td>\n",
       "      <td>118.40</td>\n",
       "      <td>1007.0</td>\n",
       "      <td>0.10010</td>\n",
       "      <td>0.1289</td>\n",
       "      <td>0.11700</td>\n",
       "      <td>0.07762</td>\n",
       "      <td>0.2116</td>\n",
       "      <td>0.06077</td>\n",
       "      <td>...</td>\n",
       "      <td>21.53</td>\n",
       "      <td>26.06</td>\n",
       "      <td>143.40</td>\n",
       "      <td>1426.0</td>\n",
       "      <td>0.1309</td>\n",
       "      <td>0.2327</td>\n",
       "      <td>0.2544</td>\n",
       "      <td>0.14890</td>\n",
       "      <td>0.3251</td>\n",
       "      <td>0.07625</td>\n",
       "    </tr>\n",
       "    <tr>\n",
       "      <th>211</th>\n",
       "      <td>11.84</td>\n",
       "      <td>18.94</td>\n",
       "      <td>75.51</td>\n",
       "      <td>428.0</td>\n",
       "      <td>0.08871</td>\n",
       "      <td>0.0690</td>\n",
       "      <td>0.02669</td>\n",
       "      <td>0.01393</td>\n",
       "      <td>0.1533</td>\n",
       "      <td>0.06057</td>\n",
       "      <td>...</td>\n",
       "      <td>13.30</td>\n",
       "      <td>24.99</td>\n",
       "      <td>85.22</td>\n",
       "      <td>546.3</td>\n",
       "      <td>0.1280</td>\n",
       "      <td>0.1880</td>\n",
       "      <td>0.1471</td>\n",
       "      <td>0.06913</td>\n",
       "      <td>0.2535</td>\n",
       "      <td>0.07993</td>\n",
       "    </tr>\n",
       "    <tr>\n",
       "      <th>536</th>\n",
       "      <td>14.27</td>\n",
       "      <td>22.55</td>\n",
       "      <td>93.77</td>\n",
       "      <td>629.8</td>\n",
       "      <td>0.10380</td>\n",
       "      <td>0.1154</td>\n",
       "      <td>0.14630</td>\n",
       "      <td>0.06139</td>\n",
       "      <td>0.1926</td>\n",
       "      <td>0.05982</td>\n",
       "      <td>...</td>\n",
       "      <td>15.29</td>\n",
       "      <td>34.27</td>\n",
       "      <td>104.30</td>\n",
       "      <td>728.3</td>\n",
       "      <td>0.1380</td>\n",
       "      <td>0.2733</td>\n",
       "      <td>0.4234</td>\n",
       "      <td>0.13620</td>\n",
       "      <td>0.2698</td>\n",
       "      <td>0.08351</td>\n",
       "    </tr>\n",
       "    <tr>\n",
       "      <th>460</th>\n",
       "      <td>17.08</td>\n",
       "      <td>27.15</td>\n",
       "      <td>111.20</td>\n",
       "      <td>930.9</td>\n",
       "      <td>0.09898</td>\n",
       "      <td>0.1110</td>\n",
       "      <td>0.10070</td>\n",
       "      <td>0.06431</td>\n",
       "      <td>0.1793</td>\n",
       "      <td>0.06281</td>\n",
       "      <td>...</td>\n",
       "      <td>22.96</td>\n",
       "      <td>34.49</td>\n",
       "      <td>152.10</td>\n",
       "      <td>1648.0</td>\n",
       "      <td>0.1600</td>\n",
       "      <td>0.2444</td>\n",
       "      <td>0.2639</td>\n",
       "      <td>0.15550</td>\n",
       "      <td>0.3010</td>\n",
       "      <td>0.09060</td>\n",
       "    </tr>\n",
       "    <tr>\n",
       "      <th>16</th>\n",
       "      <td>14.68</td>\n",
       "      <td>20.13</td>\n",
       "      <td>94.74</td>\n",
       "      <td>684.5</td>\n",
       "      <td>0.09867</td>\n",
       "      <td>0.0720</td>\n",
       "      <td>0.07395</td>\n",
       "      <td>0.05259</td>\n",
       "      <td>0.1586</td>\n",
       "      <td>0.05922</td>\n",
       "      <td>...</td>\n",
       "      <td>19.07</td>\n",
       "      <td>30.88</td>\n",
       "      <td>123.40</td>\n",
       "      <td>1138.0</td>\n",
       "      <td>0.1464</td>\n",
       "      <td>0.1871</td>\n",
       "      <td>0.2914</td>\n",
       "      <td>0.16090</td>\n",
       "      <td>0.3029</td>\n",
       "      <td>0.08216</td>\n",
       "    </tr>\n",
       "  </tbody>\n",
       "</table>\n",
       "<p>5 rows × 30 columns</p>\n",
       "</div>"
      ],
      "text/plain": [
       "     radius_mean  texture_mean  perimeter_mean  area_mean  smoothness_mean  \\\n",
       "492        18.01         20.56          118.40     1007.0          0.10010   \n",
       "211        11.84         18.94           75.51      428.0          0.08871   \n",
       "536        14.27         22.55           93.77      629.8          0.10380   \n",
       "460        17.08         27.15          111.20      930.9          0.09898   \n",
       "16         14.68         20.13           94.74      684.5          0.09867   \n",
       "\n",
       "     compactness_mean  concavity_mean  concave points_mean  symmetry_mean  \\\n",
       "492            0.1289         0.11700              0.07762         0.2116   \n",
       "211            0.0690         0.02669              0.01393         0.1533   \n",
       "536            0.1154         0.14630              0.06139         0.1926   \n",
       "460            0.1110         0.10070              0.06431         0.1793   \n",
       "16             0.0720         0.07395              0.05259         0.1586   \n",
       "\n",
       "     fractal_dimension_mean  ...  radius_worst  texture_worst  \\\n",
       "492                 0.06077  ...         21.53          26.06   \n",
       "211                 0.06057  ...         13.30          24.99   \n",
       "536                 0.05982  ...         15.29          34.27   \n",
       "460                 0.06281  ...         22.96          34.49   \n",
       "16                  0.05922  ...         19.07          30.88   \n",
       "\n",
       "     perimeter_worst  area_worst  smoothness_worst  compactness_worst  \\\n",
       "492           143.40      1426.0            0.1309             0.2327   \n",
       "211            85.22       546.3            0.1280             0.1880   \n",
       "536           104.30       728.3            0.1380             0.2733   \n",
       "460           152.10      1648.0            0.1600             0.2444   \n",
       "16            123.40      1138.0            0.1464             0.1871   \n",
       "\n",
       "     concavity_worst  concave points_worst  symmetry_worst  \\\n",
       "492           0.2544               0.14890          0.3251   \n",
       "211           0.1471               0.06913          0.2535   \n",
       "536           0.4234               0.13620          0.2698   \n",
       "460           0.2639               0.15550          0.3010   \n",
       "16            0.2914               0.16090          0.3029   \n",
       "\n",
       "     fractal_dimension_worst  \n",
       "492                  0.07625  \n",
       "211                  0.07993  \n",
       "536                  0.08351  \n",
       "460                  0.09060  \n",
       "16                   0.08216  \n",
       "\n",
       "[5 rows x 30 columns]"
      ]
     },
     "execution_count": 168,
     "metadata": {},
     "output_type": "execute_result"
    }
   ],
   "source": [
    "data = pd.read_csv(\"breast-cancer.csv\")\n",
    "data = data.drop(\"id\", axis = 1)\n",
    "data = data.replace({\"M\",\"B\"},{1,0})\n",
    "data = data.sample(frac=1)\n",
    "Y = data[\"diagnosis\"]\n",
    "X = data.drop(\"diagnosis\",axis = 1)\n",
    "X.head()\n",
    "\n",
    "\n"
   ]
  },
  {
   "cell_type": "code",
   "execution_count": 169,
   "metadata": {},
   "outputs": [
    {
     "data": {
      "text/plain": [
       "0"
      ]
     },
     "execution_count": 169,
     "metadata": {},
     "output_type": "execute_result"
    }
   ],
   "source": [
    "# check for null values \n",
    "data.isnull().sum().sum()"
   ]
  },
  {
   "cell_type": "code",
   "execution_count": 170,
   "metadata": {},
   "outputs": [
    {
     "data": {
      "image/png": "[encoded data removed]",
      "text/plain": [
       "<Figure size 640x480 with 1 Axes>"
      ]
     },
     "metadata": {},
     "output_type": "display_data"
    }
   ],
   "source": [
    "### Add preprocessing here (or inside the pipes)\n",
    "## looking for outliers wit DBSCAN \n",
    "## finding besteps \n",
    "from sklearn.preprocessing import StandardScaler\n",
    "from sklearn.decomposition import PCA\n",
    "from sklearn.neighbors import NearestNeighbors\n",
    "scaler = StandardScaler()\n",
    "pca = PCA(n_components=0.95, svd_solver=\"full\")\n",
    "processed_data = pd.DataFrame(pca.fit_transform(scaler.fit_transform(X))) # scales and reduces dimension of data to improve distance based models\n",
    "nn = NearestNeighbors(n_neighbors=4)\n",
    "nn.fit(processed_data)\n",
    "distance_matrix = nn.kneighbors(processed_data)[0]\n",
    "distances = np.sort(distance_matrix[:,3])\n",
    "plt.plot(distances)\n",
    "plt.hlines(y=4, xmin=0, xmax=550)\n",
    "# best eps around 3.75\n",
    "plt.show()\n",
    "\n",
    "\n",
    "\n",
    "\n",
    "\n"
   ]
  },
  {
   "cell_type": "code",
   "execution_count": 171,
   "metadata": {},
   "outputs": [
    {
     "name": "stdout",
     "output_type": "stream",
     "text": [
      "Estimated no. of clusters: 2\n",
      "Estimated no. of noise points: 31\n"
     ]
    },
    {
     "data": {
      "text/plain": [
       "(538, 30)"
      ]
     },
     "execution_count": 171,
     "metadata": {},
     "output_type": "execute_result"
    }
   ],
   "source": [
    "from sklearn.cluster import DBSCAN\n",
    "\n",
    "db = DBSCAN(eps=4, min_samples=4).fit(processed_data)\n",
    "labels = db.labels_\n",
    "no_clusters = len(np.unique(labels) )\n",
    "no_noise = np.sum(np.array(labels) == -1, axis=0)\n",
    "print('Estimated no. of clusters: %d' % no_clusters)\n",
    "print('Estimated no. of noise points: %d' % no_noise)\n",
    "\n",
    "Y = Y[labels == 0]\n",
    "X = X[labels == 0]\n",
    "X.shape\n"
   ]
  },
  {
   "cell_type": "code",
   "execution_count": 172,
   "metadata": {},
   "outputs": [],
   "source": [
    "# Print metrics\n",
    "from sklearn import metrics\n",
    "\n",
    "# Using the code for calculating and printing \n",
    "# the confusion matrix from Assignment 3\n",
    "def get_confusion(test_data, results):\n",
    "    TN = 0\n",
    "    TP = 0\n",
    "    FN = 0\n",
    "    FP = 0\n",
    "    for i in range(len(test_data)):\n",
    "        expected = test_data[i]\n",
    "        if(expected):\n",
    "            if (results[i]):\n",
    "                TP += 1\n",
    "            else:\n",
    "                FN += 1\n",
    "        else:\n",
    "            if (results[i]): #is neg guessed pos\n",
    "                FP += 1\n",
    "            else: \n",
    "                TN += 1\n",
    "\n",
    "\n",
    "\n",
    "    return TN, TP, FN, FP \n",
    "\n",
    "def print_confusion_matrix(TP, FN, FP, TN):\n",
    "    \n",
    "    table_data = [[TP,FN],[FP,TN]]\n",
    "    df = pd.DataFrame(table_data, columns =['Predicted 1','Predicted 0'])\n",
    "    df = df.rename(index={0: 'Actual 1', 1: 'Actual 0'})\n",
    "    display(df)\n",
    "\n",
    "# takes in a list of predicted values and test sets for each fold of crossvalidation\n",
    "def PrintMetrics_list(y_actual, y_pred):\n",
    "    accuracies = []\n",
    "    tn = 0\n",
    "    tp = 0\n",
    "    fn = 0\n",
    "    fp = 0\n",
    "    loops = len(y_pred)\n",
    "    for i in range(loops):\n",
    "        accuracies.append(sk.metrics.accuracy_score(y_actual[i],y_pred[i]))\n",
    "        confusion = get_confusion(list(y_actual[i]),list(y_pred[i]))\n",
    "        tn += confusion[0]\n",
    "        tp += confusion[1]\n",
    "        fn += confusion[2]\n",
    "        fp += confusion[3]\n",
    "    accuracy = np.average(accuracies)\n",
    "    print(\"Accuracy:\",accuracy)\n",
    "    print_confusion_matrix(tp,fn,fp,tn)\n",
    "    precision = tp/(tp+fp)\n",
    "    recall = tp/(tp + fn)\n",
    "    print(\"Precision: \",precision)\n",
    "    print(\"Recall:\",recall)\n",
    "\n",
    "def PrintMetrics(y_actual, y_pred):\n",
    "    tn = 0\n",
    "    tp = 0\n",
    "    fn = 0\n",
    "    fp = 0\n",
    "    accuracy = sk.metrics.accuracy_score(y_actual,y_pred)\n",
    "    confusion = get_confusion(y_actual,y_pred)\n",
    "    tn += confusion[0]\n",
    "    tp += confusion[1]\n",
    "    fn += confusion[2]\n",
    "    fp += confusion[3]\n",
    "    \n",
    "    print(\"Accuracy:\",accuracy)\n",
    "    print_confusion_matrix(tp,fn,fp,tn)\n",
    "    precision = tp/(tp+fp)\n",
    "    recall = tp/(tp + fn)\n",
    "    print(\"Precision: \",precision)\n",
    "    print(\"Recall:\",recall)\n",
    "    \n",
    "\n"
   ]
  },
  {
   "cell_type": "code",
   "execution_count": 173,
   "metadata": {},
   "outputs": [],
   "source": [
    "outputs = []\n"
   ]
  },
  {
   "cell_type": "code",
   "execution_count": 174,
   "metadata": {},
   "outputs": [
    {
     "name": "stdout",
     "output_type": "stream",
     "text": [
      "Chosen max_depth: 34\n",
      "Chosen min_samples_leaf: 1\n",
      "Chosen max_depth: 33\n",
      "Chosen min_samples_leaf: 1\n",
      "Chosen max_depth: 30\n",
      "Chosen min_samples_leaf: 3\n"
     ]
    }
   ],
   "source": [
    "\n",
    "\n",
    "#Random Forest\n",
    "from sklearn import model_selection\n",
    "from sklearn import ensemble\n",
    "param_grid = { # mess with these\n",
    "    \"max_depth\": list(range(30,40)),\n",
    "    \"min_samples_leaf\": list(range(1,6,2))\n",
    "}\n",
    "\n",
    "inner = sk.model_selection.GridSearchCV(sk.ensemble.RandomForestClassifier(),param_grid)\n",
    "kf = sk.model_selection.KFold(n_splits=5)\n",
    "actuals = []\n",
    "preds = []\n",
    "for i, (train_index, test_index) in enumerate(kf.split(X)):\n",
    "    X_train, X_test, Y_train, Y_test = X.iloc[train_index],X.iloc[test_index], Y.iloc[train_index], Y.iloc[test_index]\n",
    "    inner.fit(X_train,Y_train)\n",
    "    print(\"Chosen max_depth:\",inner.best_estimator_.get_params()[\"max_depth\"])\n",
    "    print(\"Chosen min_samples_leaf:\",inner.best_estimator_.get_params()[\"min_samples_leaf\"])\n",
    "    preds.append(inner.predict(X_test))\n",
    "    actuals.append(Y_test)\n",
    "outputs.append([\"Random Forest\",actuals,preds])\n",
    "\n",
    "\n"
   ]
  },
  {
   "cell_type": "code",
   "execution_count": null,
   "metadata": {},
   "outputs": [],
   "source": []
  },
  {
   "cell_type": "code",
   "execution_count": null,
   "metadata": {},
   "outputs": [
    {
     "name": "stdout",
     "output_type": "stream",
     "text": [
      "Chosen n_estimators: 140\n",
      "Chosen n_estimators: 120\n",
      "Chosen n_estimators: 110\n",
      "Chosen n_estimators: 100\n",
      "Chosen n_estimators: 130\n"
     ]
    }
   ],
   "source": [
    "#ADA Boosting\n",
    "param_grid = {\n",
    "    'n_estimators': list(range(100,150,10)),\n",
    "}\n",
    "boost = sk.ensemble.AdaBoostClassifier(algorithm=\"SAMME\")\n",
    "inner = sk.model_selection.GridSearchCV(boost,param_grid,cv= 5)\n",
    "preds = []\n",
    "actuals = []\n",
    "for i, (train_index, test_index) in enumerate(kf.split(X)):\n",
    "    X_train, X_test, Y_train, Y_test = X.iloc[train_index],X.iloc[test_index], Y.iloc[train_index], Y.iloc[test_index]\n",
    "    inner.fit(X_train,Y_train)\n",
    "    print(\"Chosen n_estimators:\",inner.best_estimator_.get_params()[\"n_estimators\"])\n",
    "    preds.append(inner.predict(X_test))\n",
    "    actuals.append(Y_test)\n",
    "outputs.append([\"ADA Boosting\",actuals,preds])\n",
    "\n"
   ]
  },
  {
   "cell_type": "code",
   "execution_count": null,
   "metadata": {},
   "outputs": [
    {
     "name": "stdout",
     "output_type": "stream",
     "text": [
      "Chosen n_components: 11\n",
      "Chosen kernel: rbf\n",
      "Chosen n_components: 13\n",
      "Chosen kernel: linear\n",
      "Chosen n_components: 10\n",
      "Chosen kernel: linear\n",
      "Chosen n_components: 14\n",
      "Chosen kernel: linear\n",
      "Chosen n_components: 10\n",
      "Chosen kernel: linear\n"
     ]
    }
   ],
   "source": [
    "#SVM\n",
    "scaler = sk.preprocessing.StandardScaler()\n",
    "pca = sk.decomposition.PCA()\n",
    "svc = sk.svm.SVC()\n",
    "pipe = sk.pipeline.Pipeline(steps=[(\"scaler\",scaler),(\"pca\",pca),(\"svc\",svc)])\n",
    "\n",
    "param_grid = {\n",
    "    'pca__n_components': list(range(10, 15)),\n",
    "    'svc__kernel': [\"linear\",\"rbf\"]\n",
    "}\n",
    "inner = sk.model_selection.GridSearchCV(pipe,param_grid, cv=5)\n",
    "preds = []\n",
    "actuals = []\n",
    "for i, (train_index, test_index) in enumerate(kf.split(X)):\n",
    "    X_train, X_test, Y_train, Y_test = X.iloc[train_index],X.iloc[test_index], Y.iloc[train_index], Y.iloc[test_index]\n",
    "    inner.fit(X_train,Y_train)\n",
    "    print(\"Chosen n_components:\",inner.best_estimator_.get_params()[\"pca__n_components\"])\n",
    "    print(\"Chosen kernel:\",inner.best_estimator_.get_params()[\"svc__kernel\"])\n",
    "\n",
    "    preds.append(inner.predict(X_test))\n",
    "    actuals.append(Y_test)\n",
    "outputs.append([\"SVM\",actuals,preds])\n"
   ]
  },
  {
   "cell_type": "code",
   "execution_count": null,
   "metadata": {},
   "outputs": [
    {
     "name": "stdout",
     "output_type": "stream",
     "text": [
      "Chosen n_components: 11\n",
      "Chosen n_neighbors: 3\n",
      "Chosen n_components: 9\n",
      "Chosen n_neighbors: 3\n",
      "Chosen n_components: 8\n",
      "Chosen n_neighbors: 5\n",
      "Chosen n_components: 8\n",
      "Chosen n_neighbors: 3\n",
      "Chosen n_components: 11\n",
      "Chosen n_neighbors: 5\n"
     ]
    }
   ],
   "source": [
    "#Nearest Neighbor\n",
    "param_grid = { #mess with these\n",
    "    'pca__n_components': list(range(7,13)),\n",
    "    'knn__n_neighbors': list(range(3,7))\n",
    "}\n",
    "scaler = sk.preprocessing.StandardScaler()\n",
    "pca = sk.decomposition.PCA()\n",
    "knn = sk.neighbors.KNeighborsClassifier()\n",
    "pipe = sk.pipeline.Pipeline(steps=[(\"scaler\",scaler),(\"pca\",pca),(\"knn\",knn)])\n",
    "inner = sk.model_selection.GridSearchCV(pipe,param_grid, cv = 5)\n",
    "preds = []\n",
    "actuals = []\n",
    "for i, (train_index, test_index) in enumerate(kf.split(X)):\n",
    "    X_train, X_test, Y_train, Y_test = X.iloc[train_index],X.iloc[test_index], Y.iloc[train_index], Y.iloc[test_index]\n",
    "    inner.fit(X_train,Y_train)\n",
    "    print(\"Chosen n_components:\",inner.best_estimator_.get_params()[\"pca__n_components\"])\n",
    "    print(\"Chosen n_neighbors:\",inner.best_estimator_.get_params()[\"knn__n_neighbors\"])\n",
    "    preds.append(inner.predict(X_test))\n",
    "    actuals.append(Y_test)\n",
    "outputs.append([\"K Nearest Neighbor\",actuals,preds])\n",
    "\n"
   ]
  },
  {
   "cell_type": "code",
   "execution_count": null,
   "metadata": {},
   "outputs": [
    {
     "name": "stdout",
     "output_type": "stream",
     "text": [
      "Chosen hidden_layer_sizes: (30,)\n",
      "Chosen activation: logistic\n",
      "Chosen max_iter: 250\n",
      "Chosen hidden_layer_sizes: (40,)\n",
      "Chosen activation: tanh\n",
      "Chosen max_iter: 250\n",
      "Chosen hidden_layer_sizes: (30,)\n",
      "Chosen activation: relu\n",
      "Chosen max_iter: 200\n",
      "Chosen hidden_layer_sizes: (50,)\n",
      "Chosen activation: relu\n",
      "Chosen max_iter: 200\n",
      "Chosen hidden_layer_sizes: (70,)\n",
      "Chosen activation: tanh\n",
      "Chosen max_iter: 300\n"
     ]
    }
   ],
   "source": [
    "#Simple Neural Net\n",
    "from sklearn import neural_network\n",
    "scaler = sk.preprocessing.StandardScaler()\n",
    "nn = sk.neural_network.MLPClassifier(learning_rate=\"invscaling\",learning_rate_init=0.1)\n",
    "pipe = sk.pipeline.Pipeline(steps=[(\"scaler\",scaler),(\"nn\",nn)])\n",
    "param_grid = {\n",
    "    \"nn__hidden_layer_sizes\": [(30,),(40,),(50,),(60,),(70,),(80,)],\n",
    "    \"nn__activation\": [\"logistic\",\"tanh\",\"relu\"],\n",
    "    \"nn__max_iter\" : [200,250,300,350]\n",
    "}\n",
    "inner = sk.model_selection.GridSearchCV(pipe,param_grid, cv=5)\n",
    "preds = []\n",
    "actuals = []\n",
    "for i, (train_index, test_index) in enumerate(kf.split(X)):\n",
    "    X_train, X_test, Y_train, Y_test = X.iloc[train_index],X.iloc[test_index], Y.iloc[train_index], Y.iloc[test_index]\n",
    "    inner.fit(X_train,Y_train)\n",
    "    print(\"Chosen hidden_layer_sizes:\",inner.best_estimator_.get_params()[\"nn__hidden_layer_sizes\"])\n",
    "    print(\"Chosen activation:\",inner.best_estimator_.get_params()[\"nn__activation\"])\n",
    "    print(\"Chosen max_iter:\",inner.best_estimator_.get_params()[\"nn__max_iter\"])\n",
    "\n",
    "    preds.append(inner.predict(X_test))\n",
    "    actuals.append(Y_test)\n",
    "outputs.append([\"Neural Nets\",actuals,preds])\n",
    "\n"
   ]
  },
  {
   "cell_type": "code",
   "execution_count": null,
   "metadata": {},
   "outputs": [
    {
     "name": "stdout",
     "output_type": "stream",
     "text": [
      "Metrics for Random Forest\n",
      "Accuracy: 0.9628071997230876\n"
     ]
    },
    {
     "data": {
      "text/html": [
       "<div>\n",
       "<style scoped>\n",
       "    .dataframe tbody tr th:only-of-type {\n",
       "        vertical-align: middle;\n",
       "    }\n",
       "\n",
       "    .dataframe tbody tr th {\n",
       "        vertical-align: top;\n",
       "    }\n",
       "\n",
       "    .dataframe thead th {\n",
       "        text-align: right;\n",
       "    }\n",
       "</style>\n",
       "<table border=\"1\" class=\"dataframe\">\n",
       "  <thead>\n",
       "    <tr style=\"text-align: right;\">\n",
       "      <th></th>\n",
       "      <th>Predicted 1</th>\n",
       "      <th>Predicted 0</th>\n",
       "    </tr>\n",
       "  </thead>\n",
       "  <tbody>\n",
       "    <tr>\n",
       "      <th>Actual 1</th>\n",
       "      <td>180</td>\n",
       "      <td>12</td>\n",
       "    </tr>\n",
       "    <tr>\n",
       "      <th>Actual 0</th>\n",
       "      <td>8</td>\n",
       "      <td>338</td>\n",
       "    </tr>\n",
       "  </tbody>\n",
       "</table>\n",
       "</div>"
      ],
      "text/plain": [
       "          Predicted 1  Predicted 0\n",
       "Actual 1          180           12\n",
       "Actual 0            8          338"
      ]
     },
     "metadata": {},
     "output_type": "display_data"
    },
    {
     "name": "stdout",
     "output_type": "stream",
     "text": [
      "Precision:  0.9574468085106383\n",
      "Recall: 0.9375\n",
      "\n",
      "Metrics for ADA Boosting\n",
      "Accuracy: 0.9720837660089996\n"
     ]
    },
    {
     "data": {
      "text/html": [
       "<div>\n",
       "<style scoped>\n",
       "    .dataframe tbody tr th:only-of-type {\n",
       "        vertical-align: middle;\n",
       "    }\n",
       "\n",
       "    .dataframe tbody tr th {\n",
       "        vertical-align: top;\n",
       "    }\n",
       "\n",
       "    .dataframe thead th {\n",
       "        text-align: right;\n",
       "    }\n",
       "</style>\n",
       "<table border=\"1\" class=\"dataframe\">\n",
       "  <thead>\n",
       "    <tr style=\"text-align: right;\">\n",
       "      <th></th>\n",
       "      <th>Predicted 1</th>\n",
       "      <th>Predicted 0</th>\n",
       "    </tr>\n",
       "  </thead>\n",
       "  <tbody>\n",
       "    <tr>\n",
       "      <th>Actual 1</th>\n",
       "      <td>180</td>\n",
       "      <td>12</td>\n",
       "    </tr>\n",
       "    <tr>\n",
       "      <th>Actual 0</th>\n",
       "      <td>3</td>\n",
       "      <td>343</td>\n",
       "    </tr>\n",
       "  </tbody>\n",
       "</table>\n",
       "</div>"
      ],
      "text/plain": [
       "          Predicted 1  Predicted 0\n",
       "Actual 1          180           12\n",
       "Actual 0            3          343"
      ]
     },
     "metadata": {},
     "output_type": "display_data"
    },
    {
     "name": "stdout",
     "output_type": "stream",
     "text": [
      "Precision:  0.9836065573770492\n",
      "Recall: 0.9375\n",
      "\n",
      "Metrics for SVM\n",
      "Accuracy: 0.977673935617861\n"
     ]
    },
    {
     "data": {
      "text/html": [
       "<div>\n",
       "<style scoped>\n",
       "    .dataframe tbody tr th:only-of-type {\n",
       "        vertical-align: middle;\n",
       "    }\n",
       "\n",
       "    .dataframe tbody tr th {\n",
       "        vertical-align: top;\n",
       "    }\n",
       "\n",
       "    .dataframe thead th {\n",
       "        text-align: right;\n",
       "    }\n",
       "</style>\n",
       "<table border=\"1\" class=\"dataframe\">\n",
       "  <thead>\n",
       "    <tr style=\"text-align: right;\">\n",
       "      <th></th>\n",
       "      <th>Predicted 1</th>\n",
       "      <th>Predicted 0</th>\n",
       "    </tr>\n",
       "  </thead>\n",
       "  <tbody>\n",
       "    <tr>\n",
       "      <th>Actual 1</th>\n",
       "      <td>184</td>\n",
       "      <td>8</td>\n",
       "    </tr>\n",
       "    <tr>\n",
       "      <th>Actual 0</th>\n",
       "      <td>4</td>\n",
       "      <td>342</td>\n",
       "    </tr>\n",
       "  </tbody>\n",
       "</table>\n",
       "</div>"
      ],
      "text/plain": [
       "          Predicted 1  Predicted 0\n",
       "Actual 1          184            8\n",
       "Actual 0            4          342"
      ]
     },
     "metadata": {},
     "output_type": "display_data"
    },
    {
     "name": "stdout",
     "output_type": "stream",
     "text": [
      "Precision:  0.9787234042553191\n",
      "Recall: 0.9583333333333334\n",
      "\n",
      "Metrics for K Nearest Neighbor\n",
      "Accuracy: 0.9608861197646243\n"
     ]
    },
    {
     "data": {
      "text/html": [
       "<div>\n",
       "<style scoped>\n",
       "    .dataframe tbody tr th:only-of-type {\n",
       "        vertical-align: middle;\n",
       "    }\n",
       "\n",
       "    .dataframe tbody tr th {\n",
       "        vertical-align: top;\n",
       "    }\n",
       "\n",
       "    .dataframe thead th {\n",
       "        text-align: right;\n",
       "    }\n",
       "</style>\n",
       "<table border=\"1\" class=\"dataframe\">\n",
       "  <thead>\n",
       "    <tr style=\"text-align: right;\">\n",
       "      <th></th>\n",
       "      <th>Predicted 1</th>\n",
       "      <th>Predicted 0</th>\n",
       "    </tr>\n",
       "  </thead>\n",
       "  <tbody>\n",
       "    <tr>\n",
       "      <th>Actual 1</th>\n",
       "      <td>176</td>\n",
       "      <td>16</td>\n",
       "    </tr>\n",
       "    <tr>\n",
       "      <th>Actual 0</th>\n",
       "      <td>5</td>\n",
       "      <td>341</td>\n",
       "    </tr>\n",
       "  </tbody>\n",
       "</table>\n",
       "</div>"
      ],
      "text/plain": [
       "          Predicted 1  Predicted 0\n",
       "Actual 1          176           16\n",
       "Actual 0            5          341"
      ]
     },
     "metadata": {},
     "output_type": "display_data"
    },
    {
     "name": "stdout",
     "output_type": "stream",
     "text": [
      "Precision:  0.9723756906077348\n",
      "Recall: 0.9166666666666666\n",
      "\n",
      "Metrics for Neural Nets\n",
      "Accuracy: 0.9720491519556941\n"
     ]
    },
    {
     "data": {
      "text/html": [
       "<div>\n",
       "<style scoped>\n",
       "    .dataframe tbody tr th:only-of-type {\n",
       "        vertical-align: middle;\n",
       "    }\n",
       "\n",
       "    .dataframe tbody tr th {\n",
       "        vertical-align: top;\n",
       "    }\n",
       "\n",
       "    .dataframe thead th {\n",
       "        text-align: right;\n",
       "    }\n",
       "</style>\n",
       "<table border=\"1\" class=\"dataframe\">\n",
       "  <thead>\n",
       "    <tr style=\"text-align: right;\">\n",
       "      <th></th>\n",
       "      <th>Predicted 1</th>\n",
       "      <th>Predicted 0</th>\n",
       "    </tr>\n",
       "  </thead>\n",
       "  <tbody>\n",
       "    <tr>\n",
       "      <th>Actual 1</th>\n",
       "      <td>184</td>\n",
       "      <td>8</td>\n",
       "    </tr>\n",
       "    <tr>\n",
       "      <th>Actual 0</th>\n",
       "      <td>7</td>\n",
       "      <td>339</td>\n",
       "    </tr>\n",
       "  </tbody>\n",
       "</table>\n",
       "</div>"
      ],
      "text/plain": [
       "          Predicted 1  Predicted 0\n",
       "Actual 1          184            8\n",
       "Actual 0            7          339"
      ]
     },
     "metadata": {},
     "output_type": "display_data"
    },
    {
     "name": "stdout",
     "output_type": "stream",
     "text": [
      "Precision:  0.9633507853403142\n",
      "Recall: 0.9583333333333334\n",
      "\n",
      "Metrics for K Nearest Neighbor\n",
      "Accuracy: 0.9553305642090688\n"
     ]
    },
    {
     "data": {
      "text/html": [
       "<div>\n",
       "<style scoped>\n",
       "    .dataframe tbody tr th:only-of-type {\n",
       "        vertical-align: middle;\n",
       "    }\n",
       "\n",
       "    .dataframe tbody tr th {\n",
       "        vertical-align: top;\n",
       "    }\n",
       "\n",
       "    .dataframe thead th {\n",
       "        text-align: right;\n",
       "    }\n",
       "</style>\n",
       "<table border=\"1\" class=\"dataframe\">\n",
       "  <thead>\n",
       "    <tr style=\"text-align: right;\">\n",
       "      <th></th>\n",
       "      <th>Predicted 1</th>\n",
       "      <th>Predicted 0</th>\n",
       "    </tr>\n",
       "  </thead>\n",
       "  <tbody>\n",
       "    <tr>\n",
       "      <th>Actual 1</th>\n",
       "      <td>174</td>\n",
       "      <td>18</td>\n",
       "    </tr>\n",
       "    <tr>\n",
       "      <th>Actual 0</th>\n",
       "      <td>6</td>\n",
       "      <td>340</td>\n",
       "    </tr>\n",
       "  </tbody>\n",
       "</table>\n",
       "</div>"
      ],
      "text/plain": [
       "          Predicted 1  Predicted 0\n",
       "Actual 1          174           18\n",
       "Actual 0            6          340"
      ]
     },
     "metadata": {},
     "output_type": "display_data"
    },
    {
     "name": "stdout",
     "output_type": "stream",
     "text": [
      "Precision:  0.9666666666666667\n",
      "Recall: 0.90625\n",
      "\n",
      "Metrics for K Nearest Neighbor\n",
      "Accuracy: 0.9608861197646243\n"
     ]
    },
    {
     "data": {
      "text/html": [
       "<div>\n",
       "<style scoped>\n",
       "    .dataframe tbody tr th:only-of-type {\n",
       "        vertical-align: middle;\n",
       "    }\n",
       "\n",
       "    .dataframe tbody tr th {\n",
       "        vertical-align: top;\n",
       "    }\n",
       "\n",
       "    .dataframe thead th {\n",
       "        text-align: right;\n",
       "    }\n",
       "</style>\n",
       "<table border=\"1\" class=\"dataframe\">\n",
       "  <thead>\n",
       "    <tr style=\"text-align: right;\">\n",
       "      <th></th>\n",
       "      <th>Predicted 1</th>\n",
       "      <th>Predicted 0</th>\n",
       "    </tr>\n",
       "  </thead>\n",
       "  <tbody>\n",
       "    <tr>\n",
       "      <th>Actual 1</th>\n",
       "      <td>176</td>\n",
       "      <td>16</td>\n",
       "    </tr>\n",
       "    <tr>\n",
       "      <th>Actual 0</th>\n",
       "      <td>5</td>\n",
       "      <td>341</td>\n",
       "    </tr>\n",
       "  </tbody>\n",
       "</table>\n",
       "</div>"
      ],
      "text/plain": [
       "          Predicted 1  Predicted 0\n",
       "Actual 1          176           16\n",
       "Actual 0            5          341"
      ]
     },
     "metadata": {},
     "output_type": "display_data"
    },
    {
     "name": "stdout",
     "output_type": "stream",
     "text": [
      "Precision:  0.9723756906077348\n",
      "Recall: 0.9166666666666666\n",
      "\n"
     ]
    }
   ],
   "source": [
    "for output in outputs:\n",
    "    print(\"Metrics for\",output[0])\n",
    "    PrintMetrics_list(output[1],output[2])\n",
    "    print()"
   ]
  },
  {
   "cell_type": "code",
   "execution_count": null,
   "metadata": {},
   "outputs": [],
   "source": [
    "## save model here?"
   ]
  }
 ],
 "metadata": {
  "kernelspec": {
   "display_name": "Python 3",
   "language": "python",
   "name": "python3"
  },
  "language_info": {
   "codemirror_mode": {
    "name": "ipython",
    "version": 3
   },
   "file_extension": ".py",
   "mimetype": "text/x-python",
   "name": "python",
   "nbconvert_exporter": "python",
   "pygments_lexer": "ipython3",
   "version": "3.9.2"
  }
 },
 "nbformat": 4,
 "nbformat_minor": 2
}
