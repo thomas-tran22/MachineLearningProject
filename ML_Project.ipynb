{
 "cells": [
  {
   "cell_type": "code",
   "execution_count": 17,
   "metadata": {},
   "outputs": [],
   "source": [
    "\n",
    "import pandas as pd\n",
    "import numpy as np\n",
    "import sklearn as sk\n",
    "import matplotlib.pyplot as plt\n",
    "import time\n",
    "import sklearn.pipeline\n",
    "%matplotlib inline\n"
   ]
  },
  {
   "cell_type": "markdown",
   "metadata": {},
   "source": [
    "Read in the Data "
   ]
  },
  {
   "cell_type": "code",
   "execution_count": 18,
   "metadata": {},
   "outputs": [
    {
     "data": {
      "text/html": [
       "<div>\n",
       "<style scoped>\n",
       "    .dataframe tbody tr th:only-of-type {\n",
       "        vertical-align: middle;\n",
       "    }\n",
       "\n",
       "    .dataframe tbody tr th {\n",
       "        vertical-align: top;\n",
       "    }\n",
       "\n",
       "    .dataframe thead th {\n",
       "        text-align: right;\n",
       "    }\n",
       "</style>\n",
       "<table border=\"1\" class=\"dataframe\">\n",
       "  <thead>\n",
       "    <tr style=\"text-align: right;\">\n",
       "      <th></th>\n",
       "      <th>radius_mean</th>\n",
       "      <th>texture_mean</th>\n",
       "      <th>perimeter_mean</th>\n",
       "      <th>area_mean</th>\n",
       "      <th>smoothness_mean</th>\n",
       "      <th>compactness_mean</th>\n",
       "      <th>concavity_mean</th>\n",
       "      <th>concave points_mean</th>\n",
       "      <th>symmetry_mean</th>\n",
       "      <th>fractal_dimension_mean</th>\n",
       "      <th>...</th>\n",
       "      <th>radius_worst</th>\n",
       "      <th>texture_worst</th>\n",
       "      <th>perimeter_worst</th>\n",
       "      <th>area_worst</th>\n",
       "      <th>smoothness_worst</th>\n",
       "      <th>compactness_worst</th>\n",
       "      <th>concavity_worst</th>\n",
       "      <th>concave points_worst</th>\n",
       "      <th>symmetry_worst</th>\n",
       "      <th>fractal_dimension_worst</th>\n",
       "    </tr>\n",
       "  </thead>\n",
       "  <tbody>\n",
       "    <tr>\n",
       "      <th>208</th>\n",
       "      <td>13.11</td>\n",
       "      <td>22.54</td>\n",
       "      <td>87.02</td>\n",
       "      <td>529.4</td>\n",
       "      <td>0.10020</td>\n",
       "      <td>0.14830</td>\n",
       "      <td>0.08705</td>\n",
       "      <td>0.05102</td>\n",
       "      <td>0.1850</td>\n",
       "      <td>0.07310</td>\n",
       "      <td>...</td>\n",
       "      <td>14.55</td>\n",
       "      <td>29.16</td>\n",
       "      <td>99.48</td>\n",
       "      <td>639.3</td>\n",
       "      <td>0.1349</td>\n",
       "      <td>0.4402</td>\n",
       "      <td>0.31620</td>\n",
       "      <td>0.11260</td>\n",
       "      <td>0.4128</td>\n",
       "      <td>0.10760</td>\n",
       "    </tr>\n",
       "    <tr>\n",
       "      <th>251</th>\n",
       "      <td>11.50</td>\n",
       "      <td>18.45</td>\n",
       "      <td>73.28</td>\n",
       "      <td>407.4</td>\n",
       "      <td>0.09345</td>\n",
       "      <td>0.05991</td>\n",
       "      <td>0.02638</td>\n",
       "      <td>0.02069</td>\n",
       "      <td>0.1834</td>\n",
       "      <td>0.05934</td>\n",
       "      <td>...</td>\n",
       "      <td>12.97</td>\n",
       "      <td>22.46</td>\n",
       "      <td>83.12</td>\n",
       "      <td>508.9</td>\n",
       "      <td>0.1183</td>\n",
       "      <td>0.1049</td>\n",
       "      <td>0.08105</td>\n",
       "      <td>0.06544</td>\n",
       "      <td>0.2740</td>\n",
       "      <td>0.06487</td>\n",
       "    </tr>\n",
       "    <tr>\n",
       "      <th>540</th>\n",
       "      <td>11.54</td>\n",
       "      <td>14.44</td>\n",
       "      <td>74.65</td>\n",
       "      <td>402.9</td>\n",
       "      <td>0.09984</td>\n",
       "      <td>0.11200</td>\n",
       "      <td>0.06737</td>\n",
       "      <td>0.02594</td>\n",
       "      <td>0.1818</td>\n",
       "      <td>0.06782</td>\n",
       "      <td>...</td>\n",
       "      <td>12.26</td>\n",
       "      <td>19.68</td>\n",
       "      <td>78.78</td>\n",
       "      <td>457.8</td>\n",
       "      <td>0.1345</td>\n",
       "      <td>0.2118</td>\n",
       "      <td>0.17970</td>\n",
       "      <td>0.06918</td>\n",
       "      <td>0.2329</td>\n",
       "      <td>0.08134</td>\n",
       "    </tr>\n",
       "    <tr>\n",
       "      <th>36</th>\n",
       "      <td>14.25</td>\n",
       "      <td>21.72</td>\n",
       "      <td>93.63</td>\n",
       "      <td>633.0</td>\n",
       "      <td>0.09823</td>\n",
       "      <td>0.10980</td>\n",
       "      <td>0.13190</td>\n",
       "      <td>0.05598</td>\n",
       "      <td>0.1885</td>\n",
       "      <td>0.06125</td>\n",
       "      <td>...</td>\n",
       "      <td>15.89</td>\n",
       "      <td>30.36</td>\n",
       "      <td>116.20</td>\n",
       "      <td>799.6</td>\n",
       "      <td>0.1446</td>\n",
       "      <td>0.4238</td>\n",
       "      <td>0.51860</td>\n",
       "      <td>0.14470</td>\n",
       "      <td>0.3591</td>\n",
       "      <td>0.10140</td>\n",
       "    </tr>\n",
       "    <tr>\n",
       "      <th>453</th>\n",
       "      <td>14.53</td>\n",
       "      <td>13.98</td>\n",
       "      <td>93.86</td>\n",
       "      <td>644.2</td>\n",
       "      <td>0.10990</td>\n",
       "      <td>0.09242</td>\n",
       "      <td>0.06895</td>\n",
       "      <td>0.06495</td>\n",
       "      <td>0.1650</td>\n",
       "      <td>0.06121</td>\n",
       "      <td>...</td>\n",
       "      <td>15.80</td>\n",
       "      <td>16.93</td>\n",
       "      <td>103.10</td>\n",
       "      <td>749.9</td>\n",
       "      <td>0.1347</td>\n",
       "      <td>0.1478</td>\n",
       "      <td>0.13730</td>\n",
       "      <td>0.10690</td>\n",
       "      <td>0.2606</td>\n",
       "      <td>0.07810</td>\n",
       "    </tr>\n",
       "  </tbody>\n",
       "</table>\n",
       "<p>5 rows × 30 columns</p>\n",
       "</div>"
      ],
      "text/plain": [
       "     radius_mean  texture_mean  perimeter_mean  area_mean  smoothness_mean  \\\n",
       "208        13.11         22.54           87.02      529.4          0.10020   \n",
       "251        11.50         18.45           73.28      407.4          0.09345   \n",
       "540        11.54         14.44           74.65      402.9          0.09984   \n",
       "36         14.25         21.72           93.63      633.0          0.09823   \n",
       "453        14.53         13.98           93.86      644.2          0.10990   \n",
       "\n",
       "     compactness_mean  concavity_mean  concave points_mean  symmetry_mean  \\\n",
       "208           0.14830         0.08705              0.05102         0.1850   \n",
       "251           0.05991         0.02638              0.02069         0.1834   \n",
       "540           0.11200         0.06737              0.02594         0.1818   \n",
       "36            0.10980         0.13190              0.05598         0.1885   \n",
       "453           0.09242         0.06895              0.06495         0.1650   \n",
       "\n",
       "     fractal_dimension_mean  ...  radius_worst  texture_worst  \\\n",
       "208                 0.07310  ...         14.55          29.16   \n",
       "251                 0.05934  ...         12.97          22.46   \n",
       "540                 0.06782  ...         12.26          19.68   \n",
       "36                  0.06125  ...         15.89          30.36   \n",
       "453                 0.06121  ...         15.80          16.93   \n",
       "\n",
       "     perimeter_worst  area_worst  smoothness_worst  compactness_worst  \\\n",
       "208            99.48       639.3            0.1349             0.4402   \n",
       "251            83.12       508.9            0.1183             0.1049   \n",
       "540            78.78       457.8            0.1345             0.2118   \n",
       "36            116.20       799.6            0.1446             0.4238   \n",
       "453           103.10       749.9            0.1347             0.1478   \n",
       "\n",
       "     concavity_worst  concave points_worst  symmetry_worst  \\\n",
       "208          0.31620               0.11260          0.4128   \n",
       "251          0.08105               0.06544          0.2740   \n",
       "540          0.17970               0.06918          0.2329   \n",
       "36           0.51860               0.14470          0.3591   \n",
       "453          0.13730               0.10690          0.2606   \n",
       "\n",
       "     fractal_dimension_worst  \n",
       "208                  0.10760  \n",
       "251                  0.06487  \n",
       "540                  0.08134  \n",
       "36                   0.10140  \n",
       "453                  0.07810  \n",
       "\n",
       "[5 rows x 30 columns]"
      ]
     },
     "execution_count": 18,
     "metadata": {},
     "output_type": "execute_result"
    }
   ],
   "source": [
    "data = pd.read_csv(\"breast-cancer.csv\")\n",
    "data = data.drop(\"id\", axis = 1)\n",
    "data = data.replace({\"M\",\"B\"},{1,0})\n",
    "data = data.sample(frac=1)\n",
    "Y = data[\"diagnosis\"]\n",
    "X = data.drop(\"diagnosis\",axis = 1)\n",
    "X.head()\n",
    "\n",
    "\n"
   ]
  },
  {
   "cell_type": "code",
   "execution_count": 19,
   "metadata": {},
   "outputs": [
    {
     "data": {
      "text/plain": [
       "0"
      ]
     },
     "execution_count": 19,
     "metadata": {},
     "output_type": "execute_result"
    }
   ],
   "source": [
    "# check for null values \n",
    "data.isnull().sum().sum()"
   ]
  },
  {
   "cell_type": "code",
   "execution_count": 20,
   "metadata": {},
   "outputs": [
    {
     "data": {
      "image/png": "[encoded data removed]",
      "text/plain": [
       "<Figure size 640x480 with 1 Axes>"
      ]
     },
     "metadata": {},
     "output_type": "display_data"
    }
   ],
   "source": [
    "### Add preprocessing here (or inside the pipes)\n",
    "## looking for outliers wit DBSCAN \n",
    "## finding besteps \n",
    "from sklearn.preprocessing import StandardScaler\n",
    "from sklearn.decomposition import PCA\n",
    "from sklearn.neighbors import NearestNeighbors\n",
    "scaler = StandardScaler()\n",
    "pca = PCA(n_components=0.95, svd_solver=\"full\")\n",
    "processed_data = pd.DataFrame(pca.fit_transform(scaler.fit_transform(X))) # scales and reduces dimension of data to improve distance based models\n",
    "nn = NearestNeighbors(n_neighbors=4)\n",
    "nn.fit(processed_data)\n",
    "distance_matrix = nn.kneighbors(processed_data)[0]\n",
    "distances = np.sort(distance_matrix[:,3])\n",
    "plt.plot(distances)\n",
    "plt.hlines(y=4, xmin=0, xmax=550)\n",
    "# best eps around 3.75\n",
    "plt.show()"
   ]
  },
  {
   "cell_type": "code",
   "execution_count": 21,
   "metadata": {},
   "outputs": [
    {
     "name": "stdout",
     "output_type": "stream",
     "text": [
      "Estimated no. of clusters: 2\n",
      "Estimated no. of noise points: 31\n"
     ]
    },
    {
     "data": {
      "image/png": "[encoded data removed]",
      "text/plain": [
       "<Figure size 640x480 with 1 Axes>"
      ]
     },
     "metadata": {},
     "output_type": "display_data"
    }
   ],
   "source": [
    "from sklearn.cluster import DBSCAN\n",
    "\n",
    "db = DBSCAN(eps=4, min_samples=4).fit(processed_data)\n",
    "labels = db.labels_\n",
    "no_clusters = len(np.unique(labels))\n",
    "no_noise = np.sum(np.array(labels) == -1, axis=0)\n",
    "print('Estimated no. of clusters: %d' % no_clusters)\n",
    "print('Estimated no. of noise points: %d' % no_noise)\n",
    "\n",
    "for label in np.unique(labels):\n",
    "    if label == -1:\n",
    "        plt.scatter(processed_data.loc[labels == label, 0], processed_data.loc[labels == label, 1], \n",
    "                    marker='o', label='Outliers', alpha=0.5)\n",
    "    else:\n",
    "        plt.scatter(processed_data.loc[labels == label, 0], processed_data.loc[labels == label, 1], \n",
    "                    marker='.', label=f'Cluster {label + 1}')\n",
    "\n",
    "plt.xlabel('PCA Component 1')\n",
    "plt.ylabel('PCA Component 2')\n",
    "plt.title('DBSCAN Clustering')\n",
    "plt.legend()\n",
    "plt.show()\n"
   ]
  },
  {
   "cell_type": "code",
   "execution_count": 22,
   "metadata": {},
   "outputs": [
    {
     "name": "stderr",
     "output_type": "stream",
     "text": [
      "/u/ajimenea/.local/lib/python3.8/site-packages/sklearn/cluster/_kmeans.py:1416: FutureWarning: The default value of `n_init` will change from 10 to 'auto' in 1.4. Set the value of `n_init` explicitly to suppress the warning\n",
      "  super()._check_params_vs_input(X, default_n_init=10)\n"
     ]
    },
    {
     "name": "stdout",
     "output_type": "stream",
     "text": [
      "(538, 2)\n",
      "(31, 2)\n"
     ]
    },
    {
     "data": {
      "image/png": "[encoded data removed]",
      "text/plain": [
       "<Figure size 640x480 with 1 Axes>"
      ]
     },
     "metadata": {},
     "output_type": "display_data"
    }
   ],
   "source": [
    "from sklearn.cluster import KMeans\n",
    "# from sklearn.preprocessing import StandardScaler\n",
    "from sklearn.neighbors import LocalOutlierFactor\n",
    "# import matplotlib.pyplot as plt\n",
    "# import numpy as np\n",
    "\n",
    "# Detect outliers using Local Outlier Factor\n",
    "scaler = StandardScaler()\n",
    "X_scaled = scaler.fit_transform(X)\n",
    "lof = LocalOutlierFactor(n_neighbors=20, contamination='auto')\n",
    "outlier_labels = lof.fit_predict(X_scaled)\n",
    "\n",
    "# Perform KMeans clustering on the original scaled data\n",
    "kmeans = KMeans(n_clusters=2, random_state=42)\n",
    "kmeans.fit(X_scaled)\n",
    "labels = kmeans.labels_\n",
    "\n",
    "pca = PCA(n_components=2)\n",
    "X_pca = pca.fit_transform(X)\n",
    "\n",
    "# Separate outliers and inliers\n",
    "outliers = X_pca[outlier_labels == -1]\n",
    "inliers = X_pca[outlier_labels != -1]\n",
    "\n",
    "print(inliers.shape)\n",
    "print(outliers.shape)\n",
    "\n",
    "plt.scatter(inliers[:, 0], inliers[:, 1], c=labels[outlier_labels != -1], cmap='viridis', label='Inliers')\n",
    "plt.scatter(outliers[:, 0], outliers[:, 1], c='red', marker='x', label='Outliers')\n",
    "plt.legend()\n",
    "plt.show()"
   ]
  },
  {
   "cell_type": "code",
   "execution_count": 23,
   "metadata": {},
   "outputs": [],
   "source": [
    "# Print metrics\n",
    "from sklearn import metrics\n",
    "\n",
    "# Using the code for calculating and printing \n",
    "# the confusion matrix from Assignment 3\n",
    "def get_confusion(test_data, results):\n",
    "    TN = 0\n",
    "    TP = 0\n",
    "    FN = 0\n",
    "    FP = 0\n",
    "    for i in range(len(test_data)):\n",
    "        expected = test_data[i]\n",
    "        if(expected):\n",
    "            if (results[i]):\n",
    "                TP += 1\n",
    "            else:\n",
    "                FN += 1\n",
    "        else:\n",
    "            if (results[i]): #is neg guessed pos\n",
    "                FP += 1\n",
    "            else: \n",
    "                TN += 1\n",
    "\n",
    "\n",
    "\n",
    "    return TN, TP, FN, FP \n",
    "\n",
    "def print_confusion_matrix(TP, FN, FP, TN):\n",
    "    \n",
    "    table_data = [[TP,FN],[FP,TN]]\n",
    "    df = pd.DataFrame(table_data, columns =['Predicted 1','Predicted 0'])\n",
    "    df = df.rename(index={0: 'Actual 1', 1: 'Actual 0'})\n",
    "    display(df)\n",
    "\n",
    "# takes in a list of predicted values and test sets for each fold of crossvalidation\n",
    "def PrintMetrics_list(y_actual, y_pred):\n",
    "    accuracies = []\n",
    "    tn = 0\n",
    "    tp = 0\n",
    "    fn = 0\n",
    "    fp = 0\n",
    "    loops = len(y_pred)\n",
    "    for i in range(loops):\n",
    "        accuracies.append(sk.metrics.accuracy_score(y_actual[i],y_pred[i]))\n",
    "        confusion = get_confusion(list(y_actual[i]),list(y_pred[i]))\n",
    "        tn += confusion[0]\n",
    "        tp += confusion[1]\n",
    "        fn += confusion[2]\n",
    "        fp += confusion[3]\n",
    "    accuracy = np.average(accuracies)\n",
    "    print(\"Accuracy:\",accuracy)\n",
    "    print_confusion_matrix(tp,fn,fp,tn)\n",
    "    precision = tp/(tp+fp)\n",
    "    recall = tp/(tp + fn)\n",
    "    print(\"Precision: \",precision)\n",
    "    print(\"Recall:\",recall)\n",
    "\n",
    "def PrintMetrics(y_actual, y_pred):\n",
    "    tn = 0\n",
    "    tp = 0\n",
    "    fn = 0\n",
    "    fp = 0\n",
    "    accuracy = sk.metrics.accuracy_score(y_actual,y_pred)\n",
    "    confusion = get_confusion(y_actual,y_pred)\n",
    "    tn += confusion[0]\n",
    "    tp += confusion[1]\n",
    "    fn += confusion[2]\n",
    "    fp += confusion[3]\n",
    "    \n",
    "    print(\"Accuracy:\",accuracy)\n",
    "    print_confusion_matrix(tp,fn,fp,tn)\n",
    "    precision = tp/(tp+fp)\n",
    "    recall = tp/(tp + fn)\n",
    "    print(\"Precision: \",precision)\n",
    "    print(\"Recall:\",recall)\n",
    "    \n",
    "\n"
   ]
  },
  {
   "cell_type": "code",
   "execution_count": 24,
   "metadata": {},
   "outputs": [],
   "source": [
    "outputs = []\n"
   ]
  },
  {
   "cell_type": "code",
   "execution_count": 25,
   "metadata": {},
   "outputs": [
    {
     "name": "stdout",
     "output_type": "stream",
     "text": [
      "Chosen max_depth: 32\n",
      "Chosen min_samples_leaf: 1\n",
      "Chosen max_depth: 34\n",
      "Chosen min_samples_leaf: 1\n",
      "Chosen max_depth: 36\n",
      "Chosen min_samples_leaf: 1\n",
      "Chosen max_depth: 39\n",
      "Chosen min_samples_leaf: 1\n",
      "Chosen max_depth: 33\n",
      "Chosen min_samples_leaf: 5\n"
     ]
    }
   ],
   "source": [
    "\n",
    "\n",
    "#Random Forest\n",
    "from sklearn import model_selection\n",
    "from sklearn import ensemble\n",
    "param_grid = { # mess with these\n",
    "    \"max_depth\": list(range(30,40)),\n",
    "    \"min_samples_leaf\": list(range(1,6,2))\n",
    "}\n",
    "\n",
    "inner = sk.model_selection.GridSearchCV(sk.ensemble.RandomForestClassifier(),param_grid)\n",
    "kf = sk.model_selection.KFold(n_splits=5)\n",
    "actuals = []\n",
    "preds = []\n",
    "for i, (train_index, test_index) in enumerate(kf.split(X)):\n",
    "    X_train, X_test, Y_train, Y_test = X.iloc[train_index],X.iloc[test_index], Y.iloc[train_index], Y.iloc[test_index]\n",
    "    inner.fit(X_train,Y_train)\n",
    "    print(\"Chosen max_depth:\",inner.best_estimator_.get_params()[\"max_depth\"])\n",
    "    print(\"Chosen min_samples_leaf:\",inner.best_estimator_.get_params()[\"min_samples_leaf\"])\n",
    "    preds.append(inner.predict(X_test))\n",
    "    actuals.append(Y_test)\n",
    "outputs.append([\"Random Forest\",actuals,preds])\n",
    "\n",
    "\n"
   ]
  },
  {
   "cell_type": "code",
   "execution_count": null,
   "metadata": {},
   "outputs": [],
   "source": []
  },
  {
   "cell_type": "code",
   "execution_count": 26,
   "metadata": {},
   "outputs": [
    {
     "name": "stdout",
     "output_type": "stream",
     "text": [
      "Chosen n_estimators: 100\n",
      "Chosen n_estimators: 110\n",
      "Chosen n_estimators: 130\n",
      "Chosen n_estimators: 120\n",
      "Chosen n_estimators: 110\n"
     ]
    }
   ],
   "source": [
    "#ADA Boosting\n",
    "param_grid = {\n",
    "    'n_estimators': list(range(100,150,10)),\n",
    "}\n",
    "boost = sk.ensemble.AdaBoostClassifier(algorithm=\"SAMME\")\n",
    "inner = sk.model_selection.GridSearchCV(boost,param_grid,cv= 5)\n",
    "preds = []\n",
    "actuals = []\n",
    "for i, (train_index, test_index) in enumerate(kf.split(X)):\n",
    "    X_train, X_test, Y_train, Y_test = X.iloc[train_index],X.iloc[test_index], Y.iloc[train_index], Y.iloc[test_index]\n",
    "    inner.fit(X_train,Y_train)\n",
    "    print(\"Chosen n_estimators:\",inner.best_estimator_.get_params()[\"n_estimators\"])\n",
    "    preds.append(inner.predict(X_test))\n",
    "    actuals.append(Y_test)\n",
    "outputs.append([\"ADA Boosting\",actuals,preds])\n",
    "\n"
   ]
  },
  {
   "cell_type": "code",
   "execution_count": 27,
   "metadata": {},
   "outputs": [
    {
     "name": "stdout",
     "output_type": "stream",
     "text": [
      "Chosen n_components: 10\n",
      "Chosen kernel: rbf\n",
      "Chosen n_components: 10\n",
      "Chosen kernel: rbf\n",
      "Chosen n_components: 10\n",
      "Chosen kernel: rbf\n",
      "Chosen n_components: 10\n",
      "Chosen kernel: linear\n",
      "Chosen n_components: 11\n",
      "Chosen kernel: linear\n"
     ]
    }
   ],
   "source": [
    "#SVM\n",
    "scaler = sk.preprocessing.StandardScaler()\n",
    "pca = sk.decomposition.PCA()\n",
    "svc = sk.svm.SVC()\n",
    "pipe = sk.pipeline.Pipeline(steps=[(\"scaler\",scaler),(\"pca\",pca),(\"svc\",svc)])\n",
    "\n",
    "param_grid = {\n",
    "    'pca__n_components': list(range(10, 15)),\n",
    "    'svc__kernel': [\"linear\",\"rbf\"]\n",
    "}\n",
    "inner = sk.model_selection.GridSearchCV(pipe,param_grid, cv=5)\n",
    "preds = []\n",
    "actuals = []\n",
    "for i, (train_index, test_index) in enumerate(kf.split(X)):\n",
    "    X_train, X_test, Y_train, Y_test = X.iloc[train_index],X.iloc[test_index], Y.iloc[train_index], Y.iloc[test_index]\n",
    "    inner.fit(X_train,Y_train)\n",
    "    print(\"Chosen n_components:\",inner.best_estimator_.get_params()[\"pca__n_components\"])\n",
    "    print(\"Chosen kernel:\",inner.best_estimator_.get_params()[\"svc__kernel\"])\n",
    "\n",
    "    preds.append(inner.predict(X_test))\n",
    "    actuals.append(Y_test)\n",
    "outputs.append([\"SVM\",actuals,preds])\n"
   ]
  },
  {
   "cell_type": "code",
   "execution_count": 28,
   "metadata": {},
   "outputs": [
    {
     "name": "stdout",
     "output_type": "stream",
     "text": [
      "Chosen n_components: 11\n",
      "Chosen n_neighbors: 3\n",
      "Chosen n_components: 8\n",
      "Chosen n_neighbors: 4\n",
      "Chosen n_components: 11\n",
      "Chosen n_neighbors: 3\n",
      "Chosen n_components: 11\n",
      "Chosen n_neighbors: 3\n",
      "Chosen n_components: 11\n",
      "Chosen n_neighbors: 5\n"
     ]
    }
   ],
   "source": [
    "#Nearest Neighbor\n",
    "param_grid = { #mess with these\n",
    "    'pca__n_components': list(range(7,13)),\n",
    "    'knn__n_neighbors': list(range(3,7))\n",
    "}\n",
    "scaler = sk.preprocessing.StandardScaler()\n",
    "pca = sk.decomposition.PCA()\n",
    "knn = sk.neighbors.KNeighborsClassifier()\n",
    "pipe = sk.pipeline.Pipeline(steps=[(\"scaler\",scaler),(\"pca\",pca),(\"knn\",knn)])\n",
    "inner = sk.model_selection.GridSearchCV(pipe,param_grid, cv = 5)\n",
    "preds = []\n",
    "actuals = []\n",
    "for i, (train_index, test_index) in enumerate(kf.split(X)):\n",
    "    X_train, X_test, Y_train, Y_test = X.iloc[train_index],X.iloc[test_index], Y.iloc[train_index], Y.iloc[test_index]\n",
    "    inner.fit(X_train,Y_train)\n",
    "    print(\"Chosen n_components:\",inner.best_estimator_.get_params()[\"pca__n_components\"])\n",
    "    print(\"Chosen n_neighbors:\",inner.best_estimator_.get_params()[\"knn__n_neighbors\"])\n",
    "    preds.append(inner.predict(X_test))\n",
    "    actuals.append(Y_test)\n",
    "outputs.append([\"K Nearest Neighbor\",actuals,preds])\n",
    "\n"
   ]
  },
  {
   "cell_type": "code",
   "execution_count": 29,
   "metadata": {},
   "outputs": [
    {
     "name": "stdout",
     "output_type": "stream",
     "text": [
      "Chosen hidden_layer_sizes: (30,)\n",
      "Chosen activation: relu\n",
      "Chosen max_iter: 300\n",
      "Chosen hidden_layer_sizes: (60,)\n",
      "Chosen activation: tanh\n",
      "Chosen max_iter: 300\n",
      "Chosen hidden_layer_sizes: (30,)\n",
      "Chosen activation: logistic\n",
      "Chosen max_iter: 250\n",
      "Chosen hidden_layer_sizes: (60,)\n",
      "Chosen activation: logistic\n",
      "Chosen max_iter: 200\n",
      "Chosen hidden_layer_sizes: (50,)\n",
      "Chosen activation: logistic\n",
      "Chosen max_iter: 250\n"
     ]
    }
   ],
   "source": [
    "#Simple Neural Net\n",
    "from sklearn import neural_network\n",
    "scaler = sk.preprocessing.StandardScaler()\n",
    "nn = sk.neural_network.MLPClassifier(learning_rate=\"invscaling\",learning_rate_init=0.1)\n",
    "pipe = sk.pipeline.Pipeline(steps=[(\"scaler\",scaler),(\"nn\",nn)])\n",
    "param_grid = {\n",
    "    \"nn__hidden_layer_sizes\": [(30,),(40,),(50,),(60,),(70,),(80,)],\n",
    "    \"nn__activation\": [\"logistic\",\"tanh\",\"relu\"],\n",
    "    \"nn__max_iter\" : [200,250,300,350]\n",
    "}\n",
    "inner = sk.model_selection.GridSearchCV(pipe,param_grid, cv=5)\n",
    "preds = []\n",
    "actuals = []\n",
    "for i, (train_index, test_index) in enumerate(kf.split(X)):\n",
    "    X_train, X_test, Y_train, Y_test = X.iloc[train_index],X.iloc[test_index], Y.iloc[train_index], Y.iloc[test_index]\n",
    "    inner.fit(X_train,Y_train)\n",
    "    print(\"Chosen hidden_layer_sizes:\",inner.best_estimator_.get_params()[\"nn__hidden_layer_sizes\"])\n",
    "    print(\"Chosen activation:\",inner.best_estimator_.get_params()[\"nn__activation\"])\n",
    "    print(\"Chosen max_iter:\",inner.best_estimator_.get_params()[\"nn__max_iter\"])\n",
    "\n",
    "    preds.append(inner.predict(X_test))\n",
    "    actuals.append(Y_test)\n",
    "outputs.append([\"Neural Nets\",actuals,preds])\n",
    "\n"
   ]
  },
  {
   "cell_type": "code",
   "execution_count": 30,
   "metadata": {},
   "outputs": [
    {
     "name": "stdout",
     "output_type": "stream",
     "text": [
      "Metrics for Random Forest\n",
      "Accuracy: 0.9648657040832168\n"
     ]
    },
    {
     "data": {
      "text/html": [
       "<div>\n",
       "<style scoped>\n",
       "    .dataframe tbody tr th:only-of-type {\n",
       "        vertical-align: middle;\n",
       "    }\n",
       "\n",
       "    .dataframe tbody tr th {\n",
       "        vertical-align: top;\n",
       "    }\n",
       "\n",
       "    .dataframe thead th {\n",
       "        text-align: right;\n",
       "    }\n",
       "</style>\n",
       "<table border=\"1\" class=\"dataframe\">\n",
       "  <thead>\n",
       "    <tr style=\"text-align: right;\">\n",
       "      <th></th>\n",
       "      <th>Predicted 1</th>\n",
       "      <th>Predicted 0</th>\n",
       "    </tr>\n",
       "  </thead>\n",
       "  <tbody>\n",
       "    <tr>\n",
       "      <th>Actual 1</th>\n",
       "      <td>200</td>\n",
       "      <td>12</td>\n",
       "    </tr>\n",
       "    <tr>\n",
       "      <th>Actual 0</th>\n",
       "      <td>8</td>\n",
       "      <td>349</td>\n",
       "    </tr>\n",
       "  </tbody>\n",
       "</table>\n",
       "</div>"
      ],
      "text/plain": [
       "          Predicted 1  Predicted 0\n",
       "Actual 1          200           12\n",
       "Actual 0            8          349"
      ]
     },
     "metadata": {},
     "output_type": "display_data"
    },
    {
     "name": "stdout",
     "output_type": "stream",
     "text": [
      "Precision:  0.9615384615384616\n",
      "Recall: 0.9433962264150944\n",
      "\n",
      "Metrics for ADA Boosting\n",
      "Accuracy: 0.9718987734823784\n"
     ]
    },
    {
     "data": {
      "text/html": [
       "<div>\n",
       "<style scoped>\n",
       "    .dataframe tbody tr th:only-of-type {\n",
       "        vertical-align: middle;\n",
       "    }\n",
       "\n",
       "    .dataframe tbody tr th {\n",
       "        vertical-align: top;\n",
       "    }\n",
       "\n",
       "    .dataframe thead th {\n",
       "        text-align: right;\n",
       "    }\n",
       "</style>\n",
       "<table border=\"1\" class=\"dataframe\">\n",
       "  <thead>\n",
       "    <tr style=\"text-align: right;\">\n",
       "      <th></th>\n",
       "      <th>Predicted 1</th>\n",
       "      <th>Predicted 0</th>\n",
       "    </tr>\n",
       "  </thead>\n",
       "  <tbody>\n",
       "    <tr>\n",
       "      <th>Actual 1</th>\n",
       "      <td>201</td>\n",
       "      <td>11</td>\n",
       "    </tr>\n",
       "    <tr>\n",
       "      <th>Actual 0</th>\n",
       "      <td>5</td>\n",
       "      <td>352</td>\n",
       "    </tr>\n",
       "  </tbody>\n",
       "</table>\n",
       "</div>"
      ],
      "text/plain": [
       "          Predicted 1  Predicted 0\n",
       "Actual 1          201           11\n",
       "Actual 0            5          352"
      ]
     },
     "metadata": {},
     "output_type": "display_data"
    },
    {
     "name": "stdout",
     "output_type": "stream",
     "text": [
      "Precision:  0.9757281553398058\n",
      "Recall: 0.9481132075471698\n",
      "\n",
      "Metrics for SVM\n",
      "Accuracy: 0.9736531594472908\n"
     ]
    },
    {
     "data": {
      "text/html": [
       "<div>\n",
       "<style scoped>\n",
       "    .dataframe tbody tr th:only-of-type {\n",
       "        vertical-align: middle;\n",
       "    }\n",
       "\n",
       "    .dataframe tbody tr th {\n",
       "        vertical-align: top;\n",
       "    }\n",
       "\n",
       "    .dataframe thead th {\n",
       "        text-align: right;\n",
       "    }\n",
       "</style>\n",
       "<table border=\"1\" class=\"dataframe\">\n",
       "  <thead>\n",
       "    <tr style=\"text-align: right;\">\n",
       "      <th></th>\n",
       "      <th>Predicted 1</th>\n",
       "      <th>Predicted 0</th>\n",
       "    </tr>\n",
       "  </thead>\n",
       "  <tbody>\n",
       "    <tr>\n",
       "      <th>Actual 1</th>\n",
       "      <td>203</td>\n",
       "      <td>9</td>\n",
       "    </tr>\n",
       "    <tr>\n",
       "      <th>Actual 0</th>\n",
       "      <td>6</td>\n",
       "      <td>351</td>\n",
       "    </tr>\n",
       "  </tbody>\n",
       "</table>\n",
       "</div>"
      ],
      "text/plain": [
       "          Predicted 1  Predicted 0\n",
       "Actual 1          203            9\n",
       "Actual 0            6          351"
      ]
     },
     "metadata": {},
     "output_type": "display_data"
    },
    {
     "name": "stdout",
     "output_type": "stream",
     "text": [
      "Precision:  0.9712918660287081\n",
      "Recall: 0.9575471698113207\n",
      "\n",
      "Metrics for K Nearest Neighbor\n",
      "Accuracy: 0.9666356155876417\n"
     ]
    },
    {
     "data": {
      "text/html": [
       "<div>\n",
       "<style scoped>\n",
       "    .dataframe tbody tr th:only-of-type {\n",
       "        vertical-align: middle;\n",
       "    }\n",
       "\n",
       "    .dataframe tbody tr th {\n",
       "        vertical-align: top;\n",
       "    }\n",
       "\n",
       "    .dataframe thead th {\n",
       "        text-align: right;\n",
       "    }\n",
       "</style>\n",
       "<table border=\"1\" class=\"dataframe\">\n",
       "  <thead>\n",
       "    <tr style=\"text-align: right;\">\n",
       "      <th></th>\n",
       "      <th>Predicted 1</th>\n",
       "      <th>Predicted 0</th>\n",
       "    </tr>\n",
       "  </thead>\n",
       "  <tbody>\n",
       "    <tr>\n",
       "      <th>Actual 1</th>\n",
       "      <td>196</td>\n",
       "      <td>16</td>\n",
       "    </tr>\n",
       "    <tr>\n",
       "      <th>Actual 0</th>\n",
       "      <td>3</td>\n",
       "      <td>354</td>\n",
       "    </tr>\n",
       "  </tbody>\n",
       "</table>\n",
       "</div>"
      ],
      "text/plain": [
       "          Predicted 1  Predicted 0\n",
       "Actual 1          196           16\n",
       "Actual 0            3          354"
      ]
     },
     "metadata": {},
     "output_type": "display_data"
    },
    {
     "name": "stdout",
     "output_type": "stream",
     "text": [
      "Precision:  0.9849246231155779\n",
      "Recall: 0.9245283018867925\n",
      "\n",
      "Metrics for Neural Nets\n",
      "Accuracy: 0.9718987734823784\n"
     ]
    },
    {
     "data": {
      "text/html": [
       "<div>\n",
       "<style scoped>\n",
       "    .dataframe tbody tr th:only-of-type {\n",
       "        vertical-align: middle;\n",
       "    }\n",
       "\n",
       "    .dataframe tbody tr th {\n",
       "        vertical-align: top;\n",
       "    }\n",
       "\n",
       "    .dataframe thead th {\n",
       "        text-align: right;\n",
       "    }\n",
       "</style>\n",
       "<table border=\"1\" class=\"dataframe\">\n",
       "  <thead>\n",
       "    <tr style=\"text-align: right;\">\n",
       "      <th></th>\n",
       "      <th>Predicted 1</th>\n",
       "      <th>Predicted 0</th>\n",
       "    </tr>\n",
       "  </thead>\n",
       "  <tbody>\n",
       "    <tr>\n",
       "      <th>Actual 1</th>\n",
       "      <td>204</td>\n",
       "      <td>8</td>\n",
       "    </tr>\n",
       "    <tr>\n",
       "      <th>Actual 0</th>\n",
       "      <td>8</td>\n",
       "      <td>349</td>\n",
       "    </tr>\n",
       "  </tbody>\n",
       "</table>\n",
       "</div>"
      ],
      "text/plain": [
       "          Predicted 1  Predicted 0\n",
       "Actual 1          204            8\n",
       "Actual 0            8          349"
      ]
     },
     "metadata": {},
     "output_type": "display_data"
    },
    {
     "name": "stdout",
     "output_type": "stream",
     "text": [
      "Precision:  0.9622641509433962\n",
      "Recall: 0.9622641509433962\n",
      "\n"
     ]
    }
   ],
   "source": [
    "for output in outputs:\n",
    "    print(\"Metrics for\",output[0])\n",
    "    PrintMetrics_list(output[1],output[2])\n",
    "    print()"
   ]
  },
  {
   "cell_type": "code",
   "execution_count": 31,
   "metadata": {},
   "outputs": [],
   "source": [
    "## save model here?"
   ]
  }
 ],
 "metadata": {
  "kernelspec": {
   "display_name": "Python 3 (ipykernel)",
   "language": "python",
   "name": "python3"
  },
  "language_info": {
   "codemirror_mode": {
    "name": "ipython",
    "version": 3
   },
   "file_extension": ".py",
   "mimetype": "text/x-python",
   "name": "python",
   "nbconvert_exporter": "python",
   "pygments_lexer": "ipython3",
   "version": "3.11.5"
  }
 },
 "nbformat": 4,
 "nbformat_minor": 2
}
