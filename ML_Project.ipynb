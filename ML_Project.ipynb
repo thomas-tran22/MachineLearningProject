{
 "cells": [
  {
   "cell_type": "code",
   "execution_count": 36,
   "metadata": {},
   "outputs": [],
   "source": [
    "\n",
    "import pandas as pd\n",
    "import numpy as np\n",
    "import sklearn as sk\n",
    "import matplotlib.pyplot as plt\n",
    "import time\n",
    "import sklearn.pipeline\n",
    "%matplotlib inline\n"
   ]
  },
  {
   "cell_type": "markdown",
   "metadata": {},
   "source": [
    "Read in the Data "
   ]
  },
  {
   "cell_type": "code",
   "execution_count": 37,
   "metadata": {},
   "outputs": [
    {
     "data": {
      "text/html": [
       "<div>\n",
       "<style scoped>\n",
       "    .dataframe tbody tr th:only-of-type {\n",
       "        vertical-align: middle;\n",
       "    }\n",
       "\n",
       "    .dataframe tbody tr th {\n",
       "        vertical-align: top;\n",
       "    }\n",
       "\n",
       "    .dataframe thead th {\n",
       "        text-align: right;\n",
       "    }\n",
       "</style>\n",
       "<table border=\"1\" class=\"dataframe\">\n",
       "  <thead>\n",
       "    <tr style=\"text-align: right;\">\n",
       "      <th></th>\n",
       "      <th>radius_mean</th>\n",
       "      <th>texture_mean</th>\n",
       "      <th>perimeter_mean</th>\n",
       "      <th>area_mean</th>\n",
       "      <th>smoothness_mean</th>\n",
       "      <th>compactness_mean</th>\n",
       "      <th>concavity_mean</th>\n",
       "      <th>concave points_mean</th>\n",
       "      <th>symmetry_mean</th>\n",
       "      <th>fractal_dimension_mean</th>\n",
       "      <th>...</th>\n",
       "      <th>radius_worst</th>\n",
       "      <th>texture_worst</th>\n",
       "      <th>perimeter_worst</th>\n",
       "      <th>area_worst</th>\n",
       "      <th>smoothness_worst</th>\n",
       "      <th>compactness_worst</th>\n",
       "      <th>concavity_worst</th>\n",
       "      <th>concave points_worst</th>\n",
       "      <th>symmetry_worst</th>\n",
       "      <th>fractal_dimension_worst</th>\n",
       "    </tr>\n",
       "  </thead>\n",
       "  <tbody>\n",
       "    <tr>\n",
       "      <th>128</th>\n",
       "      <td>15.10</td>\n",
       "      <td>16.39</td>\n",
       "      <td>99.58</td>\n",
       "      <td>674.5</td>\n",
       "      <td>0.11500</td>\n",
       "      <td>0.18070</td>\n",
       "      <td>0.11380</td>\n",
       "      <td>0.08534</td>\n",
       "      <td>0.2001</td>\n",
       "      <td>0.06467</td>\n",
       "      <td>...</td>\n",
       "      <td>16.11</td>\n",
       "      <td>18.33</td>\n",
       "      <td>105.90</td>\n",
       "      <td>762.6</td>\n",
       "      <td>0.13860</td>\n",
       "      <td>0.28830</td>\n",
       "      <td>0.1960</td>\n",
       "      <td>0.14230</td>\n",
       "      <td>0.2590</td>\n",
       "      <td>0.07779</td>\n",
       "    </tr>\n",
       "    <tr>\n",
       "      <th>287</th>\n",
       "      <td>12.89</td>\n",
       "      <td>13.12</td>\n",
       "      <td>81.89</td>\n",
       "      <td>515.9</td>\n",
       "      <td>0.06955</td>\n",
       "      <td>0.03729</td>\n",
       "      <td>0.02260</td>\n",
       "      <td>0.01171</td>\n",
       "      <td>0.1337</td>\n",
       "      <td>0.05581</td>\n",
       "      <td>...</td>\n",
       "      <td>13.62</td>\n",
       "      <td>15.54</td>\n",
       "      <td>87.40</td>\n",
       "      <td>577.0</td>\n",
       "      <td>0.09616</td>\n",
       "      <td>0.11470</td>\n",
       "      <td>0.1186</td>\n",
       "      <td>0.05366</td>\n",
       "      <td>0.2309</td>\n",
       "      <td>0.06915</td>\n",
       "    </tr>\n",
       "    <tr>\n",
       "      <th>448</th>\n",
       "      <td>14.53</td>\n",
       "      <td>19.34</td>\n",
       "      <td>94.25</td>\n",
       "      <td>659.7</td>\n",
       "      <td>0.08388</td>\n",
       "      <td>0.07800</td>\n",
       "      <td>0.08817</td>\n",
       "      <td>0.02925</td>\n",
       "      <td>0.1473</td>\n",
       "      <td>0.05746</td>\n",
       "      <td>...</td>\n",
       "      <td>16.30</td>\n",
       "      <td>28.39</td>\n",
       "      <td>108.10</td>\n",
       "      <td>830.5</td>\n",
       "      <td>0.10890</td>\n",
       "      <td>0.26490</td>\n",
       "      <td>0.3779</td>\n",
       "      <td>0.09594</td>\n",
       "      <td>0.2471</td>\n",
       "      <td>0.07463</td>\n",
       "    </tr>\n",
       "    <tr>\n",
       "      <th>102</th>\n",
       "      <td>12.18</td>\n",
       "      <td>20.52</td>\n",
       "      <td>77.22</td>\n",
       "      <td>458.7</td>\n",
       "      <td>0.08013</td>\n",
       "      <td>0.04038</td>\n",
       "      <td>0.02383</td>\n",
       "      <td>0.01770</td>\n",
       "      <td>0.1739</td>\n",
       "      <td>0.05677</td>\n",
       "      <td>...</td>\n",
       "      <td>13.34</td>\n",
       "      <td>32.84</td>\n",
       "      <td>84.58</td>\n",
       "      <td>547.8</td>\n",
       "      <td>0.11230</td>\n",
       "      <td>0.08862</td>\n",
       "      <td>0.1145</td>\n",
       "      <td>0.07431</td>\n",
       "      <td>0.2694</td>\n",
       "      <td>0.06878</td>\n",
       "    </tr>\n",
       "    <tr>\n",
       "      <th>236</th>\n",
       "      <td>23.21</td>\n",
       "      <td>26.97</td>\n",
       "      <td>153.50</td>\n",
       "      <td>1670.0</td>\n",
       "      <td>0.09509</td>\n",
       "      <td>0.16820</td>\n",
       "      <td>0.19500</td>\n",
       "      <td>0.12370</td>\n",
       "      <td>0.1909</td>\n",
       "      <td>0.06309</td>\n",
       "      <td>...</td>\n",
       "      <td>31.01</td>\n",
       "      <td>34.51</td>\n",
       "      <td>206.00</td>\n",
       "      <td>2944.0</td>\n",
       "      <td>0.14810</td>\n",
       "      <td>0.41260</td>\n",
       "      <td>0.5820</td>\n",
       "      <td>0.25930</td>\n",
       "      <td>0.3103</td>\n",
       "      <td>0.08677</td>\n",
       "    </tr>\n",
       "  </tbody>\n",
       "</table>\n",
       "<p>5 rows × 30 columns</p>\n",
       "</div>"
      ],
      "text/plain": [
       "     radius_mean  texture_mean  perimeter_mean  area_mean  smoothness_mean  \\\n",
       "128        15.10         16.39           99.58      674.5          0.11500   \n",
       "287        12.89         13.12           81.89      515.9          0.06955   \n",
       "448        14.53         19.34           94.25      659.7          0.08388   \n",
       "102        12.18         20.52           77.22      458.7          0.08013   \n",
       "236        23.21         26.97          153.50     1670.0          0.09509   \n",
       "\n",
       "     compactness_mean  concavity_mean  concave points_mean  symmetry_mean  \\\n",
       "128           0.18070         0.11380              0.08534         0.2001   \n",
       "287           0.03729         0.02260              0.01171         0.1337   \n",
       "448           0.07800         0.08817              0.02925         0.1473   \n",
       "102           0.04038         0.02383              0.01770         0.1739   \n",
       "236           0.16820         0.19500              0.12370         0.1909   \n",
       "\n",
       "     fractal_dimension_mean  ...  radius_worst  texture_worst  \\\n",
       "128                 0.06467  ...         16.11          18.33   \n",
       "287                 0.05581  ...         13.62          15.54   \n",
       "448                 0.05746  ...         16.30          28.39   \n",
       "102                 0.05677  ...         13.34          32.84   \n",
       "236                 0.06309  ...         31.01          34.51   \n",
       "\n",
       "     perimeter_worst  area_worst  smoothness_worst  compactness_worst  \\\n",
       "128           105.90       762.6           0.13860            0.28830   \n",
       "287            87.40       577.0           0.09616            0.11470   \n",
       "448           108.10       830.5           0.10890            0.26490   \n",
       "102            84.58       547.8           0.11230            0.08862   \n",
       "236           206.00      2944.0           0.14810            0.41260   \n",
       "\n",
       "     concavity_worst  concave points_worst  symmetry_worst  \\\n",
       "128           0.1960               0.14230          0.2590   \n",
       "287           0.1186               0.05366          0.2309   \n",
       "448           0.3779               0.09594          0.2471   \n",
       "102           0.1145               0.07431          0.2694   \n",
       "236           0.5820               0.25930          0.3103   \n",
       "\n",
       "     fractal_dimension_worst  \n",
       "128                  0.07779  \n",
       "287                  0.06915  \n",
       "448                  0.07463  \n",
       "102                  0.06878  \n",
       "236                  0.08677  \n",
       "\n",
       "[5 rows x 30 columns]"
      ]
     },
     "execution_count": 37,
     "metadata": {},
     "output_type": "execute_result"
    }
   ],
   "source": [
    "data = pd.read_csv(\"breast-cancer.csv\")\n",
    "data = data.drop(\"id\", axis = 1)\n",
    "data = data.replace({\"M\",\"B\"},{1,0})\n",
    "data = data.sample(frac=1)\n",
    "Y = data[\"diagnosis\"]\n",
    "X = data.drop(\"diagnosis\",axis = 1)\n",
    "X.head()\n",
    "\n",
    "\n"
   ]
  },
  {
   "cell_type": "code",
   "execution_count": 38,
   "metadata": {},
   "outputs": [
    {
     "data": {
      "text/plain": [
       "0"
      ]
     },
     "execution_count": 38,
     "metadata": {},
     "output_type": "execute_result"
    }
   ],
   "source": [
    "# check for null values \n",
    "data.isnull().sum().sum()"
   ]
  },
  {
   "cell_type": "code",
   "execution_count": 39,
   "metadata": {},
   "outputs": [
    {
     "data": {
      "image/png": "[encoded data removed]",
      "text/plain": [
       "<Figure size 640x480 with 1 Axes>"
      ]
     },
     "metadata": {},
     "output_type": "display_data"
    }
   ],
   "source": [
    "### Add preprocessing here (or inside the pipes)\n",
    "## looking for outliers wit DBSCAN \n",
    "## finding besteps \n",
    "from sklearn.preprocessing import StandardScaler\n",
    "from sklearn.decomposition import PCA\n",
    "from sklearn.neighbors import NearestNeighbors\n",
    "scaler = StandardScaler()\n",
    "pca = PCA(n_components=0.95, svd_solver=\"full\")\n",
    "processed_data = pd.DataFrame(pca.fit_transform(scaler.fit_transform(X))) # scales and reduces dimension of data to improve distance based models\n",
    "nn = NearestNeighbors(n_neighbors=4)\n",
    "nn.fit(processed_data)\n",
    "distance_matrix = nn.kneighbors(processed_data)[0]\n",
    "distances = np.sort(distance_matrix[:,3])\n",
    "plt.plot(distances)\n",
    "plt.hlines(y=4, xmin=0, xmax=550)\n",
    "# best eps around 3.75\n",
    "plt.show()"
   ]
  },
  {
   "cell_type": "code",
   "execution_count": 40,
   "metadata": {},
   "outputs": [
    {
     "name": "stdout",
     "output_type": "stream",
     "text": [
      "Estimated no. of clusters: 2\n",
      "Estimated no. of noise points: 31\n"
     ]
    },
    {
     "data": {
      "image/png": "[encoded data removed]",
      "text/plain": [
       "<Figure size 640x480 with 1 Axes>"
      ]
     },
     "metadata": {},
     "output_type": "display_data"
    }
   ],
   "source": [
    "from sklearn.cluster import DBSCAN\n",
    "\n",
    "db = DBSCAN(eps=4, min_samples=4).fit(processed_data)\n",
    "labels = db.labels_\n",
    "no_clusters = len(np.unique(labels))\n",
    "no_noise = np.sum(np.array(labels) == -1, axis=0)\n",
    "print('Estimated no. of clusters: %d' % no_clusters)\n",
    "print('Estimated no. of noise points: %d' % no_noise)\n",
    "\n",
    "for label in np.unique(labels):\n",
    "    if label == -1:\n",
    "        plt.scatter(processed_data.loc[labels == label, 0], processed_data.loc[labels == label, 1], \n",
    "                    marker='o', label='Outliers', alpha=0.5)\n",
    "    else:\n",
    "        plt.scatter(processed_data.loc[labels == label, 0], processed_data.loc[labels == label, 1], \n",
    "                    marker='.', label=f'Cluster {label + 1}')\n",
    "\n",
    "plt.xlabel('PCA Component 1')\n",
    "plt.ylabel('PCA Component 2')\n",
    "plt.title('DBSCAN Clustering')\n",
    "plt.legend()\n",
    "plt.show()\n"
   ]
  },
  {
   "cell_type": "code",
   "execution_count": 41,
   "metadata": {},
   "outputs": [
    {
     "name": "stderr",
     "output_type": "stream",
     "text": [
      "/u/ajimenea/.local/lib/python3.8/site-packages/sklearn/cluster/_kmeans.py:1416: FutureWarning: The default value of `n_init` will change from 10 to 'auto' in 1.4. Set the value of `n_init` explicitly to suppress the warning\n",
      "  super()._check_params_vs_input(X, default_n_init=10)\n"
     ]
    },
    {
     "data": {
      "image/png": "[encoded data removed]",
      "text/plain": [
       "<Figure size 640x480 with 1 Axes>"
      ]
     },
     "metadata": {},
     "output_type": "display_data"
    }
   ],
   "source": [
    "from sklearn.cluster import KMeans\n",
    "# from sklearn.preprocessing import StandardScaler\n",
    "from sklearn.neighbors import LocalOutlierFactor\n",
    "# import matplotlib.pyplot as plt\n",
    "# import numpy as np\n",
    "\n",
    "# Detect outliers using Local Outlier Factor\n",
    "scaler = StandardScaler()\n",
    "X_scaled = scaler.fit_transform(X)\n",
    "lof = LocalOutlierFactor(n_neighbors=20, contamination='auto')\n",
    "outlier_labels = lof.fit_predict(X_scaled)\n",
    "\n",
    "\n",
    "inliers = X_scaled[outlier_labels == 1]\n",
    "outliers = X_scaled[outlier_labels == -1]\n",
    "\n",
    "# Perform KMeans clustering on the original scaled data\n",
    "kmeans = KMeans(n_clusters=2, random_state=42)\n",
    "kmeans.fit(inliers)\n",
    "labels = kmeans.labels_\n",
    "\n",
    "pca = PCA(n_components=2).fit(inliers)\n",
    "inliers_PCA = pca.transform(inliers)\n",
    "outliers_PCA = pca.transform(outliers)\n",
    "\n",
    "\n",
    "\n",
    "plt.scatter(inliers_PCA[:, 0], inliers_PCA[:, 1], c=labels, cmap='viridis', label='Inliers')\n",
    "plt.scatter(outliers_PCA[:, 0], outliers_PCA[:, 1], c='red', marker='x', label='Outliers')\n",
    "plt.legend()\n",
    "plt.show()"
   ]
  },
  {
   "cell_type": "code",
   "execution_count": 42,
   "metadata": {},
   "outputs": [],
   "source": [
    "# Print metrics\n",
    "from sklearn import metrics\n",
    "\n",
    "# Using the code for calculating and printing \n",
    "# the confusion matrix from Assignment 3\n",
    "def get_confusion(test_data, results):\n",
    "    TN = 0\n",
    "    TP = 0\n",
    "    FN = 0\n",
    "    FP = 0\n",
    "    for i in range(len(test_data)):\n",
    "        expected = test_data[i]\n",
    "        if(expected):\n",
    "            if (results[i]):\n",
    "                TP += 1\n",
    "            else:\n",
    "                FN += 1\n",
    "        else:\n",
    "            if (results[i]): #is neg guessed pos\n",
    "                FP += 1\n",
    "            else: \n",
    "                TN += 1\n",
    "\n",
    "\n",
    "\n",
    "    return TN, TP, FN, FP \n",
    "\n",
    "def print_confusion_matrix(TP, FN, FP, TN):\n",
    "    \n",
    "    table_data = [[TP,FN],[FP,TN]]\n",
    "    df = pd.DataFrame(table_data, columns =['Predicted 1','Predicted 0'])\n",
    "    df = df.rename(index={0: 'Actual 1', 1: 'Actual 0'})\n",
    "    display(df)\n",
    "\n",
    "# takes in a list of predicted values and test sets for each fold of crossvalidation\n",
    "def PrintMetrics_list(y_actual, y_pred):\n",
    "    accuracies = []\n",
    "    tn = 0\n",
    "    tp = 0\n",
    "    fn = 0\n",
    "    fp = 0\n",
    "    loops = len(y_pred)\n",
    "    for i in range(loops):\n",
    "        accuracies.append(sk.metrics.accuracy_score(y_actual[i],y_pred[i]))\n",
    "        confusion = get_confusion(list(y_actual[i]),list(y_pred[i]))\n",
    "        tn += confusion[0]\n",
    "        tp += confusion[1]\n",
    "        fn += confusion[2]\n",
    "        fp += confusion[3]\n",
    "    accuracy = np.average(accuracies)\n",
    "    print(\"Accuracy:\",accuracy)\n",
    "    print_confusion_matrix(tp,fn,fp,tn)\n",
    "    precision = tp/(tp+fp)\n",
    "    recall = tp/(tp + fn)\n",
    "    print(\"Precision: \",precision)\n",
    "    print(\"Recall:\",recall)\n",
    "\n",
    "def PrintMetrics(y_actual, y_pred):\n",
    "    tn = 0\n",
    "    tp = 0\n",
    "    fn = 0\n",
    "    fp = 0\n",
    "    accuracy = sk.metrics.accuracy_score(y_actual,y_pred)\n",
    "    confusion = get_confusion(y_actual,y_pred)\n",
    "    tn += confusion[0]\n",
    "    tp += confusion[1]\n",
    "    fn += confusion[2]\n",
    "    fp += confusion[3]\n",
    "    \n",
    "    print(\"Accuracy:\",accuracy)\n",
    "    print_confusion_matrix(tp,fn,fp,tn)\n",
    "    precision = tp/(tp+fp)\n",
    "    recall = tp/(tp + fn)\n",
    "    print(\"Precision: \",precision)\n",
    "    print(\"Recall:\",recall)\n",
    "    \n",
    "\n"
   ]
  },
  {
   "cell_type": "code",
   "execution_count": 43,
   "metadata": {},
   "outputs": [],
   "source": [
    "outputs = []\n"
   ]
  },
  {
   "cell_type": "code",
   "execution_count": 44,
   "metadata": {},
   "outputs": [
    {
     "name": "stdout",
     "output_type": "stream",
     "text": [
      "Chosen max_depth: 29\n",
      "Chosen min_samples_leaf: 1\n",
      "Chosen max_depth: 29\n",
      "Chosen min_samples_leaf: 1\n",
      "Chosen max_depth: 29\n",
      "Chosen min_samples_leaf: 1\n",
      "Chosen max_depth: 29\n",
      "Chosen min_samples_leaf: 1\n",
      "Chosen max_depth: 29\n",
      "Chosen min_samples_leaf: 1\n"
     ]
    }
   ],
   "source": [
    "#Random Forest\n",
    "from sklearn import model_selection\n",
    "from sklearn import ensemble\n",
    "param_grid = { # mess with these\n",
    "    \"max_depth\": [29],\n",
    "    \"min_samples_leaf\": [1]\n",
    "}\n",
    "\n",
    "inner = sk.model_selection.GridSearchCV(sk.ensemble.RandomForestClassifier(),param_grid)\n",
    "kf = sk.model_selection.KFold(n_splits=5)\n",
    "actuals = []\n",
    "preds = []\n",
    "for i, (train_index, test_index) in enumerate(kf.split(X)):\n",
    "    X_train, X_test, Y_train, Y_test = X.iloc[train_index],X.iloc[test_index], Y.iloc[train_index], Y.iloc[test_index]\n",
    "    inner.fit(X_train,Y_train)\n",
    "    print(\"Chosen max_depth:\",inner.best_estimator_.get_params()[\"max_depth\"])\n",
    "    print(\"Chosen min_samples_leaf:\",inner.best_estimator_.get_params()[\"min_samples_leaf\"])\n",
    "    preds.append(inner.predict(X_test))\n",
    "    actuals.append(Y_test)\n",
    "outputs.append([\"Random Forest\",actuals,preds])\n",
    "\n",
    "\n"
   ]
  },
  {
   "cell_type": "code",
   "execution_count": 45,
   "metadata": {},
   "outputs": [
    {
     "name": "stdout",
     "output_type": "stream",
     "text": [
      "Chosen n_estimators: 70\n",
      "Chosen n_estimators: 70\n",
      "Chosen n_estimators: 70\n",
      "Chosen n_estimators: 70\n",
      "Chosen n_estimators: 70\n"
     ]
    }
   ],
   "source": [
    "#ADA Boosting\n",
    "param_grid = {\n",
    "    'n_estimators': [70],\n",
    "}\n",
    "boost = sk.ensemble.AdaBoostClassifier(algorithm=\"SAMME\")\n",
    "inner = sk.model_selection.GridSearchCV(boost,param_grid,cv= 5)\n",
    "preds = []\n",
    "actuals = []\n",
    "for i, (train_index, test_index) in enumerate(kf.split(X)):\n",
    "    X_train, X_test, Y_train, Y_test = X.iloc[train_index],X.iloc[test_index], Y.iloc[train_index], Y.iloc[test_index]\n",
    "    inner.fit(X_train,Y_train)\n",
    "    print(\"Chosen n_estimators:\",inner.best_estimator_.get_params()[\"n_estimators\"])\n",
    "    preds.append(inner.predict(X_test))\n",
    "    actuals.append(Y_test)\n",
    "outputs.append([\"ADA Boosting\",actuals,preds])\n",
    "\n"
   ]
  },
  {
   "cell_type": "code",
   "execution_count": 46,
   "metadata": {},
   "outputs": [
    {
     "name": "stdout",
     "output_type": "stream",
     "text": [
      "Chosen n_components: 9\n",
      "Chosen kernel: linear\n",
      "Chosen n_components: 9\n",
      "Chosen kernel: linear\n",
      "Chosen n_components: 9\n",
      "Chosen kernel: linear\n",
      "Chosen n_components: 9\n",
      "Chosen kernel: linear\n",
      "Chosen n_components: 9\n",
      "Chosen kernel: linear\n"
     ]
    }
   ],
   "source": [
    "#SVM\n",
    "scaler = sk.preprocessing.StandardScaler()\n",
    "pca = sk.decomposition.PCA()\n",
    "svc = sk.svm.SVC()\n",
    "pipe = sk.pipeline.Pipeline(steps=[(\"scaler\",scaler),(\"pca\",pca),(\"svc\",svc)])\n",
    "\n",
    "param_grid = {\n",
    "    'pca__n_components': [9],\n",
    "    'svc__kernel': [\"linear\"]\n",
    "}\n",
    "inner = sk.model_selection.GridSearchCV(pipe,param_grid, cv=5)\n",
    "preds = []\n",
    "actuals = []\n",
    "for i, (train_index, test_index) in enumerate(kf.split(X)):\n",
    "    X_train, X_test, Y_train, Y_test = X.iloc[train_index],X.iloc[test_index], Y.iloc[train_index], Y.iloc[test_index]\n",
    "    inner.fit(X_train,Y_train)\n",
    "    print(\"Chosen n_components:\",inner.best_estimator_.get_params()[\"pca__n_components\"])\n",
    "    print(\"Chosen kernel:\",inner.best_estimator_.get_params()[\"svc__kernel\"])\n",
    "\n",
    "    preds.append(inner.predict(X_test))\n",
    "    actuals.append(Y_test)\n",
    "outputs.append([\"SVM\",actuals,preds])\n"
   ]
  },
  {
   "cell_type": "code",
   "execution_count": 47,
   "metadata": {},
   "outputs": [
    {
     "name": "stdout",
     "output_type": "stream",
     "text": [
      "Chosen n_components: 11\n",
      "Chosen n_neighbors: 5\n",
      "Chosen n_components: 11\n",
      "Chosen n_neighbors: 5\n",
      "Chosen n_components: 11\n",
      "Chosen n_neighbors: 5\n",
      "Chosen n_components: 11\n",
      "Chosen n_neighbors: 5\n",
      "Chosen n_components: 11\n",
      "Chosen n_neighbors: 5\n"
     ]
    }
   ],
   "source": [
    "#Nearest Neighbor\n",
    "param_grid = { #mess with these\n",
    "    'pca__n_components': [11],\n",
    "    'knn__n_neighbors': [5]\n",
    "}\n",
    "scaler = sk.preprocessing.StandardScaler()\n",
    "pca = sk.decomposition.PCA()\n",
    "knn = sk.neighbors.KNeighborsClassifier()\n",
    "pipe = sk.pipeline.Pipeline(steps=[(\"scaler\",scaler),(\"pca\",pca),(\"knn\",knn)])\n",
    "inner = sk.model_selection.GridSearchCV(pipe,param_grid, cv = 5)\n",
    "preds = []\n",
    "actuals = []\n",
    "for i, (train_index, test_index) in enumerate(kf.split(X)):\n",
    "    X_train, X_test, Y_train, Y_test = X.iloc[train_index],X.iloc[test_index], Y.iloc[train_index], Y.iloc[test_index]\n",
    "    inner.fit(X_train,Y_train)\n",
    "    print(\"Chosen n_components:\",inner.best_estimator_.get_params()[\"pca__n_components\"])\n",
    "    print(\"Chosen n_neighbors:\",inner.best_estimator_.get_params()[\"knn__n_neighbors\"])\n",
    "    preds.append(inner.predict(X_test))\n",
    "    actuals.append(Y_test)\n",
    "outputs.append([\"K Nearest Neighbor\",actuals,preds])\n",
    "\n"
   ]
  },
  {
   "cell_type": "code",
   "execution_count": 48,
   "metadata": {},
   "outputs": [
    {
     "name": "stdout",
     "output_type": "stream",
     "text": [
      "Chosen hidden_layer_sizes: (60,)\n",
      "Chosen activation: tanh\n",
      "Chosen max_iter: 200\n",
      "Chosen hidden_layer_sizes: (60,)\n",
      "Chosen activation: tanh\n",
      "Chosen max_iter: 200\n",
      "Chosen hidden_layer_sizes: (60,)\n",
      "Chosen activation: tanh\n",
      "Chosen max_iter: 200\n",
      "Chosen hidden_layer_sizes: (60,)\n",
      "Chosen activation: tanh\n",
      "Chosen max_iter: 200\n",
      "Chosen hidden_layer_sizes: (60,)\n",
      "Chosen activation: tanh\n",
      "Chosen max_iter: 200\n"
     ]
    }
   ],
   "source": [
    "#Simple Neural Net\n",
    "from sklearn import neural_network\n",
    "scaler = sk.preprocessing.StandardScaler()\n",
    "nn = sk.neural_network.MLPClassifier(learning_rate=\"invscaling\",learning_rate_init=0.1)\n",
    "pipe = sk.pipeline.Pipeline(steps=[(\"scaler\",scaler),(\"nn\",nn)])\n",
    "param_grid = {\n",
    "    \"nn__hidden_layer_sizes\": [(60,)],\n",
    "    \"nn__activation\": [\"tanh\"],\n",
    "    \"nn__max_iter\" : [200]\n",
    "}\n",
    "inner = sk.model_selection.GridSearchCV(pipe,param_grid, cv=5)\n",
    "preds = []\n",
    "actuals = []\n",
    "for i, (train_index, test_index) in enumerate(kf.split(X)):\n",
    "    X_train, X_test, Y_train, Y_test = X.iloc[train_index],X.iloc[test_index], Y.iloc[train_index], Y.iloc[test_index]\n",
    "    inner.fit(X_train,Y_train)\n",
    "    print(\"Chosen hidden_layer_sizes:\",inner.best_estimator_.get_params()[\"nn__hidden_layer_sizes\"])\n",
    "    print(\"Chosen activation:\",inner.best_estimator_.get_params()[\"nn__activation\"])\n",
    "    print(\"Chosen max_iter:\",inner.best_estimator_.get_params()[\"nn__max_iter\"])\n",
    "\n",
    "    preds.append(inner.predict(X_test))\n",
    "    actuals.append(Y_test)\n",
    "outputs.append([\"Neural Nets\",actuals,preds])\n",
    "\n"
   ]
  },
  {
   "cell_type": "code",
   "execution_count": 49,
   "metadata": {},
   "outputs": [
    {
     "name": "stdout",
     "output_type": "stream",
     "text": [
      "Metrics for Random Forest\n",
      "Accuracy: 0.9578481602235678\n"
     ]
    },
    {
     "data": {
      "text/html": [
       "<div>\n",
       "<style scoped>\n",
       "    .dataframe tbody tr th:only-of-type {\n",
       "        vertical-align: middle;\n",
       "    }\n",
       "\n",
       "    .dataframe tbody tr th {\n",
       "        vertical-align: top;\n",
       "    }\n",
       "\n",
       "    .dataframe thead th {\n",
       "        text-align: right;\n",
       "    }\n",
       "</style>\n",
       "<table border=\"1\" class=\"dataframe\">\n",
       "  <thead>\n",
       "    <tr style=\"text-align: right;\">\n",
       "      <th></th>\n",
       "      <th>Predicted 1</th>\n",
       "      <th>Predicted 0</th>\n",
       "    </tr>\n",
       "  </thead>\n",
       "  <tbody>\n",
       "    <tr>\n",
       "      <th>Actual 1</th>\n",
       "      <td>348</td>\n",
       "      <td>9</td>\n",
       "    </tr>\n",
       "    <tr>\n",
       "      <th>Actual 0</th>\n",
       "      <td>15</td>\n",
       "      <td>197</td>\n",
       "    </tr>\n",
       "  </tbody>\n",
       "</table>\n",
       "</div>"
      ],
      "text/plain": [
       "          Predicted 1  Predicted 0\n",
       "Actual 1          348            9\n",
       "Actual 0           15          197"
      ]
     },
     "metadata": {},
     "output_type": "display_data"
    },
    {
     "name": "stdout",
     "output_type": "stream",
     "text": [
      "Precision:  0.9586776859504132\n",
      "Recall: 0.9747899159663865\n",
      "\n",
      "Metrics for ADA Boosting\n",
      "Accuracy: 0.971883247942866\n"
     ]
    },
    {
     "data": {
      "text/html": [
       "<div>\n",
       "<style scoped>\n",
       "    .dataframe tbody tr th:only-of-type {\n",
       "        vertical-align: middle;\n",
       "    }\n",
       "\n",
       "    .dataframe tbody tr th {\n",
       "        vertical-align: top;\n",
       "    }\n",
       "\n",
       "    .dataframe thead th {\n",
       "        text-align: right;\n",
       "    }\n",
       "</style>\n",
       "<table border=\"1\" class=\"dataframe\">\n",
       "  <thead>\n",
       "    <tr style=\"text-align: right;\">\n",
       "      <th></th>\n",
       "      <th>Predicted 1</th>\n",
       "      <th>Predicted 0</th>\n",
       "    </tr>\n",
       "  </thead>\n",
       "  <tbody>\n",
       "    <tr>\n",
       "      <th>Actual 1</th>\n",
       "      <td>351</td>\n",
       "      <td>6</td>\n",
       "    </tr>\n",
       "    <tr>\n",
       "      <th>Actual 0</th>\n",
       "      <td>10</td>\n",
       "      <td>202</td>\n",
       "    </tr>\n",
       "  </tbody>\n",
       "</table>\n",
       "</div>"
      ],
      "text/plain": [
       "          Predicted 1  Predicted 0\n",
       "Actual 1          351            6\n",
       "Actual 0           10          202"
      ]
     },
     "metadata": {},
     "output_type": "display_data"
    },
    {
     "name": "stdout",
     "output_type": "stream",
     "text": [
      "Precision:  0.9722991689750693\n",
      "Recall: 0.9831932773109243\n",
      "\n",
      "Metrics for SVM\n",
      "Accuracy: 0.9806862288464524\n"
     ]
    },
    {
     "data": {
      "text/html": [
       "<div>\n",
       "<style scoped>\n",
       "    .dataframe tbody tr th:only-of-type {\n",
       "        vertical-align: middle;\n",
       "    }\n",
       "\n",
       "    .dataframe tbody tr th {\n",
       "        vertical-align: top;\n",
       "    }\n",
       "\n",
       "    .dataframe thead th {\n",
       "        text-align: right;\n",
       "    }\n",
       "</style>\n",
       "<table border=\"1\" class=\"dataframe\">\n",
       "  <thead>\n",
       "    <tr style=\"text-align: right;\">\n",
       "      <th></th>\n",
       "      <th>Predicted 1</th>\n",
       "      <th>Predicted 0</th>\n",
       "    </tr>\n",
       "  </thead>\n",
       "  <tbody>\n",
       "    <tr>\n",
       "      <th>Actual 1</th>\n",
       "      <td>354</td>\n",
       "      <td>3</td>\n",
       "    </tr>\n",
       "    <tr>\n",
       "      <th>Actual 0</th>\n",
       "      <td>8</td>\n",
       "      <td>204</td>\n",
       "    </tr>\n",
       "  </tbody>\n",
       "</table>\n",
       "</div>"
      ],
      "text/plain": [
       "          Predicted 1  Predicted 0\n",
       "Actual 1          354            3\n",
       "Actual 0            8          204"
      ]
     },
     "metadata": {},
     "output_type": "display_data"
    },
    {
     "name": "stdout",
     "output_type": "stream",
     "text": [
      "Precision:  0.9779005524861878\n",
      "Recall: 0.9915966386554622\n",
      "\n",
      "Metrics for K Nearest Neighbor\n",
      "Accuracy: 0.9648812296227295\n"
     ]
    },
    {
     "data": {
      "text/html": [
       "<div>\n",
       "<style scoped>\n",
       "    .dataframe tbody tr th:only-of-type {\n",
       "        vertical-align: middle;\n",
       "    }\n",
       "\n",
       "    .dataframe tbody tr th {\n",
       "        vertical-align: top;\n",
       "    }\n",
       "\n",
       "    .dataframe thead th {\n",
       "        text-align: right;\n",
       "    }\n",
       "</style>\n",
       "<table border=\"1\" class=\"dataframe\">\n",
       "  <thead>\n",
       "    <tr style=\"text-align: right;\">\n",
       "      <th></th>\n",
       "      <th>Predicted 1</th>\n",
       "      <th>Predicted 0</th>\n",
       "    </tr>\n",
       "  </thead>\n",
       "  <tbody>\n",
       "    <tr>\n",
       "      <th>Actual 1</th>\n",
       "      <td>353</td>\n",
       "      <td>4</td>\n",
       "    </tr>\n",
       "    <tr>\n",
       "      <th>Actual 0</th>\n",
       "      <td>16</td>\n",
       "      <td>196</td>\n",
       "    </tr>\n",
       "  </tbody>\n",
       "</table>\n",
       "</div>"
      ],
      "text/plain": [
       "          Predicted 1  Predicted 0\n",
       "Actual 1          353            4\n",
       "Actual 0           16          196"
      ]
     },
     "metadata": {},
     "output_type": "display_data"
    },
    {
     "name": "stdout",
     "output_type": "stream",
     "text": [
      "Precision:  0.9566395663956639\n",
      "Recall: 0.988795518207283\n",
      "\n",
      "Metrics for Neural Nets\n",
      "Accuracy: 0.9753920198726906\n"
     ]
    },
    {
     "data": {
      "text/html": [
       "<div>\n",
       "<style scoped>\n",
       "    .dataframe tbody tr th:only-of-type {\n",
       "        vertical-align: middle;\n",
       "    }\n",
       "\n",
       "    .dataframe tbody tr th {\n",
       "        vertical-align: top;\n",
       "    }\n",
       "\n",
       "    .dataframe thead th {\n",
       "        text-align: right;\n",
       "    }\n",
       "</style>\n",
       "<table border=\"1\" class=\"dataframe\">\n",
       "  <thead>\n",
       "    <tr style=\"text-align: right;\">\n",
       "      <th></th>\n",
       "      <th>Predicted 1</th>\n",
       "      <th>Predicted 0</th>\n",
       "    </tr>\n",
       "  </thead>\n",
       "  <tbody>\n",
       "    <tr>\n",
       "      <th>Actual 1</th>\n",
       "      <td>350</td>\n",
       "      <td>7</td>\n",
       "    </tr>\n",
       "    <tr>\n",
       "      <th>Actual 0</th>\n",
       "      <td>7</td>\n",
       "      <td>205</td>\n",
       "    </tr>\n",
       "  </tbody>\n",
       "</table>\n",
       "</div>"
      ],
      "text/plain": [
       "          Predicted 1  Predicted 0\n",
       "Actual 1          350            7\n",
       "Actual 0            7          205"
      ]
     },
     "metadata": {},
     "output_type": "display_data"
    },
    {
     "name": "stdout",
     "output_type": "stream",
     "text": [
      "Precision:  0.9803921568627451\n",
      "Recall: 0.9803921568627451\n",
      "\n"
     ]
    }
   ],
   "source": [
    "for output in outputs:\n",
    "    print(\"Metrics for\",output[0])\n",
    "    PrintMetrics_list(output[1],output[2])\n",
    "    print()"
   ]
  },
  {
   "cell_type": "code",
   "execution_count": 50,
   "metadata": {},
   "outputs": [],
   "source": [
    "## save model here?"
   ]
  }
 ],
 "metadata": {
  "kernelspec": {
   "display_name": "Python 3 (ipykernel)",
   "language": "python",
   "name": "python3"
  },
  "language_info": {
   "codemirror_mode": {
    "name": "ipython",
    "version": 3
   },
   "file_extension": ".py",
   "mimetype": "text/x-python",
   "name": "python",
   "nbconvert_exporter": "python",
   "pygments_lexer": "ipython3",
   "version": "3.8.10"
  }
 },
 "nbformat": 4,
 "nbformat_minor": 2
}
