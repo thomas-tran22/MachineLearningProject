{
 "cells": [
  {
   "cell_type": "code",
   "execution_count": 122,
   "metadata": {},
   "outputs": [],
   "source": [
    "\n",
    "import pandas as pd\n",
    "import numpy as np\n",
    "import sklearn as sk\n",
    "import matplotlib.pyplot as plt\n",
    "import time\n",
    "import sklearn.pipeline\n",
    "%matplotlib inline\n"
   ]
  },
  {
   "cell_type": "markdown",
   "metadata": {},
   "source": [
    "Read in the Data "
   ]
  },
  {
   "cell_type": "code",
   "execution_count": 123,
   "metadata": {},
   "outputs": [
    {
     "name": "stderr",
     "output_type": "stream",
     "text": [
      "/var/folders/7p/v4s1vzgj3fz1cnk_dqbddljr0000gn/T/ipykernel_3023/566211356.py:3: FutureWarning: Downcasting behavior in `replace` is deprecated and will be removed in a future version. To retain the old behavior, explicitly call `result.infer_objects(copy=False)`. To opt-in to the future behavior, set `pd.set_option('future.no_silent_downcasting', True)`\n",
      "  data = data.replace({\"M\",\"B\"},{1,0})\n"
     ]
    },
    {
     "data": {
      "text/html": [
       "<div>\n",
       "<style scoped>\n",
       "    .dataframe tbody tr th:only-of-type {\n",
       "        vertical-align: middle;\n",
       "    }\n",
       "\n",
       "    .dataframe tbody tr th {\n",
       "        vertical-align: top;\n",
       "    }\n",
       "\n",
       "    .dataframe thead th {\n",
       "        text-align: right;\n",
       "    }\n",
       "</style>\n",
       "<table border=\"1\" class=\"dataframe\">\n",
       "  <thead>\n",
       "    <tr style=\"text-align: right;\">\n",
       "      <th></th>\n",
       "      <th>radius_mean</th>\n",
       "      <th>texture_mean</th>\n",
       "      <th>perimeter_mean</th>\n",
       "      <th>area_mean</th>\n",
       "      <th>smoothness_mean</th>\n",
       "      <th>compactness_mean</th>\n",
       "      <th>concavity_mean</th>\n",
       "      <th>concave points_mean</th>\n",
       "      <th>symmetry_mean</th>\n",
       "      <th>fractal_dimension_mean</th>\n",
       "      <th>...</th>\n",
       "      <th>radius_worst</th>\n",
       "      <th>texture_worst</th>\n",
       "      <th>perimeter_worst</th>\n",
       "      <th>area_worst</th>\n",
       "      <th>smoothness_worst</th>\n",
       "      <th>compactness_worst</th>\n",
       "      <th>concavity_worst</th>\n",
       "      <th>concave points_worst</th>\n",
       "      <th>symmetry_worst</th>\n",
       "      <th>fractal_dimension_worst</th>\n",
       "    </tr>\n",
       "  </thead>\n",
       "  <tbody>\n",
       "    <tr>\n",
       "      <th>308</th>\n",
       "      <td>13.500</td>\n",
       "      <td>12.71</td>\n",
       "      <td>85.69</td>\n",
       "      <td>566.2</td>\n",
       "      <td>0.07376</td>\n",
       "      <td>0.03614</td>\n",
       "      <td>0.002758</td>\n",
       "      <td>0.004419</td>\n",
       "      <td>0.1365</td>\n",
       "      <td>0.05335</td>\n",
       "      <td>...</td>\n",
       "      <td>14.97</td>\n",
       "      <td>16.94</td>\n",
       "      <td>95.48</td>\n",
       "      <td>698.7</td>\n",
       "      <td>0.09023</td>\n",
       "      <td>0.05836</td>\n",
       "      <td>0.01379</td>\n",
       "      <td>0.02210</td>\n",
       "      <td>0.2267</td>\n",
       "      <td>0.06192</td>\n",
       "    </tr>\n",
       "    <tr>\n",
       "      <th>474</th>\n",
       "      <td>10.880</td>\n",
       "      <td>15.62</td>\n",
       "      <td>70.41</td>\n",
       "      <td>358.9</td>\n",
       "      <td>0.10070</td>\n",
       "      <td>0.10690</td>\n",
       "      <td>0.051150</td>\n",
       "      <td>0.015710</td>\n",
       "      <td>0.1861</td>\n",
       "      <td>0.06837</td>\n",
       "      <td>...</td>\n",
       "      <td>11.94</td>\n",
       "      <td>19.35</td>\n",
       "      <td>80.78</td>\n",
       "      <td>433.1</td>\n",
       "      <td>0.13320</td>\n",
       "      <td>0.38980</td>\n",
       "      <td>0.33650</td>\n",
       "      <td>0.07966</td>\n",
       "      <td>0.2581</td>\n",
       "      <td>0.10800</td>\n",
       "    </tr>\n",
       "    <tr>\n",
       "      <th>391</th>\n",
       "      <td>8.734</td>\n",
       "      <td>16.84</td>\n",
       "      <td>55.27</td>\n",
       "      <td>234.3</td>\n",
       "      <td>0.10390</td>\n",
       "      <td>0.07428</td>\n",
       "      <td>0.000000</td>\n",
       "      <td>0.000000</td>\n",
       "      <td>0.1985</td>\n",
       "      <td>0.07098</td>\n",
       "      <td>...</td>\n",
       "      <td>10.17</td>\n",
       "      <td>22.80</td>\n",
       "      <td>64.01</td>\n",
       "      <td>317.0</td>\n",
       "      <td>0.14600</td>\n",
       "      <td>0.13100</td>\n",
       "      <td>0.00000</td>\n",
       "      <td>0.00000</td>\n",
       "      <td>0.2445</td>\n",
       "      <td>0.08865</td>\n",
       "    </tr>\n",
       "    <tr>\n",
       "      <th>458</th>\n",
       "      <td>13.000</td>\n",
       "      <td>25.13</td>\n",
       "      <td>82.61</td>\n",
       "      <td>520.2</td>\n",
       "      <td>0.08369</td>\n",
       "      <td>0.05073</td>\n",
       "      <td>0.012060</td>\n",
       "      <td>0.017620</td>\n",
       "      <td>0.1667</td>\n",
       "      <td>0.05449</td>\n",
       "      <td>...</td>\n",
       "      <td>14.34</td>\n",
       "      <td>31.88</td>\n",
       "      <td>91.06</td>\n",
       "      <td>628.5</td>\n",
       "      <td>0.12180</td>\n",
       "      <td>0.10930</td>\n",
       "      <td>0.04462</td>\n",
       "      <td>0.05921</td>\n",
       "      <td>0.2306</td>\n",
       "      <td>0.06291</td>\n",
       "    </tr>\n",
       "    <tr>\n",
       "      <th>253</th>\n",
       "      <td>17.300</td>\n",
       "      <td>17.08</td>\n",
       "      <td>113.00</td>\n",
       "      <td>928.2</td>\n",
       "      <td>0.10080</td>\n",
       "      <td>0.10410</td>\n",
       "      <td>0.126600</td>\n",
       "      <td>0.083530</td>\n",
       "      <td>0.1813</td>\n",
       "      <td>0.05613</td>\n",
       "      <td>...</td>\n",
       "      <td>19.85</td>\n",
       "      <td>25.09</td>\n",
       "      <td>130.90</td>\n",
       "      <td>1222.0</td>\n",
       "      <td>0.14160</td>\n",
       "      <td>0.24050</td>\n",
       "      <td>0.33780</td>\n",
       "      <td>0.18570</td>\n",
       "      <td>0.3138</td>\n",
       "      <td>0.08113</td>\n",
       "    </tr>\n",
       "  </tbody>\n",
       "</table>\n",
       "<p>5 rows × 30 columns</p>\n",
       "</div>"
      ],
      "text/plain": [
       "     radius_mean  texture_mean  perimeter_mean  area_mean  smoothness_mean  \\\n",
       "308       13.500         12.71           85.69      566.2          0.07376   \n",
       "474       10.880         15.62           70.41      358.9          0.10070   \n",
       "391        8.734         16.84           55.27      234.3          0.10390   \n",
       "458       13.000         25.13           82.61      520.2          0.08369   \n",
       "253       17.300         17.08          113.00      928.2          0.10080   \n",
       "\n",
       "     compactness_mean  concavity_mean  concave points_mean  symmetry_mean  \\\n",
       "308           0.03614        0.002758             0.004419         0.1365   \n",
       "474           0.10690        0.051150             0.015710         0.1861   \n",
       "391           0.07428        0.000000             0.000000         0.1985   \n",
       "458           0.05073        0.012060             0.017620         0.1667   \n",
       "253           0.10410        0.126600             0.083530         0.1813   \n",
       "\n",
       "     fractal_dimension_mean  ...  radius_worst  texture_worst  \\\n",
       "308                 0.05335  ...         14.97          16.94   \n",
       "474                 0.06837  ...         11.94          19.35   \n",
       "391                 0.07098  ...         10.17          22.80   \n",
       "458                 0.05449  ...         14.34          31.88   \n",
       "253                 0.05613  ...         19.85          25.09   \n",
       "\n",
       "     perimeter_worst  area_worst  smoothness_worst  compactness_worst  \\\n",
       "308            95.48       698.7           0.09023            0.05836   \n",
       "474            80.78       433.1           0.13320            0.38980   \n",
       "391            64.01       317.0           0.14600            0.13100   \n",
       "458            91.06       628.5           0.12180            0.10930   \n",
       "253           130.90      1222.0           0.14160            0.24050   \n",
       "\n",
       "     concavity_worst  concave points_worst  symmetry_worst  \\\n",
       "308          0.01379               0.02210          0.2267   \n",
       "474          0.33650               0.07966          0.2581   \n",
       "391          0.00000               0.00000          0.2445   \n",
       "458          0.04462               0.05921          0.2306   \n",
       "253          0.33780               0.18570          0.3138   \n",
       "\n",
       "     fractal_dimension_worst  \n",
       "308                  0.06192  \n",
       "474                  0.10800  \n",
       "391                  0.08865  \n",
       "458                  0.06291  \n",
       "253                  0.08113  \n",
       "\n",
       "[5 rows x 30 columns]"
      ]
     },
     "execution_count": 123,
     "metadata": {},
     "output_type": "execute_result"
    }
   ],
   "source": [
    "data = pd.read_csv(\"breast-cancer.csv\")\n",
    "data = data.drop(\"id\", axis = 1)\n",
    "data = data.replace({\"M\",\"B\"},{1,0})\n",
    "data = data.sample(frac=1)\n",
    "Y = data[\"diagnosis\"]\n",
    "X = data.drop(\"diagnosis\",axis = 1)\n",
    "X.head()\n",
    "\n",
    "\n",
    "\n"
   ]
  },
  {
   "cell_type": "code",
   "execution_count": 124,
   "metadata": {},
   "outputs": [
    {
     "data": {
      "text/plain": [
       "0"
      ]
     },
     "execution_count": 124,
     "metadata": {},
     "output_type": "execute_result"
    }
   ],
   "source": [
    "# check for null values \n",
    "data.isnull().sum().sum()"
   ]
  },
  {
   "cell_type": "code",
   "execution_count": 125,
   "metadata": {},
   "outputs": [
    {
     "name": "stdout",
     "output_type": "stream",
     "text": [
      "[0.36647069 0.10124221 0.40364626 0.35978299 0.08114114 0.2127577\n",
      " 0.37326603 0.4413983  0.07027074 0.00437141]\n",
      "[0.24761028 0.00083871 0.27401652 0.34015152 0.01531587 0.0759432\n",
      " 0.11781451 0.13061586 0.0107806  0.04019079]\n",
      "[0.45487234 0.11922306 0.47568438 0.4653155  0.09332438 0.22424013\n",
      " 0.31669885 0.43717704 0.0908974  0.06920873]\n",
      "0.21339354840872443\n",
      "0.2613122245907562\n",
      "(569, 24)\n"
     ]
    }
   ],
   "source": [
    "from sklearn import feature_selection\n",
    "\n",
    "X_mean = X[[\"radius_mean\",\"texture_mean\",\"perimeter_mean\",\"area_mean\",\"smoothness_mean\",\"compactness_mean\",\"concavity_mean\",\"concave points_mean\",\"symmetry_mean\",\"fractal_dimension_mean\"]]\n",
    "\n",
    "X_se = X[[\"radius_se\",\"texture_se\",\"perimeter_se\",\"area_se\",\"smoothness_se\",\"compactness_se\",\"concavity_se\",\"concave points_se\",\"symmetry_se\",\"fractal_dimension_se\"]]\n",
    "\n",
    "X_worst = X[[\"radius_worst\",\"texture_worst\",\"perimeter_worst\",\"area_worst\",\"smoothness_worst\",\"compactness_worst\",\"concavity_worst\",\"concave points_worst\",\"symmetry_worst\",\"fractal_dimension_worst\"]]\n",
    "\n",
    "print(feature_selection.mutual_info_classif(X_mean,Y))\n",
    "print(feature_selection.mutual_info_classif(X_se,Y))\n",
    "print(feature_selection.mutual_info_classif(X_worst,Y))\n",
    "keep_list = []\n",
    "for index in range(X.shape[1]):\n",
    "    if(feature_selection.mutual_info_classif(pd.DataFrame(X.iloc[:,index]),Y) >= 0.07):\n",
    "       keep_list.append(X.columns[index])\n",
    "\n",
    "X_reduced = X[keep_list]\n",
    "\n",
    "print(np.average(feature_selection.mutual_info_classif(X,Y)))\n",
    "print(np.average(feature_selection.mutual_info_classif(X_reduced,Y)))\n",
    "\n",
    "print(X_reduced.shape)\n",
    "\n",
    "\n",
    "X = X_reduced\n",
    "\n"
   ]
  },
  {
   "cell_type": "markdown",
   "metadata": {},
   "source": [
    "0.21361649044872902\n",
    "\n",
    "0.30858580770914606"
   ]
  },
  {
   "cell_type": "code",
   "execution_count": 126,
   "metadata": {},
   "outputs": [
    {
     "data": {
      "image/png": "[encoded data removed]",
      "text/plain": [
       "<Figure size 640x480 with 1 Axes>"
      ]
     },
     "metadata": {},
     "output_type": "display_data"
    }
   ],
   "source": [
    "### Add preprocessing here (or inside the pipes)\n",
    "## looking for outliers wit DBSCAN \n",
    "## finding besteps \n",
    "from sklearn.preprocessing import StandardScaler\n",
    "from sklearn.decomposition import PCA\n",
    "from sklearn.neighbors import NearestNeighbors\n",
    "scaler = StandardScaler()\n",
    "pca = PCA(n_components=0.95, svd_solver=\"full\")\n",
    "processed_data = pd.DataFrame(pca.fit_transform(scaler.fit_transform(X))) # scales and reduces dimension of data to improve distance based models\n",
    "nn = NearestNeighbors(n_neighbors=4)\n",
    "nn.fit(processed_data)\n",
    "distance_matrix = nn.kneighbors(processed_data)[0]\n",
    "distances = np.sort(distance_matrix[:,3])\n",
    "plt.plot(distances)\n",
    "plt.hlines(y=3.25, xmin=0, xmax=600)\n",
    "# best eps around 2.5 for a cutoff on mutual info of .1\n",
    "plt.show()"
   ]
  },
  {
   "cell_type": "code",
   "execution_count": 127,
   "metadata": {},
   "outputs": [
    {
     "name": "stdout",
     "output_type": "stream",
     "text": [
      "Estimated no. of clusters: 2\n",
      "Estimated no. of noise points: 24\n"
     ]
    },
    {
     "data": {
      "image/png": "[encoded data removed]",
      "text/plain": [
       "<Figure size 640x480 with 1 Axes>"
      ]
     },
     "metadata": {},
     "output_type": "display_data"
    }
   ],
   "source": [
    "from sklearn.cluster import DBSCAN\n",
    "\n",
    "db = DBSCAN(eps=3.25, min_samples=4).fit(processed_data)\n",
    "labels = db.labels_\n",
    "no_clusters = len(np.unique(labels))\n",
    "no_noise = np.sum(np.array(labels) == -1, axis=0)\n",
    "print('Estimated no. of clusters: %d' % no_clusters)\n",
    "print('Estimated no. of noise points: %d' % no_noise)\n",
    "\n",
    "inliersX = X.loc[labels == 0]\n",
    "outliersX = X.loc[labels == -1]\n",
    "\n",
    "inliersY = Y.loc[labels == 0]\n",
    "outliersY = Y.loc[labels == -1]\n",
    "\n",
    "\n",
    "plt.scatter(processed_data.loc[labels == -1, 0], processed_data.loc[labels == -1, 1], \n",
    "                    c='red', marker='x', label='Outliers', alpha=0.5)\n",
    "plt.scatter(processed_data.loc[labels == 0, 0], processed_data.loc[labels == 0, 1], \n",
    "                    marker='.', label=f'Cluster 1')\n",
    "\n",
    "#print(outliersDB)\n",
    "\n",
    "\n",
    "\n",
    "        \n",
    "\n",
    "plt.xlabel('PCA Component 1')\n",
    "plt.ylabel('PCA Component 2')\n",
    "plt.title('DBSCAN Clustering')\n",
    "plt.legend()\n",
    "plt.show()\n"
   ]
  },
  {
   "cell_type": "code",
   "execution_count": 128,
   "metadata": {},
   "outputs": [
    {
     "name": "stdout",
     "output_type": "stream",
     "text": [
      "K means clustering accuracy when including outliers 0.9244288224956063\n",
      "K means clustering accuracy when excluding outliers 0.9357798165137615\n"
     ]
    },
    {
     "data": {
      "image/png": "[encoded data removed]",
      "text/plain": [
       "<Figure size 640x480 with 1 Axes>"
      ]
     },
     "metadata": {},
     "output_type": "display_data"
    }
   ],
   "source": [
    "from sklearn.cluster import KMeans\n",
    "\n",
    "\n",
    "\n",
    "\n",
    "inliers = processed_data[labels == 0]\n",
    "outliers = processed_data[labels == -1]\n",
    "\n",
    "# Perform KMeans clustering on the original scaled data\n",
    "kmeans = KMeans(n_clusters=2, random_state=42)\n",
    "\n",
    "kmeans.fit(processed_data)\n",
    "klabels_with_outliers = kmeans.labels_\n",
    "kmeans.fit(inliers)\n",
    "klabels = kmeans.labels_\n",
    "\n",
    "k_means_accuracy = max((inliersY == klabels).sum()/(inliersY == klabels).count(), \n",
    "                            (inliersY == klabels^1).sum()/(inliersY == klabels^1).count())\n",
    "k_means_accuracy_wo = max((Y == klabels_with_outliers^1).sum()/(Y == klabels_with_outliers^1).count(),\n",
    "                            (Y == klabels_with_outliers).sum()/(Y == klabels_with_outliers).count())\n",
    "\n",
    "\n",
    "\n",
    "\n",
    "\n",
    "print(\"K means clustering accuracy when including outliers\",k_means_accuracy_wo)\n",
    "print(\"K means clustering accuracy when excluding outliers\",k_means_accuracy)\n",
    "\n",
    "\n",
    "plt.scatter(inliers.iloc[:,0], inliers.iloc[:,1], c=klabels,marker='.', label='Inliers')\n",
    "plt.scatter(outliers.iloc[:,0], outliers.iloc[:,1], c='red', marker='x', label='Outliers')\n",
    "plt.legend()\n",
    "plt.xlabel('PCA Component 1')\n",
    "plt.ylabel('PCA Component 2')\n",
    "plt.title('K Means Clustering')\n",
    "plt.legend()\n",
    "plt.show()\n"
   ]
  },
  {
   "cell_type": "code",
   "execution_count": 129,
   "metadata": {},
   "outputs": [],
   "source": [
    "X = inliersX\n",
    "Y = inliersY"
   ]
  },
  {
   "cell_type": "code",
   "execution_count": 130,
   "metadata": {},
   "outputs": [],
   "source": [
    "# Print metrics\n",
    "from sklearn import metrics\n",
    "\n",
    "# Using the code for calculating and printing \n",
    "# the confusion matrix from Assignment 3\n",
    "def get_confusion(test_data, results):\n",
    "    TN = 0\n",
    "    TP = 0\n",
    "    FN = 0\n",
    "    FP = 0\n",
    "    for i in range(len(test_data)):\n",
    "        expected = test_data[i]\n",
    "        if(expected):\n",
    "            if (results[i]):\n",
    "                TP += 1\n",
    "            else:\n",
    "                FN += 1\n",
    "        else:\n",
    "            if (results[i]): #is neg guessed pos\n",
    "                FP += 1\n",
    "            else: \n",
    "                TN += 1\n",
    "\n",
    "\n",
    "\n",
    "    return TN, TP, FN, FP \n",
    "\n",
    "def print_confusion_matrix(TP, FN, FP, TN):\n",
    "    \n",
    "    table_data = [[TP,FN],[FP,TN]]\n",
    "    df = pd.DataFrame(table_data, columns =['Predicted 1','Predicted 0'])\n",
    "    df = df.rename(index={0: 'Actual 1', 1: 'Actual 0'})\n",
    "    display(df)\n",
    "\n",
    "# takes in a list of predicted values and test sets for each fold of crossvalidation\n",
    "def PrintMetrics_list(y_actual, y_pred):\n",
    "    accuracies = []\n",
    "    tn = 0\n",
    "    tp = 0\n",
    "    fn = 0\n",
    "    fp = 0\n",
    "    loops = len(y_pred)\n",
    "    for i in range(loops):\n",
    "        accuracies.append(sk.metrics.accuracy_score(y_actual[i],y_pred[i]))\n",
    "        confusion = get_confusion(list(y_actual[i]),list(y_pred[i]))\n",
    "        tn += confusion[0]\n",
    "        tp += confusion[1]\n",
    "        fn += confusion[2]\n",
    "        fp += confusion[3]\n",
    "    accuracy = np.average(accuracies)\n",
    "    print(\"Accuracy:\",accuracy)\n",
    "    print_confusion_matrix(tp,fn,fp,tn)\n",
    "    precision = tp/(tp+fp)\n",
    "    recall = tp/(tp + fn)\n",
    "    print(\"Precision: \",precision)\n",
    "    print(\"Recall:\",recall)\n",
    "\n",
    "def PrintMetrics(y_actual, y_pred):\n",
    "    tn = 0\n",
    "    tp = 0\n",
    "    fn = 0\n",
    "    fp = 0\n",
    "    accuracy = sk.metrics.accuracy_score(y_actual,y_pred)\n",
    "    confusion = get_confusion(y_actual,y_pred)\n",
    "    tn += confusion[0]\n",
    "    tp += confusion[1]\n",
    "    fn += confusion[2]\n",
    "    fp += confusion[3]\n",
    "    \n",
    "    print(\"Accuracy:\",accuracy)\n",
    "    print_confusion_matrix(tp,fn,fp,tn)\n",
    "    precision = tp/(tp+fp)\n",
    "    recall = tp/(tp + fn)\n",
    "    print(\"Precision: \",precision)\n",
    "    print(\"Recall:\",recall)\n",
    "    \n",
    "\n"
   ]
  },
  {
   "cell_type": "code",
   "execution_count": 131,
   "metadata": {},
   "outputs": [],
   "source": [
    "outputs = []\n"
   ]
  },
  {
   "cell_type": "code",
   "execution_count": 132,
   "metadata": {},
   "outputs": [
    {
     "name": "stdout",
     "output_type": "stream",
     "text": [
      "Chosen max_depth: 32\n",
      "Chosen min_samples_leaf: 1\n",
      "Chosen max_depth: 35\n",
      "Chosen min_samples_leaf: 1\n",
      "Chosen max_depth: 35\n",
      "Chosen min_samples_leaf: 1\n",
      "Chosen max_depth: 34\n",
      "Chosen min_samples_leaf: 1\n",
      "Chosen max_depth: 33\n",
      "Chosen min_samples_leaf: 1\n"
     ]
    }
   ],
   "source": [
    "\n",
    "\n",
    "#Random Forest\n",
    "from sklearn import model_selection\n",
    "from sklearn import ensemble\n",
    "param_grid = { # mess with these\n",
    "    \"max_depth\": list(range(30,40)),\n",
    "    \"min_samples_leaf\": list(range(1,3,2))\n",
    "}\n",
    "\n",
    "inner = sk.model_selection.GridSearchCV(sk.ensemble.RandomForestClassifier(),param_grid)\n",
    "kf = sk.model_selection.KFold(n_splits=5)\n",
    "actuals = []\n",
    "preds = []\n",
    "for i, (train_index, test_index) in enumerate(kf.split(X)):\n",
    "    X_train, X_test, Y_train, Y_test = X.iloc[train_index],X.iloc[test_index], Y.iloc[train_index], Y.iloc[test_index]\n",
    "    inner.fit(X_train,Y_train)\n",
    "    print(\"Chosen max_depth:\",inner.best_estimator_.get_params()[\"max_depth\"])\n",
    "    print(\"Chosen min_samples_leaf:\",inner.best_estimator_.get_params()[\"min_samples_leaf\"])\n",
    "    preds.append(inner.predict(X_test))\n",
    "    actuals.append(Y_test)\n",
    "outputs.append([\"Random Forest\",actuals,preds])\n",
    "\n",
    "\n"
   ]
  },
  {
   "cell_type": "code",
   "execution_count": null,
   "metadata": {},
   "outputs": [],
   "source": []
  },
  {
   "cell_type": "code",
   "execution_count": 133,
   "metadata": {},
   "outputs": [
    {
     "name": "stdout",
     "output_type": "stream",
     "text": [
      "Chosen n_estimators: 130\n",
      "Chosen n_estimators: 110\n",
      "Chosen n_estimators: 120\n",
      "Chosen n_estimators: 110\n",
      "Chosen n_estimators: 140\n"
     ]
    }
   ],
   "source": [
    "#ADA Boosting\n",
    "param_grid = {\n",
    "   #'n_estimators': list(range(100,150,10)),\n",
    "   'n_estimators': list(range(100,150,10)),\n",
    "}\n",
    "boost = sk.ensemble.AdaBoostClassifier(algorithm=\"SAMME\")\n",
    "inner = sk.model_selection.GridSearchCV(boost,param_grid,cv= 5)\n",
    "preds = []\n",
    "actuals = []\n",
    "for i, (train_index, test_index) in enumerate(kf.split(X)):\n",
    "    X_train, X_test, Y_train, Y_test = X.iloc[train_index],X.iloc[test_index], Y.iloc[train_index], Y.iloc[test_index]\n",
    "    inner.fit(X_train,Y_train)\n",
    "    print(\"Chosen n_estimators:\",inner.best_estimator_.get_params()[\"n_estimators\"])\n",
    "    preds.append(inner.predict(X_test))\n",
    "    actuals.append(Y_test)\n",
    "outputs.append([\"ADA Boosting\",actuals,preds])\n",
    "\n"
   ]
  },
  {
   "cell_type": "code",
   "execution_count": 134,
   "metadata": {},
   "outputs": [
    {
     "name": "stdout",
     "output_type": "stream",
     "text": [
      "Chosen n_components: 8\n",
      "Chosen kernel: linear\n",
      "Chosen n_components: 9\n",
      "Chosen kernel: linear\n",
      "Chosen n_components: 10\n",
      "Chosen kernel: rbf\n",
      "Chosen n_components: 9\n",
      "Chosen kernel: linear\n",
      "Chosen n_components: 10\n",
      "Chosen kernel: linear\n"
     ]
    }
   ],
   "source": [
    "#SVM\n",
    "scaler = sk.preprocessing.StandardScaler()\n",
    "pca = sk.decomposition.PCA()\n",
    "svc = sk.svm.SVC()\n",
    "pipe = sk.pipeline.Pipeline(steps=[(\"scaler\",scaler),(\"pca\",pca),(\"svc\",svc)])\n",
    "\n",
    "param_grid = {\n",
    "    'pca__n_components': list(range(5, 15)),\n",
    "    'svc__kernel': [\"linear\",\"rbf\"]\n",
    "}\n",
    "inner = sk.model_selection.GridSearchCV(pipe,param_grid, cv=5)\n",
    "preds = []\n",
    "actuals = []\n",
    "for i, (train_index, test_index) in enumerate(kf.split(X)):\n",
    "    X_train, X_test, Y_train, Y_test = X.iloc[train_index],X.iloc[test_index], Y.iloc[train_index], Y.iloc[test_index]\n",
    "    inner.fit(X_train,Y_train)\n",
    "    print(\"Chosen n_components:\",inner.best_estimator_.get_params()[\"pca__n_components\"])\n",
    "    print(\"Chosen kernel:\",inner.best_estimator_.get_params()[\"svc__kernel\"])\n",
    "\n",
    "    preds.append(inner.predict(X_test))\n",
    "    actuals.append(Y_test)\n",
    "outputs.append([\"SVM\",actuals,preds])\n"
   ]
  },
  {
   "cell_type": "code",
   "execution_count": 135,
   "metadata": {},
   "outputs": [
    {
     "name": "stdout",
     "output_type": "stream",
     "text": [
      "Chosen n_components: 8\n",
      "Chosen n_neighbors: 3\n",
      "Chosen n_components: 7\n",
      "Chosen n_neighbors: 3\n",
      "Chosen n_components: 9\n",
      "Chosen n_neighbors: 3\n",
      "Chosen n_components: 8\n",
      "Chosen n_neighbors: 3\n",
      "Chosen n_components: 7\n",
      "Chosen n_neighbors: 3\n"
     ]
    }
   ],
   "source": [
    "#Nearest Neighbor\n",
    "param_grid = { #mess with these\n",
    "    'pca__n_components': list(range(5,10)),\n",
    "    'knn__n_neighbors': list(range(2,4))\n",
    "}\n",
    "scaler = sk.preprocessing.StandardScaler()\n",
    "pca = sk.decomposition.PCA()\n",
    "knn = sk.neighbors.KNeighborsClassifier()\n",
    "pipe = sk.pipeline.Pipeline(steps=[(\"scaler\",scaler),(\"pca\",pca),(\"knn\",knn)])\n",
    "inner = sk.model_selection.GridSearchCV(pipe,param_grid, cv = 5)\n",
    "preds = []\n",
    "actuals = []\n",
    "for i, (train_index, test_index) in enumerate(kf.split(X)):\n",
    "    X_train, X_test, Y_train, Y_test = X.iloc[train_index],X.iloc[test_index], Y.iloc[train_index], Y.iloc[test_index]\n",
    "    inner.fit(X_train,Y_train)\n",
    "    print(\"Chosen n_components:\",inner.best_estimator_.get_params()[\"pca__n_components\"])\n",
    "    print(\"Chosen n_neighbors:\",inner.best_estimator_.get_params()[\"knn__n_neighbors\"])\n",
    "    preds.append(inner.predict(X_test))\n",
    "    actuals.append(Y_test)\n",
    "outputs.append([\"K Nearest Neighbor\",actuals,preds])\n",
    "\n"
   ]
  },
  {
   "cell_type": "code",
   "execution_count": 136,
   "metadata": {},
   "outputs": [
    {
     "name": "stdout",
     "output_type": "stream",
     "text": [
      "Chosen hidden_layer_sizes: (60,)\n",
      "Chosen activation: tanh\n",
      "Chosen max_iter: 350\n",
      "Chosen hidden_layer_sizes: (50,)\n",
      "Chosen activation: tanh\n",
      "Chosen max_iter: 250\n",
      "Chosen hidden_layer_sizes: (40,)\n",
      "Chosen activation: tanh\n",
      "Chosen max_iter: 400\n",
      "Chosen hidden_layer_sizes: (30,)\n",
      "Chosen activation: tanh\n",
      "Chosen max_iter: 200\n",
      "Chosen hidden_layer_sizes: (30,)\n",
      "Chosen activation: tanh\n",
      "Chosen max_iter: 350\n"
     ]
    }
   ],
   "source": [
    "#Simple Neural Net\n",
    "from sklearn import neural_network\n",
    "scaler = sk.preprocessing.StandardScaler()\n",
    "nn = sk.neural_network.MLPClassifier(learning_rate=\"invscaling\",learning_rate_init=0.1)\n",
    "pipe = sk.pipeline.Pipeline(steps=[(\"scaler\",scaler),(\"nn\",nn)])\n",
    "param_grid = {\n",
    "    \"nn__hidden_layer_sizes\": [(30,),(40,),(50,),(60,)],\n",
    "    \"nn__activation\": [\"tanh\",],\n",
    "    \"nn__max_iter\" : [200,250,300,350,400]\n",
    "}\n",
    "inner = sk.model_selection.GridSearchCV(pipe,param_grid, cv=5)\n",
    "preds = []\n",
    "actuals = []\n",
    "for i, (train_index, test_index) in enumerate(kf.split(X)):\n",
    "    X_train, X_test, Y_train, Y_test = X.iloc[train_index],X.iloc[test_index], Y.iloc[train_index], Y.iloc[test_index]\n",
    "    inner.fit(X_train,Y_train)\n",
    "    print(\"Chosen hidden_layer_sizes:\",inner.best_estimator_.get_params()[\"nn__hidden_layer_sizes\"])\n",
    "    print(\"Chosen activation:\",inner.best_estimator_.get_params()[\"nn__activation\"])\n",
    "    print(\"Chosen max_iter:\",inner.best_estimator_.get_params()[\"nn__max_iter\"])\n",
    "\n",
    "    preds.append(inner.predict(X_test))\n",
    "    actuals.append(Y_test)\n",
    "outputs.append([\"Neural Nets\",actuals,preds])\n",
    "\n"
   ]
  },
  {
   "cell_type": "code",
   "execution_count": 137,
   "metadata": {},
   "outputs": [
    {
     "name": "stdout",
     "output_type": "stream",
     "text": [
      "Metrics for Random Forest\n",
      "Accuracy: 0.963302752293578\n"
     ]
    },
    {
     "data": {
      "text/html": [
       "<div>\n",
       "<style scoped>\n",
       "    .dataframe tbody tr th:only-of-type {\n",
       "        vertical-align: middle;\n",
       "    }\n",
       "\n",
       "    .dataframe tbody tr th {\n",
       "        vertical-align: top;\n",
       "    }\n",
       "\n",
       "    .dataframe thead th {\n",
       "        text-align: right;\n",
       "    }\n",
       "</style>\n",
       "<table border=\"1\" class=\"dataframe\">\n",
       "  <thead>\n",
       "    <tr style=\"text-align: right;\">\n",
       "      <th></th>\n",
       "      <th>Predicted 1</th>\n",
       "      <th>Predicted 0</th>\n",
       "    </tr>\n",
       "  </thead>\n",
       "  <tbody>\n",
       "    <tr>\n",
       "      <th>Actual 1</th>\n",
       "      <td>344</td>\n",
       "      <td>9</td>\n",
       "    </tr>\n",
       "    <tr>\n",
       "      <th>Actual 0</th>\n",
       "      <td>11</td>\n",
       "      <td>181</td>\n",
       "    </tr>\n",
       "  </tbody>\n",
       "</table>\n",
       "</div>"
      ],
      "text/plain": [
       "          Predicted 1  Predicted 0\n",
       "Actual 1          344            9\n",
       "Actual 0           11          181"
      ]
     },
     "metadata": {},
     "output_type": "display_data"
    },
    {
     "name": "stdout",
     "output_type": "stream",
     "text": [
      "Precision:  0.9690140845070423\n",
      "Recall: 0.9745042492917847\n",
      "\n",
      "Metrics for ADA Boosting\n",
      "Accuracy: 0.9688073394495413\n"
     ]
    },
    {
     "data": {
      "text/html": [
       "<div>\n",
       "<style scoped>\n",
       "    .dataframe tbody tr th:only-of-type {\n",
       "        vertical-align: middle;\n",
       "    }\n",
       "\n",
       "    .dataframe tbody tr th {\n",
       "        vertical-align: top;\n",
       "    }\n",
       "\n",
       "    .dataframe thead th {\n",
       "        text-align: right;\n",
       "    }\n",
       "</style>\n",
       "<table border=\"1\" class=\"dataframe\">\n",
       "  <thead>\n",
       "    <tr style=\"text-align: right;\">\n",
       "      <th></th>\n",
       "      <th>Predicted 1</th>\n",
       "      <th>Predicted 0</th>\n",
       "    </tr>\n",
       "  </thead>\n",
       "  <tbody>\n",
       "    <tr>\n",
       "      <th>Actual 1</th>\n",
       "      <td>347</td>\n",
       "      <td>6</td>\n",
       "    </tr>\n",
       "    <tr>\n",
       "      <th>Actual 0</th>\n",
       "      <td>11</td>\n",
       "      <td>181</td>\n",
       "    </tr>\n",
       "  </tbody>\n",
       "</table>\n",
       "</div>"
      ],
      "text/plain": [
       "          Predicted 1  Predicted 0\n",
       "Actual 1          347            6\n",
       "Actual 0           11          181"
      ]
     },
     "metadata": {},
     "output_type": "display_data"
    },
    {
     "name": "stdout",
     "output_type": "stream",
     "text": [
      "Precision:  0.9692737430167597\n",
      "Recall: 0.9830028328611898\n",
      "\n",
      "Metrics for SVM\n",
      "Accuracy: 0.98348623853211\n"
     ]
    },
    {
     "data": {
      "text/html": [
       "<div>\n",
       "<style scoped>\n",
       "    .dataframe tbody tr th:only-of-type {\n",
       "        vertical-align: middle;\n",
       "    }\n",
       "\n",
       "    .dataframe tbody tr th {\n",
       "        vertical-align: top;\n",
       "    }\n",
       "\n",
       "    .dataframe thead th {\n",
       "        text-align: right;\n",
       "    }\n",
       "</style>\n",
       "<table border=\"1\" class=\"dataframe\">\n",
       "  <thead>\n",
       "    <tr style=\"text-align: right;\">\n",
       "      <th></th>\n",
       "      <th>Predicted 1</th>\n",
       "      <th>Predicted 0</th>\n",
       "    </tr>\n",
       "  </thead>\n",
       "  <tbody>\n",
       "    <tr>\n",
       "      <th>Actual 1</th>\n",
       "      <td>350</td>\n",
       "      <td>3</td>\n",
       "    </tr>\n",
       "    <tr>\n",
       "      <th>Actual 0</th>\n",
       "      <td>6</td>\n",
       "      <td>186</td>\n",
       "    </tr>\n",
       "  </tbody>\n",
       "</table>\n",
       "</div>"
      ],
      "text/plain": [
       "          Predicted 1  Predicted 0\n",
       "Actual 1          350            3\n",
       "Actual 0            6          186"
      ]
     },
     "metadata": {},
     "output_type": "display_data"
    },
    {
     "name": "stdout",
     "output_type": "stream",
     "text": [
      "Precision:  0.9831460674157303\n",
      "Recall: 0.9915014164305949\n",
      "\n",
      "Metrics for K Nearest Neighbor\n",
      "Accuracy: 0.9614678899082569\n"
     ]
    },
    {
     "data": {
      "text/html": [
       "<div>\n",
       "<style scoped>\n",
       "    .dataframe tbody tr th:only-of-type {\n",
       "        vertical-align: middle;\n",
       "    }\n",
       "\n",
       "    .dataframe tbody tr th {\n",
       "        vertical-align: top;\n",
       "    }\n",
       "\n",
       "    .dataframe thead th {\n",
       "        text-align: right;\n",
       "    }\n",
       "</style>\n",
       "<table border=\"1\" class=\"dataframe\">\n",
       "  <thead>\n",
       "    <tr style=\"text-align: right;\">\n",
       "      <th></th>\n",
       "      <th>Predicted 1</th>\n",
       "      <th>Predicted 0</th>\n",
       "    </tr>\n",
       "  </thead>\n",
       "  <tbody>\n",
       "    <tr>\n",
       "      <th>Actual 1</th>\n",
       "      <td>346</td>\n",
       "      <td>7</td>\n",
       "    </tr>\n",
       "    <tr>\n",
       "      <th>Actual 0</th>\n",
       "      <td>14</td>\n",
       "      <td>178</td>\n",
       "    </tr>\n",
       "  </tbody>\n",
       "</table>\n",
       "</div>"
      ],
      "text/plain": [
       "          Predicted 1  Predicted 0\n",
       "Actual 1          346            7\n",
       "Actual 0           14          178"
      ]
     },
     "metadata": {},
     "output_type": "display_data"
    },
    {
     "name": "stdout",
     "output_type": "stream",
     "text": [
      "Precision:  0.9611111111111111\n",
      "Recall: 0.9801699716713881\n",
      "\n",
      "Metrics for Neural Nets\n",
      "Accuracy: 0.9761467889908257\n"
     ]
    },
    {
     "data": {
      "text/html": [
       "<div>\n",
       "<style scoped>\n",
       "    .dataframe tbody tr th:only-of-type {\n",
       "        vertical-align: middle;\n",
       "    }\n",
       "\n",
       "    .dataframe tbody tr th {\n",
       "        vertical-align: top;\n",
       "    }\n",
       "\n",
       "    .dataframe thead th {\n",
       "        text-align: right;\n",
       "    }\n",
       "</style>\n",
       "<table border=\"1\" class=\"dataframe\">\n",
       "  <thead>\n",
       "    <tr style=\"text-align: right;\">\n",
       "      <th></th>\n",
       "      <th>Predicted 1</th>\n",
       "      <th>Predicted 0</th>\n",
       "    </tr>\n",
       "  </thead>\n",
       "  <tbody>\n",
       "    <tr>\n",
       "      <th>Actual 1</th>\n",
       "      <td>347</td>\n",
       "      <td>6</td>\n",
       "    </tr>\n",
       "    <tr>\n",
       "      <th>Actual 0</th>\n",
       "      <td>7</td>\n",
       "      <td>185</td>\n",
       "    </tr>\n",
       "  </tbody>\n",
       "</table>\n",
       "</div>"
      ],
      "text/plain": [
       "          Predicted 1  Predicted 0\n",
       "Actual 1          347            6\n",
       "Actual 0            7          185"
      ]
     },
     "metadata": {},
     "output_type": "display_data"
    },
    {
     "name": "stdout",
     "output_type": "stream",
     "text": [
      "Precision:  0.980225988700565\n",
      "Recall: 0.9830028328611898\n",
      "\n"
     ]
    }
   ],
   "source": [
    "for output in outputs:\n",
    "    print(\"Metrics for\",output[0])\n",
    "    PrintMetrics_list(output[1],output[2])\n",
    "    print()"
   ]
  },
  {
   "cell_type": "markdown",
   "metadata": {},
   "source": []
  },
  {
   "cell_type": "code",
   "execution_count": 138,
   "metadata": {},
   "outputs": [],
   "source": [
    "## save model here?"
   ]
  }
 ],
 "metadata": {
  "kernelspec": {
   "display_name": "Python 3 (ipykernel)",
   "language": "python",
   "name": "python3"
  },
  "language_info": {
   "codemirror_mode": {
    "name": "ipython",
    "version": 3
   },
   "file_extension": ".py",
   "mimetype": "text/x-python",
   "name": "python",
   "nbconvert_exporter": "python",
   "pygments_lexer": "ipython3",
   "version": "3.9.2"
  }
 },
 "nbformat": 4,
 "nbformat_minor": 2
}
