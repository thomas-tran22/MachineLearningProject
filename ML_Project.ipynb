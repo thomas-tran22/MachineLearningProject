{
 "cells": [
  {
   "cell_type": "code",
   "execution_count": 71,
   "metadata": {},
   "outputs": [],
   "source": [
    "\n",
    "import pandas as pd\n",
    "import numpy as np\n",
    "import sklearn as sk\n",
    "import matplotlib.pyplot as plt\n",
    "import time\n",
    "import sklearn.pipeline\n",
    "%matplotlib inline\n"
   ]
  },
  {
   "cell_type": "markdown",
   "metadata": {},
   "source": [
    "Read in the Data "
   ]
  },
  {
   "cell_type": "code",
   "execution_count": 72,
   "metadata": {},
   "outputs": [
    {
     "name": "stderr",
     "output_type": "stream",
     "text": [
      "/var/folders/7p/v4s1vzgj3fz1cnk_dqbddljr0000gn/T/ipykernel_12958/2062880841.py:3: FutureWarning: Downcasting behavior in `replace` is deprecated and will be removed in a future version. To retain the old behavior, explicitly call `result.infer_objects(copy=False)`. To opt-in to the future behavior, set `pd.set_option('future.no_silent_downcasting', True)`\n",
      "  data = data.replace({\"M\",\"B\"},{1,0})\n"
     ]
    },
    {
     "data": {
      "text/html": [
       "<div>\n",
       "<style scoped>\n",
       "    .dataframe tbody tr th:only-of-type {\n",
       "        vertical-align: middle;\n",
       "    }\n",
       "\n",
       "    .dataframe tbody tr th {\n",
       "        vertical-align: top;\n",
       "    }\n",
       "\n",
       "    .dataframe thead th {\n",
       "        text-align: right;\n",
       "    }\n",
       "</style>\n",
       "<table border=\"1\" class=\"dataframe\">\n",
       "  <thead>\n",
       "    <tr style=\"text-align: right;\">\n",
       "      <th></th>\n",
       "      <th>radius_mean</th>\n",
       "      <th>texture_mean</th>\n",
       "      <th>perimeter_mean</th>\n",
       "      <th>area_mean</th>\n",
       "      <th>smoothness_mean</th>\n",
       "      <th>compactness_mean</th>\n",
       "      <th>concavity_mean</th>\n",
       "      <th>concave points_mean</th>\n",
       "      <th>symmetry_mean</th>\n",
       "      <th>fractal_dimension_mean</th>\n",
       "      <th>...</th>\n",
       "      <th>radius_worst</th>\n",
       "      <th>texture_worst</th>\n",
       "      <th>perimeter_worst</th>\n",
       "      <th>area_worst</th>\n",
       "      <th>smoothness_worst</th>\n",
       "      <th>compactness_worst</th>\n",
       "      <th>concavity_worst</th>\n",
       "      <th>concave points_worst</th>\n",
       "      <th>symmetry_worst</th>\n",
       "      <th>fractal_dimension_worst</th>\n",
       "    </tr>\n",
       "  </thead>\n",
       "  <tbody>\n",
       "    <tr>\n",
       "      <th>421</th>\n",
       "      <td>14.69</td>\n",
       "      <td>13.98</td>\n",
       "      <td>98.22</td>\n",
       "      <td>656.1</td>\n",
       "      <td>0.10310</td>\n",
       "      <td>0.18360</td>\n",
       "      <td>0.14500</td>\n",
       "      <td>0.06300</td>\n",
       "      <td>0.2086</td>\n",
       "      <td>0.07406</td>\n",
       "      <td>...</td>\n",
       "      <td>16.46</td>\n",
       "      <td>18.34</td>\n",
       "      <td>114.10</td>\n",
       "      <td>809.2</td>\n",
       "      <td>0.1312</td>\n",
       "      <td>0.36350</td>\n",
       "      <td>0.3219</td>\n",
       "      <td>0.11080</td>\n",
       "      <td>0.2827</td>\n",
       "      <td>0.09208</td>\n",
       "    </tr>\n",
       "    <tr>\n",
       "      <th>47</th>\n",
       "      <td>13.17</td>\n",
       "      <td>18.66</td>\n",
       "      <td>85.98</td>\n",
       "      <td>534.6</td>\n",
       "      <td>0.11580</td>\n",
       "      <td>0.12310</td>\n",
       "      <td>0.12260</td>\n",
       "      <td>0.07340</td>\n",
       "      <td>0.2128</td>\n",
       "      <td>0.06777</td>\n",
       "      <td>...</td>\n",
       "      <td>15.67</td>\n",
       "      <td>27.95</td>\n",
       "      <td>102.80</td>\n",
       "      <td>759.4</td>\n",
       "      <td>0.1786</td>\n",
       "      <td>0.41660</td>\n",
       "      <td>0.5006</td>\n",
       "      <td>0.20880</td>\n",
       "      <td>0.3900</td>\n",
       "      <td>0.11790</td>\n",
       "    </tr>\n",
       "    <tr>\n",
       "      <th>292</th>\n",
       "      <td>12.95</td>\n",
       "      <td>16.02</td>\n",
       "      <td>83.14</td>\n",
       "      <td>513.7</td>\n",
       "      <td>0.10050</td>\n",
       "      <td>0.07943</td>\n",
       "      <td>0.06155</td>\n",
       "      <td>0.03370</td>\n",
       "      <td>0.1730</td>\n",
       "      <td>0.06470</td>\n",
       "      <td>...</td>\n",
       "      <td>13.74</td>\n",
       "      <td>19.93</td>\n",
       "      <td>88.81</td>\n",
       "      <td>585.4</td>\n",
       "      <td>0.1483</td>\n",
       "      <td>0.20680</td>\n",
       "      <td>0.2241</td>\n",
       "      <td>0.10560</td>\n",
       "      <td>0.3380</td>\n",
       "      <td>0.09584</td>\n",
       "    </tr>\n",
       "    <tr>\n",
       "      <th>186</th>\n",
       "      <td>18.31</td>\n",
       "      <td>18.58</td>\n",
       "      <td>118.60</td>\n",
       "      <td>1041.0</td>\n",
       "      <td>0.08588</td>\n",
       "      <td>0.08468</td>\n",
       "      <td>0.08169</td>\n",
       "      <td>0.05814</td>\n",
       "      <td>0.1621</td>\n",
       "      <td>0.05425</td>\n",
       "      <td>...</td>\n",
       "      <td>21.31</td>\n",
       "      <td>26.36</td>\n",
       "      <td>139.20</td>\n",
       "      <td>1410.0</td>\n",
       "      <td>0.1234</td>\n",
       "      <td>0.24450</td>\n",
       "      <td>0.3538</td>\n",
       "      <td>0.15710</td>\n",
       "      <td>0.3206</td>\n",
       "      <td>0.06938</td>\n",
       "    </tr>\n",
       "    <tr>\n",
       "      <th>414</th>\n",
       "      <td>15.13</td>\n",
       "      <td>29.81</td>\n",
       "      <td>96.71</td>\n",
       "      <td>719.5</td>\n",
       "      <td>0.08320</td>\n",
       "      <td>0.04605</td>\n",
       "      <td>0.04686</td>\n",
       "      <td>0.02739</td>\n",
       "      <td>0.1852</td>\n",
       "      <td>0.05294</td>\n",
       "      <td>...</td>\n",
       "      <td>17.26</td>\n",
       "      <td>36.91</td>\n",
       "      <td>110.10</td>\n",
       "      <td>931.4</td>\n",
       "      <td>0.1148</td>\n",
       "      <td>0.09866</td>\n",
       "      <td>0.1547</td>\n",
       "      <td>0.06575</td>\n",
       "      <td>0.3233</td>\n",
       "      <td>0.06165</td>\n",
       "    </tr>\n",
       "  </tbody>\n",
       "</table>\n",
       "<p>5 rows × 30 columns</p>\n",
       "</div>"
      ],
      "text/plain": [
       "     radius_mean  texture_mean  perimeter_mean  area_mean  smoothness_mean  \\\n",
       "421        14.69         13.98           98.22      656.1          0.10310   \n",
       "47         13.17         18.66           85.98      534.6          0.11580   \n",
       "292        12.95         16.02           83.14      513.7          0.10050   \n",
       "186        18.31         18.58          118.60     1041.0          0.08588   \n",
       "414        15.13         29.81           96.71      719.5          0.08320   \n",
       "\n",
       "     compactness_mean  concavity_mean  concave points_mean  symmetry_mean  \\\n",
       "421           0.18360         0.14500              0.06300         0.2086   \n",
       "47            0.12310         0.12260              0.07340         0.2128   \n",
       "292           0.07943         0.06155              0.03370         0.1730   \n",
       "186           0.08468         0.08169              0.05814         0.1621   \n",
       "414           0.04605         0.04686              0.02739         0.1852   \n",
       "\n",
       "     fractal_dimension_mean  ...  radius_worst  texture_worst  \\\n",
       "421                 0.07406  ...         16.46          18.34   \n",
       "47                  0.06777  ...         15.67          27.95   \n",
       "292                 0.06470  ...         13.74          19.93   \n",
       "186                 0.05425  ...         21.31          26.36   \n",
       "414                 0.05294  ...         17.26          36.91   \n",
       "\n",
       "     perimeter_worst  area_worst  smoothness_worst  compactness_worst  \\\n",
       "421           114.10       809.2            0.1312            0.36350   \n",
       "47            102.80       759.4            0.1786            0.41660   \n",
       "292            88.81       585.4            0.1483            0.20680   \n",
       "186           139.20      1410.0            0.1234            0.24450   \n",
       "414           110.10       931.4            0.1148            0.09866   \n",
       "\n",
       "     concavity_worst  concave points_worst  symmetry_worst  \\\n",
       "421           0.3219               0.11080          0.2827   \n",
       "47            0.5006               0.20880          0.3900   \n",
       "292           0.2241               0.10560          0.3380   \n",
       "186           0.3538               0.15710          0.3206   \n",
       "414           0.1547               0.06575          0.3233   \n",
       "\n",
       "     fractal_dimension_worst  \n",
       "421                  0.09208  \n",
       "47                   0.11790  \n",
       "292                  0.09584  \n",
       "186                  0.06938  \n",
       "414                  0.06165  \n",
       "\n",
       "[5 rows x 30 columns]"
      ]
     },
     "execution_count": 72,
     "metadata": {},
     "output_type": "execute_result"
    }
   ],
   "source": [
    "data = pd.read_csv(\"breast-cancer.csv\")\n",
    "data = data.drop(\"id\", axis = 1)\n",
    "data = data.replace({\"M\",\"B\"},{1,0})\n",
    "data = data.sample(frac=1, random_state=1)\n",
    "Y = data[\"diagnosis\"]\n",
    "X = data.drop(\"diagnosis\",axis = 1)\n",
    "X.head()"
   ]
  },
  {
   "cell_type": "markdown",
   "metadata": {},
   "source": [
    "# Data Exploration\n",
    "\n",
    "The data set we collected was made for classifying breast tumors as either malignant or benign. The data was already well cleaned and maintained, there were no NULL values reported as NAN as seen below and the few values of 0 were in features that had a large distribution close to zero and where a value of 0 made since (concavity would be 0 if it wasn't concave). The data was parsed into 30 summary features comprising the mean, standard error, and worst case value for a number of different measurements. To initially prepare the data we changed M and B to 1 and 0, 1 being Malignant and 0 being Benign, removed the id and split the label from the features."
   ]
  },
  {
   "cell_type": "code",
   "execution_count": 73,
   "metadata": {},
   "outputs": [
    {
     "data": {
      "text/plain": [
       "0"
      ]
     },
     "execution_count": 73,
     "metadata": {},
     "output_type": "execute_result"
    }
   ],
   "source": [
    "# check for null values \n",
    "data.isnull().sum().sum()"
   ]
  },
  {
   "cell_type": "markdown",
   "metadata": {},
   "source": [
    "### Feature Selection\n",
    "\n",
    "In order to determine what data features were useful in classifying a record we used a method that calculated the mutual information between a feature and the resulting label. Mutual Information is a measure of the dependence two variables have with one another with a value of 0 being total independence. We ran the models both with a cut-off mutual information value of 0.1 and 0.7, which resulting in data sets of around 20 features and 24 features respectively. While the dataset with a cutoff of 0.1 had a higher average mutual information value across the whole data set, being around 0.32, as compared to the data with a cutoff of 0.7, which had a value of around 0.26. Both of these being a significant improvement over the initial Mutual Information value of 0.21. \n",
    "\n",
    "Despite the higher Mutual Information value however, the model with the lower cutoff actually resulted in slightly better results, likely because with our extremely small dataset removing too many columns had small but notable impact on our accuracy. Therefore we utilized a final cutoff of 0.7 which provided the best final output.\n",
    " \n",
    "Note: these exact values may vary with the exact values chosen from random state so I set one value for consistency"
   ]
  },
  {
   "cell_type": "code",
   "execution_count": 74,
   "metadata": {},
   "outputs": [
    {
     "name": "stdout",
     "output_type": "stream",
     "text": [
      "Initial Mutual Information across dataset: 0.21326031412580918\n",
      "Mutual Information with cutoff at 0.1: 0.3201697922377496\n",
      "Mutual Information with cutoff at 0.07: 0.2609277587011573\n",
      "List of features kept:\n",
      "0 )  \t radius_mean\n",
      "1 )  \t texture_mean\n",
      "2 )  \t perimeter_mean\n",
      "3 )  \t area_mean\n",
      "4 )  \t smoothness_mean\n",
      "5 )  \t compactness_mean\n",
      "6 )  \t concavity_mean\n",
      "7 )  \t concave points_mean\n",
      "8 )  \t symmetry_mean\n",
      "9 )  \t radius_se\n",
      "10 )  \t perimeter_se\n",
      "11 )  \t area_se\n",
      "12 )  \t compactness_se\n",
      "13 )  \t concavity_se\n",
      "14 )  \t concave points_se\n",
      "15 )  \t radius_worst\n",
      "16 )  \t texture_worst\n",
      "17 )  \t perimeter_worst\n",
      "18 )  \t area_worst\n",
      "19 )  \t smoothness_worst\n",
      "20 )  \t compactness_worst\n",
      "21 )  \t concavity_worst\n",
      "22 )  \t concave points_worst\n",
      "23 )  \t symmetry_worst\n",
      "(569, 24)\n"
     ]
    }
   ],
   "source": [
    "from sklearn import feature_selection\n",
    "\n",
    "keep_list = []\n",
    "\n",
    "# Select which features to keep\n",
    "for index in range(X.shape[1]):\n",
    "    if(feature_selection.mutual_info_classif(pd.DataFrame(X.iloc[:,index]),Y,random_state=70) >= 0.1):\n",
    "       keep_list.append(X.columns[index])\n",
    "X_reduced_1 = X[keep_list]\n",
    "\n",
    "keep_list = []\n",
    "for index in range(X.shape[1]):\n",
    "    if(feature_selection.mutual_info_classif(pd.DataFrame(X.iloc[:,index]),Y, random_state=70) >= 0.07):\n",
    "       keep_list.append(X.columns[index])\n",
    "\n",
    "\n",
    "X_reduced = X[keep_list]\n",
    "\n",
    "print(\"Initial Mutual Information across dataset:\",np.average(feature_selection.mutual_info_classif(X,Y,random_state=70)) )\n",
    "print(\"Mutual Information with cutoff at 0.1:\",np.average(feature_selection.mutual_info_classif(X_reduced_1,Y,random_state=70)))\n",
    "print(\"Mutual Information with cutoff at 0.07:\",np.average(feature_selection.mutual_info_classif(X_reduced,Y,random_state=70)),)\n",
    "\n",
    "\n",
    "print(\"List of features kept:\")\n",
    "for index in range(len(keep_list)):\n",
    "    print(index, \") \", '\\t',  keep_list[index])\n",
    "\n",
    "X = X_reduced\n",
    "\n",
    "print(X_reduced.shape)"
   ]
  },
  {
   "cell_type": "markdown",
   "metadata": {},
   "source": [
    "## Anomaly Detection\n",
    "\n",
    "Another avenue we pursued to imporove our accuracy was anomaly detection, using DBscan to identify outliers. First in order to tune the DBscan we scaled and applied a PCA reduction on the data. This ensures everything is evaluated on the same scale and that the curse of dimensionality does not overly impact the effectiveness of the algorithm. We graphed the 4th Nearest Neighbor of each point determining via the elbow method that 3.5 is an appropriate value for eps"
   ]
  },
  {
   "cell_type": "code",
   "execution_count": 75,
   "metadata": {},
   "outputs": [
    {
     "name": "stdout",
     "output_type": "stream",
     "text": [
      "Best K-Nearest Neighbor: 3.25\n"
     ]
    },
    {
     "data": {
      "image/png": "[encoded data removed]",
      "text/plain": [
       "<Figure size 640x480 with 1 Axes>"
      ]
     },
     "metadata": {},
     "output_type": "display_data"
    }
   ],
   "source": [
    "\n",
    "from sklearn.preprocessing import StandardScaler\n",
    "from sklearn.decomposition import PCA\n",
    "from sklearn.neighbors import NearestNeighbors\n",
    "scaler = StandardScaler()\n",
    "pca = PCA(n_components=0.95, svd_solver=\"full\")\n",
    "# scales and reduces dimension of data to improve distance based models\n",
    "processed_data = pd.DataFrame(pca.fit_transform(scaler.fit_transform(X)))\n",
    "nn = NearestNeighbors(n_neighbors=4)\n",
    "nn.fit(processed_data)\n",
    "distance_matrix = nn.kneighbors(processed_data)[0]\n",
    "distances = np.sort(distance_matrix[:,3])\n",
    "print(\"Best K-Nearest Neighbor: 3.25\")\n",
    "plt.plot(distances)\n",
    "plt.hlines(y=3.5, xmin=0, xmax=600)\n",
    "plt.show()"
   ]
  },
  {
   "cell_type": "markdown",
   "metadata": {},
   "source": [
    "Using eps of 3.5 and min samples of 4 we created located the outliers, note that despite an appropriate eps being used dbscan is unable to identify the two internal clusters due to different density regions being conjoined. We identified 19 points of noise"
   ]
  },
  {
   "cell_type": "code",
   "execution_count": 76,
   "metadata": {},
   "outputs": [
    {
     "name": "stdout",
     "output_type": "stream",
     "text": [
      "Estimated no. of clusters: 2\n",
      "Estimated no. of noise points: 19\n"
     ]
    },
    {
     "data": {
      "image/png": "[encoded data removed]",
      "text/plain": [
       "<Figure size 640x480 with 1 Axes>"
      ]
     },
     "metadata": {},
     "output_type": "display_data"
    }
   ],
   "source": [
    "from sklearn.cluster import DBSCAN\n",
    "\n",
    "db = DBSCAN(eps=3.5, min_samples=4).fit(processed_data)\n",
    "labels = db.labels_\n",
    "no_clusters = len(np.unique(labels))\n",
    "no_noise = np.sum(np.array(labels) == -1, axis=0)\n",
    "print('Estimated no. of clusters: %d' % no_clusters)\n",
    "print('Estimated no. of noise points: %d' % no_noise)\n",
    "\n",
    "inliersX = X.loc[labels == 0]\n",
    "outliersX = X.loc[labels == -1]\n",
    "\n",
    "inliersY = Y.loc[labels == 0]\n",
    "outliersY = Y.loc[labels == -1]\n",
    "\n",
    "\n",
    "plt.scatter(processed_data.loc[labels == -1, 0], processed_data.loc[labels == -1, 1], \n",
    "                    c='red', marker='x', label='Outliers', alpha=0.5)\n",
    "plt.scatter(processed_data.loc[labels == 0, 0], processed_data.loc[labels == 0, 1], \n",
    "                    marker='.', label=f'Cluster 1')\n",
    "\n",
    "plt.xlabel('PCA Component 1')\n",
    "plt.ylabel('PCA Component 2')\n",
    "plt.title('DBSCAN Clustering')\n",
    "plt.legend()\n",
    "plt.show()\n"
   ]
  },
  {
   "cell_type": "markdown",
   "metadata": {},
   "source": [
    "To see how another unsupervised algorithm performed on the data we made a Kmeans model, the model performed much better getting an accuracy of 92% when including the outliers and 93% without them. Using a graph of the first and second principle component, you can clearly see the distrubution of the two clusters"
   ]
  },
  {
   "cell_type": "code",
   "execution_count": 77,
   "metadata": {},
   "outputs": [
    {
     "name": "stdout",
     "output_type": "stream",
     "text": [
      "K means clustering accuracy when including outliers 0.9244288224956063\n",
      "K means clustering accuracy when excluding outliers 0.9309090909090909\n"
     ]
    },
    {
     "data": {
      "image/png": "[encoded data removed]",
      "text/plain": [
       "<Figure size 640x480 with 1 Axes>"
      ]
     },
     "metadata": {},
     "output_type": "display_data"
    }
   ],
   "source": [
    "from sklearn.cluster import KMeans\n",
    "\n",
    "inliers = processed_data[labels == 0]\n",
    "outliers = processed_data[labels == -1]\n",
    "\n",
    "# Perform KMeans clustering on the original scaled data\n",
    "kmeans = KMeans(n_clusters=2, random_state=42)\n",
    "\n",
    "kmeans.fit(processed_data)\n",
    "klabels_with_outliers = kmeans.labels_\n",
    "kmeans.fit(inliers)\n",
    "klabels = kmeans.labels_\n",
    "\n",
    "k_means_accuracy = max((inliersY == klabels).sum()/(inliersY == klabels).count(), \n",
    "                            (inliersY == klabels^1).sum()/(inliersY == klabels^1).count())\n",
    "k_means_accuracy_wo = max((Y == klabels_with_outliers^1).sum()/(Y == klabels_with_outliers^1).count(),\n",
    "                            (Y == klabels_with_outliers).sum()/(Y == klabels_with_outliers).count())\n",
    "\n",
    "\n",
    "print(\"K means clustering accuracy when including outliers\",k_means_accuracy_wo)\n",
    "print(\"K means clustering accuracy when excluding outliers\",k_means_accuracy)\n",
    "\n",
    "\n",
    "plt.scatter(inliers.iloc[:,0], inliers.iloc[:,1], c=klabels,marker='.', label='Inliers')\n",
    "plt.scatter(outliers.iloc[:,0], outliers.iloc[:,1], c='red', marker='x', label='Outliers')\n",
    "plt.legend()\n",
    "plt.xlabel('PCA Component 1')\n",
    "plt.ylabel('PCA Component 2')\n",
    "plt.title('K Means Clustering')\n",
    "plt.legend()\n",
    "plt.show()\n",
    "\n",
    "\n",
    "X = inliersX\n",
    "Y = inliersY\n"
   ]
  },
  {
   "cell_type": "markdown",
   "metadata": {},
   "source": [
    "# Metric Calculation\n",
    "\n",
    "The following code is utility code that we use to get the metrics for our data. In here, we get calculations (accuracy, recall, precision), generate confusion matrices, and print out our formated metrics. "
   ]
  },
  {
   "cell_type": "code",
   "execution_count": 78,
   "metadata": {},
   "outputs": [],
   "source": [
    "\n",
    "# Print statement for metrics at the end\n",
    "\n",
    "from sklearn import metrics\n",
    "\n",
    "# Using the code for calculating and printing \n",
    "# the confusion matrix from Assignment 3\n",
    "def get_confusion(test_data, results):\n",
    "    TN = 0\n",
    "    TP = 0\n",
    "    FN = 0\n",
    "    FP = 0\n",
    "    for i in range(len(test_data)):\n",
    "        expected = test_data[i]\n",
    "        if(expected):\n",
    "            if (results[i]):\n",
    "                TP += 1\n",
    "            else:\n",
    "                FN += 1\n",
    "        else:\n",
    "            if (results[i]): #is neg guessed pos\n",
    "                FP += 1\n",
    "            else: \n",
    "                TN += 1\n",
    "\n",
    "\n",
    "\n",
    "    return TN, TP, FN, FP \n",
    "\n",
    "def print_confusion_matrix(TP, FN, FP, TN):\n",
    "    \n",
    "    table_data = [[TP,FN],[FP,TN]]\n",
    "    df = pd.DataFrame(table_data, columns =['Predicted 1','Predicted 0'])\n",
    "    df = df.rename(index={0: 'Actual 1', 1: 'Actual 0'})\n",
    "    display(df)\n",
    "\n",
    "# takes in a list of predicted values and test sets for each fold of crossvalidation\n",
    "def PrintMetrics_list(y_actual, y_pred):\n",
    "    accuracies = []\n",
    "    tn = 0\n",
    "    tp = 0\n",
    "    fn = 0\n",
    "    fp = 0\n",
    "    loops = len(y_pred)\n",
    "    for i in range(loops):\n",
    "        accuracies.append(sk.metrics.accuracy_score(y_actual[i],y_pred[i]))\n",
    "        confusion = get_confusion(list(y_actual[i]),list(y_pred[i]))\n",
    "        tn += confusion[0]\n",
    "        tp += confusion[1]\n",
    "        fn += confusion[2]\n",
    "        fp += confusion[3]\n",
    "    accuracy = np.average(accuracies)\n",
    "    print(\"\\tAccuracy:\",accuracy)\n",
    "    print_confusion_matrix(tp,fn,fp,tn)\n",
    "    precision = tp/(tp+fp)\n",
    "    recall = tp/(tp + fn)\n",
    "    print(\"\\tPrecision: \",precision)\n",
    "    print(\"\\tRecall:\",recall)\n",
    "\n",
    "def PrintMetrics(y_actual, y_pred):\n",
    "    tn = 0\n",
    "    tp = 0\n",
    "    fn = 0\n",
    "    fp = 0\n",
    "    accuracy = sk.metrics.accuracy_score(y_actual,y_pred)\n",
    "    confusion = get_confusion(y_actual,y_pred)\n",
    "    tn += confusion[0]\n",
    "    tp += confusion[1]\n",
    "    fn += confusion[2]\n",
    "    fp += confusion[3]\n",
    "    \n",
    "    print(\"Accuracy:\",accuracy)\n",
    "    print_confusion_matrix(tp,fn,fp,tn)\n",
    "    precision = tp/(tp+fp)\n",
    "    recall = tp/(tp + fn)\n",
    "    print(\"Precision: \",precision)\n",
    "    print(\"Recall:\",recall)\n",
    "    \n",
    "\n"
   ]
  },
  {
   "cell_type": "markdown",
   "metadata": {},
   "source": [
    "# Modeling\n",
    "\n",
    "In order to classify the data, we tried a number of different models in order to determine which would perform best. For each model we tuned the hyper-parameters using a gridsearch CV, iteratively adjusting  using a small range of the potential values for each parameter so that they both trained efficiently but still found the best potential value. In addition to tuning hyperparameters we also applied scaling and PCA reductions depending on the needs of the algorithm.\n",
    "\n",
    "Note: This iterative process resulted in some hyperparameters, for example the activation function in neural nets having only one value, as it was always selected. While those could be moved to when the model was initially created, we left those in as an illustration of the process."
   ]
  },
  {
   "cell_type": "markdown",
   "metadata": {},
   "source": [
    "\n",
    "## Random forest\n",
    "For this model, we experimented with hyperparameters max_depth and min_samples_leaf. The max_depth parameter determines the max depth of the tree, and the min_sample_leaf sets the minimin number of samples present in order for a node to be considered as a leaf.\n",
    "\n",
    "When examining the max_depth, we discovered that a value of around 32 was chosen the most. When examining the min_samples_leaf, we found out GridSearchCV always prefer the sample to be the lowest value in the range. \n",
    " \n"
   ]
  },
  {
   "cell_type": "code",
   "execution_count": 79,
   "metadata": {},
   "outputs": [
    {
     "name": "stdout",
     "output_type": "stream",
     "text": [
      "Testing Random Forest...\n",
      "\n",
      "Iteration  0\n",
      "\tChosen max_depth: 36\n",
      "\tChosen min_samples_leaf: 1\n",
      "\n",
      "Iteration  1\n",
      "\tChosen max_depth: 31\n",
      "\tChosen min_samples_leaf: 1\n",
      "\n",
      "Iteration  2\n",
      "\tChosen max_depth: 30\n",
      "\tChosen min_samples_leaf: 1\n",
      "\n",
      "Iteration  3\n",
      "\tChosen max_depth: 32\n",
      "\tChosen min_samples_leaf: 1\n",
      "\n",
      "Iteration  4\n",
      "\tChosen max_depth: 34\n",
      "\tChosen min_samples_leaf: 1\n",
      "\n"
     ]
    }
   ],
   "source": [
    "outputs = []\n",
    "\n",
    "#Random Forest\n",
    "print(\"Testing Random Forest...\\n\")\n",
    "from sklearn import model_selection\n",
    "from sklearn import ensemble\n",
    "\n",
    "# Hyperparameters: \n",
    "param_grid = { \n",
    "    \"max_depth\": list(range(30,40)),\n",
    "    \"min_samples_leaf\": list(range(1,3,2))\n",
    "}\n",
    "\n",
    "inner = sk.model_selection.GridSearchCV(sk.ensemble.RandomForestClassifier(),param_grid)\n",
    "kf = sk.model_selection.KFold(n_splits=5)\n",
    "\n",
    "actuals = []\n",
    "preds = []\n",
    "\n",
    "# 5 fold cross validation \n",
    "for i, (train_index, test_index) in enumerate(kf.split(X)):\n",
    "    print(\"Iteration \", i)\n",
    "    X_train, X_test, Y_train, Y_test = X.iloc[train_index],X.iloc[test_index], Y.iloc[train_index], Y.iloc[test_index]\n",
    "    # Run Random Forest\n",
    "    inner.fit(X_train,Y_train)\n",
    "    print(\"\\tChosen max_depth:\",inner.best_estimator_.get_params()[\"max_depth\"])\n",
    "    print(\"\\tChosen min_samples_leaf:\",inner.best_estimator_.get_params()[\"min_samples_leaf\"])\n",
    "    print()\n",
    "    preds.append(inner.predict(X_test))\n",
    "    actuals.append(Y_test)\n",
    "\n",
    "# Appending to output list\n",
    "outputs.append([\"Random Forest\",actuals,preds])"
   ]
  },
  {
   "cell_type": "markdown",
   "metadata": {},
   "source": [
    "## ADA Boosting\n",
    "For this model we use the ADA Boost Classifier with the parameter n_estimators equal to 100, 110, 120, 130, or 140. \\\n",
    "The n_estimators hyperparameter sets the maximum number of estimators at which boosting is terminated. \n"
   ]
  },
  {
   "cell_type": "code",
   "execution_count": 80,
   "metadata": {},
   "outputs": [
    {
     "name": "stdout",
     "output_type": "stream",
     "text": [
      "Testing ADA Boosting...\n",
      "\n",
      "Iteration 0\n",
      "\tChosen n_estimators: 100\n",
      "\n",
      "Iteration 1\n",
      "\tChosen n_estimators: 120\n",
      "\n",
      "Iteration 2\n",
      "\tChosen n_estimators: 140\n",
      "\n",
      "Iteration 3\n",
      "\tChosen n_estimators: 130\n",
      "\n",
      "Iteration 4\n",
      "\tChosen n_estimators: 130\n",
      "\n"
     ]
    }
   ],
   "source": [
    "#ADA Boosting\n",
    "print(\"Testing ADA Boosting...\\n\")\n",
    "\n",
    "# Hyperparameters\n",
    "param_grid = { \n",
    "   'n_estimators': list(range(100,150,10)),\n",
    "}\n",
    "\n",
    "boost = sk.ensemble.AdaBoostClassifier(algorithm=\"SAMME\")\n",
    "inner = sk.model_selection.GridSearchCV(boost,param_grid,cv= 5)\n",
    "\n",
    "preds = []\n",
    "actuals = []\n",
    "\n",
    "# 5 fold cross validation \n",
    "for i, (train_index, test_index) in enumerate(kf.split(X)):\n",
    "    print(\"Iteration\", i)\n",
    "    X_train, X_test, Y_train, Y_test = X.iloc[train_index],X.iloc[test_index], Y.iloc[train_index], Y.iloc[test_index]\n",
    "    # Run ADA boost\n",
    "    inner.fit(X_train,Y_train)\n",
    "    print(\"\\tChosen n_estimators:\",inner.best_estimator_.get_params()[\"n_estimators\"])\n",
    "    print()\n",
    "    preds.append(inner.predict(X_test))\n",
    "    actuals.append(Y_test)\n",
    "\n",
    "# Appending to output list\n",
    "outputs.append([\"ADA Boosting\",actuals,preds])"
   ]
  },
  {
   "cell_type": "markdown",
   "metadata": {},
   "source": [
    "## SVM\n",
    "For this model we use the SVM Classifier with the parameter pca__n_components equal to a value from 5-15 and svc_kernal either linear or rbf. \\\n",
    "The pca_n_components hyperparameter limits the number of components to keep, and the svc_kernal hyperparameter specifies the kernel type to be used in the model.\n"
   ]
  },
  {
   "cell_type": "code",
   "execution_count": 81,
   "metadata": {},
   "outputs": [
    {
     "name": "stdout",
     "output_type": "stream",
     "text": [
      "Testing SVM...\n",
      "\n",
      "Iteration 0\n",
      "\tChosen n_components: 9\n",
      "\tChosen kernel: linear\n",
      "\n",
      "Iteration 1\n",
      "\tChosen n_components: 12\n",
      "\tChosen kernel: linear\n",
      "\n",
      "Iteration 2\n",
      "\tChosen n_components: 8\n",
      "\tChosen kernel: linear\n",
      "\n",
      "Iteration 3\n",
      "\tChosen n_components: 9\n",
      "\tChosen kernel: linear\n",
      "\n",
      "Iteration 4\n",
      "\tChosen n_components: 9\n",
      "\tChosen kernel: linear\n",
      "\n"
     ]
    }
   ],
   "source": [
    "#SVM\n",
    "print(\"Testing SVM...\\n\")\n",
    "\n",
    "scaler = sk.preprocessing.StandardScaler()\n",
    "pca = sk.decomposition.PCA()\n",
    "svc = sk.svm.SVC()\n",
    "pipe = sk.pipeline.Pipeline(steps=[(\"scaler\",scaler),(\"pca\",pca),(\"svc\",svc)])\n",
    "\n",
    "# Hyperparameters\n",
    "param_grid = { \n",
    "    'pca__n_components': list(range(5, 15)),\n",
    "    'svc__kernel': [\"linear\",\"rbf\"]\n",
    "}\n",
    "\n",
    "inner = sk.model_selection.GridSearchCV(pipe,param_grid, cv=5)\n",
    "\n",
    "preds = []\n",
    "actuals = []\n",
    "\n",
    "# 5 fold cross validation\n",
    "for i, (train_index, test_index) in enumerate(kf.split(X)):\n",
    "    print(\"Iteration\", i)\n",
    "    X_train, X_test, Y_train, Y_test = X.iloc[train_index],X.iloc[test_index], Y.iloc[train_index], Y.iloc[test_index]\n",
    "    # Run SVM\n",
    "    inner.fit(X_train,Y_train)\n",
    "    print(\"\\tChosen n_components:\",inner.best_estimator_.get_params()[\"pca__n_components\"])\n",
    "    print(\"\\tChosen kernel:\",inner.best_estimator_.get_params()[\"svc__kernel\"])\n",
    "    print()\n",
    "    preds.append(inner.predict(X_test))\n",
    "    actuals.append(Y_test)\n",
    "\n",
    "# Appending to output list\n",
    "outputs.append([\"SVM\",actuals,preds])\n"
   ]
  },
  {
   "cell_type": "markdown",
   "metadata": {},
   "source": [
    "## Nearest Neighbor\n",
    "For this model we use the K-Nearest Neighbor Classifier with the parameter pca_n_components equal to a value between 5-10 and knn__n_neighbors equal to a value from 2-4. \\\n",
    "The pca_n_components hyperparameter limits the number of components to keep, and the knn__n_neighbors sets the number of neighbors to use.\n"
   ]
  },
  {
   "cell_type": "code",
   "execution_count": 82,
   "metadata": {},
   "outputs": [
    {
     "name": "stdout",
     "output_type": "stream",
     "text": [
      "Testing K-Nearest Neighbors...\n",
      "\n",
      "Iteration 0\n",
      "\tChosen n_components: 8\n",
      "\tChosen n_neighbors: 3\n",
      "\n",
      "Iteration 1\n",
      "\tChosen n_components: 9\n",
      "\tChosen n_neighbors: 3\n",
      "\n",
      "Iteration 2\n",
      "\tChosen n_components: 7\n",
      "\tChosen n_neighbors: 3\n",
      "\n",
      "Iteration 3\n",
      "\tChosen n_components: 9\n",
      "\tChosen n_neighbors: 3\n",
      "\n",
      "Iteration 4\n",
      "\tChosen n_components: 7\n",
      "\tChosen n_neighbors: 3\n",
      "\n"
     ]
    }
   ],
   "source": [
    "#Nearest Neighbor\n",
    "print(\"Testing K-Nearest Neighbors...\\n\")\n",
    "\n",
    "scaler = sk.preprocessing.StandardScaler()\n",
    "pca = sk.decomposition.PCA()\n",
    "knn = sk.neighbors.KNeighborsClassifier()\n",
    "pipe = sk.pipeline.Pipeline(steps=[(\"scaler\",scaler),(\"pca\",pca),(\"knn\",knn)])\n",
    "\n",
    "# Hyperparameters\n",
    "param_grid = {\n",
    "    'pca__n_components': list(range(5,10)),\n",
    "    'knn__n_neighbors': list(range(2,4))\n",
    "}\n",
    "\n",
    "inner = sk.model_selection.GridSearchCV(pipe,param_grid, cv = 5)\n",
    "\n",
    "preds = []\n",
    "actuals = []\n",
    "\n",
    "# 5 fold cross validation\n",
    "for i, (train_index, test_index) in enumerate(kf.split(X)):\n",
    "    print(\"Iteration\",i)\n",
    "    X_train, X_test, Y_train, Y_test = X.iloc[train_index],X.iloc[test_index], Y.iloc[train_index], Y.iloc[test_index]\n",
    "    # Run nearest neighbor\n",
    "    inner.fit(X_train,Y_train)\n",
    "    print(\"\\tChosen n_components:\",inner.best_estimator_.get_params()[\"pca__n_components\"])\n",
    "    print(\"\\tChosen n_neighbors:\",inner.best_estimator_.get_params()[\"knn__n_neighbors\"])\n",
    "    print()\n",
    "    preds.append(inner.predict(X_test))\n",
    "    actuals.append(Y_test)\n",
    "\n",
    "# Appending to output list\n",
    "outputs.append([\"K Nearest Neighbor\",actuals,preds])\n"
   ]
  },
  {
   "cell_type": "markdown",
   "metadata": {},
   "source": [
    "## Simple Neural Net\n",
    "For this model we use a simple Neural Net Classifier with the parameter nn__hidden_layer_sizes equal to 30, 40, 50, or 60,  nn__activation equal to a tanh, and nn__max_iter equal to 200, 250, 300, 350, or 400. \\\n",
    "The nn__hidden_layer_sizes is the number of neurons in the ith hidden layer. The nn__activation is the activation function for the hidden layer. When we experimented with different functions, ther algorithm always picked the tanh function. The nn__max_iter parameter sets the maximum number of iterations.\n"
   ]
  },
  {
   "cell_type": "code",
   "execution_count": 83,
   "metadata": {},
   "outputs": [
    {
     "name": "stdout",
     "output_type": "stream",
     "text": [
      "Testing Simple Neural Nets...\n",
      "\n",
      "Iteration 0\n",
      "\tChosen hidden_layer_sizes: (40,)\n",
      "\tChosen activation: tanh\n",
      "\tChosen max_iter: 350\n",
      "\n",
      "Iteration 1\n",
      "\tChosen hidden_layer_sizes: (50,)\n",
      "\tChosen activation: tanh\n",
      "\tChosen max_iter: 250\n",
      "\n",
      "Iteration 2\n",
      "\tChosen hidden_layer_sizes: (60,)\n",
      "\tChosen activation: tanh\n",
      "\tChosen max_iter: 350\n",
      "\n",
      "Iteration 3\n",
      "\tChosen hidden_layer_sizes: (30,)\n",
      "\tChosen activation: tanh\n",
      "\tChosen max_iter: 300\n",
      "\n",
      "Iteration 4\n",
      "\tChosen hidden_layer_sizes: (50,)\n",
      "\tChosen activation: tanh\n",
      "\tChosen max_iter: 400\n",
      "\n"
     ]
    }
   ],
   "source": [
    "#Simple Neural Net\n",
    "print(\"Testing Simple Neural Nets...\\n\")\n",
    "from sklearn import neural_network\n",
    "\n",
    "scaler = sk.preprocessing.StandardScaler()\n",
    "nn = sk.neural_network.MLPClassifier(learning_rate=\"invscaling\",learning_rate_init=0.1)\n",
    "pipe = sk.pipeline.Pipeline(steps=[(\"scaler\",scaler),(\"nn\",nn)])\n",
    "\n",
    "# Hyperparameters\n",
    "param_grid = { \n",
    "    \"nn__hidden_layer_sizes\": [(30,),(40,),(50,),(60,)],\n",
    "    \"nn__activation\": [\"tanh\",],\n",
    "    \"nn__max_iter\" : [200,250,300,350,400]\n",
    "}\n",
    "\n",
    "inner = sk.model_selection.GridSearchCV(pipe,param_grid, cv=5)\n",
    "\n",
    "preds = []\n",
    "actuals = []\n",
    "\n",
    "# 5 fold cross validation\n",
    "for i, (train_index, test_index) in enumerate(kf.split(X)):\n",
    "    X_train, X_test, Y_train, Y_test = X.iloc[train_index],X.iloc[test_index], Y.iloc[train_index], Y.iloc[test_index]\n",
    "    # Run neural net\n",
    "    inner.fit(X_train,Y_train)\n",
    "    print(\"Iteration\", i)\n",
    "    print(\"\\tChosen hidden_layer_sizes:\",inner.best_estimator_.get_params()[\"nn__hidden_layer_sizes\"])\n",
    "    print(\"\\tChosen activation:\",inner.best_estimator_.get_params()[\"nn__activation\"])\n",
    "    print(\"\\tChosen max_iter:\",inner.best_estimator_.get_params()[\"nn__max_iter\"])\n",
    "    print()\n",
    "    preds.append(inner.predict(X_test))\n",
    "    actuals.append(Y_test)\n",
    "\n",
    "# Appending to output list\n",
    "outputs.append([\"Neural Nets\",actuals,preds])\n",
    "\n"
   ]
  },
  {
   "cell_type": "code",
   "execution_count": 84,
   "metadata": {},
   "outputs": [
    {
     "name": "stdout",
     "output_type": "stream",
     "text": [
      "Metrics for Random Forest\n",
      "\n",
      "\tAccuracy: 0.9563636363636364\n"
     ]
    },
    {
     "data": {
      "text/html": [
       "<div>\n",
       "<style scoped>\n",
       "    .dataframe tbody tr th:only-of-type {\n",
       "        vertical-align: middle;\n",
       "    }\n",
       "\n",
       "    .dataframe tbody tr th {\n",
       "        vertical-align: top;\n",
       "    }\n",
       "\n",
       "    .dataframe thead th {\n",
       "        text-align: right;\n",
       "    }\n",
       "</style>\n",
       "<table border=\"1\" class=\"dataframe\">\n",
       "  <thead>\n",
       "    <tr style=\"text-align: right;\">\n",
       "      <th></th>\n",
       "      <th>Predicted 1</th>\n",
       "      <th>Predicted 0</th>\n",
       "    </tr>\n",
       "  </thead>\n",
       "  <tbody>\n",
       "    <tr>\n",
       "      <th>Actual 1</th>\n",
       "      <td>342</td>\n",
       "      <td>12</td>\n",
       "    </tr>\n",
       "    <tr>\n",
       "      <th>Actual 0</th>\n",
       "      <td>12</td>\n",
       "      <td>184</td>\n",
       "    </tr>\n",
       "  </tbody>\n",
       "</table>\n",
       "</div>"
      ],
      "text/plain": [
       "          Predicted 1  Predicted 0\n",
       "Actual 1          342           12\n",
       "Actual 0           12          184"
      ]
     },
     "metadata": {},
     "output_type": "display_data"
    },
    {
     "name": "stdout",
     "output_type": "stream",
     "text": [
      "\tPrecision:  0.9661016949152542\n",
      "\tRecall: 0.9661016949152542\n",
      "\n",
      "\n",
      "Metrics for ADA Boosting\n",
      "\n",
      "\tAccuracy: 0.9690909090909091\n"
     ]
    },
    {
     "data": {
      "text/html": [
       "<div>\n",
       "<style scoped>\n",
       "    .dataframe tbody tr th:only-of-type {\n",
       "        vertical-align: middle;\n",
       "    }\n",
       "\n",
       "    .dataframe tbody tr th {\n",
       "        vertical-align: top;\n",
       "    }\n",
       "\n",
       "    .dataframe thead th {\n",
       "        text-align: right;\n",
       "    }\n",
       "</style>\n",
       "<table border=\"1\" class=\"dataframe\">\n",
       "  <thead>\n",
       "    <tr style=\"text-align: right;\">\n",
       "      <th></th>\n",
       "      <th>Predicted 1</th>\n",
       "      <th>Predicted 0</th>\n",
       "    </tr>\n",
       "  </thead>\n",
       "  <tbody>\n",
       "    <tr>\n",
       "      <th>Actual 1</th>\n",
       "      <td>349</td>\n",
       "      <td>5</td>\n",
       "    </tr>\n",
       "    <tr>\n",
       "      <th>Actual 0</th>\n",
       "      <td>12</td>\n",
       "      <td>184</td>\n",
       "    </tr>\n",
       "  </tbody>\n",
       "</table>\n",
       "</div>"
      ],
      "text/plain": [
       "          Predicted 1  Predicted 0\n",
       "Actual 1          349            5\n",
       "Actual 0           12          184"
      ]
     },
     "metadata": {},
     "output_type": "display_data"
    },
    {
     "name": "stdout",
     "output_type": "stream",
     "text": [
      "\tPrecision:  0.9667590027700831\n",
      "\tRecall: 0.9858757062146892\n",
      "\n",
      "\n",
      "Metrics for SVM\n",
      "\n",
      "\tAccuracy: 0.9745454545454546\n"
     ]
    },
    {
     "data": {
      "text/html": [
       "<div>\n",
       "<style scoped>\n",
       "    .dataframe tbody tr th:only-of-type {\n",
       "        vertical-align: middle;\n",
       "    }\n",
       "\n",
       "    .dataframe tbody tr th {\n",
       "        vertical-align: top;\n",
       "    }\n",
       "\n",
       "    .dataframe thead th {\n",
       "        text-align: right;\n",
       "    }\n",
       "</style>\n",
       "<table border=\"1\" class=\"dataframe\">\n",
       "  <thead>\n",
       "    <tr style=\"text-align: right;\">\n",
       "      <th></th>\n",
       "      <th>Predicted 1</th>\n",
       "      <th>Predicted 0</th>\n",
       "    </tr>\n",
       "  </thead>\n",
       "  <tbody>\n",
       "    <tr>\n",
       "      <th>Actual 1</th>\n",
       "      <td>349</td>\n",
       "      <td>5</td>\n",
       "    </tr>\n",
       "    <tr>\n",
       "      <th>Actual 0</th>\n",
       "      <td>9</td>\n",
       "      <td>187</td>\n",
       "    </tr>\n",
       "  </tbody>\n",
       "</table>\n",
       "</div>"
      ],
      "text/plain": [
       "          Predicted 1  Predicted 0\n",
       "Actual 1          349            5\n",
       "Actual 0            9          187"
      ]
     },
     "metadata": {},
     "output_type": "display_data"
    },
    {
     "name": "stdout",
     "output_type": "stream",
     "text": [
      "\tPrecision:  0.9748603351955307\n",
      "\tRecall: 0.9858757062146892\n",
      "\n",
      "\n",
      "Metrics for K Nearest Neighbor\n",
      "\n",
      "\tAccuracy: 0.9690909090909091\n"
     ]
    },
    {
     "data": {
      "text/html": [
       "<div>\n",
       "<style scoped>\n",
       "    .dataframe tbody tr th:only-of-type {\n",
       "        vertical-align: middle;\n",
       "    }\n",
       "\n",
       "    .dataframe tbody tr th {\n",
       "        vertical-align: top;\n",
       "    }\n",
       "\n",
       "    .dataframe thead th {\n",
       "        text-align: right;\n",
       "    }\n",
       "</style>\n",
       "<table border=\"1\" class=\"dataframe\">\n",
       "  <thead>\n",
       "    <tr style=\"text-align: right;\">\n",
       "      <th></th>\n",
       "      <th>Predicted 1</th>\n",
       "      <th>Predicted 0</th>\n",
       "    </tr>\n",
       "  </thead>\n",
       "  <tbody>\n",
       "    <tr>\n",
       "      <th>Actual 1</th>\n",
       "      <td>349</td>\n",
       "      <td>5</td>\n",
       "    </tr>\n",
       "    <tr>\n",
       "      <th>Actual 0</th>\n",
       "      <td>12</td>\n",
       "      <td>184</td>\n",
       "    </tr>\n",
       "  </tbody>\n",
       "</table>\n",
       "</div>"
      ],
      "text/plain": [
       "          Predicted 1  Predicted 0\n",
       "Actual 1          349            5\n",
       "Actual 0           12          184"
      ]
     },
     "metadata": {},
     "output_type": "display_data"
    },
    {
     "name": "stdout",
     "output_type": "stream",
     "text": [
      "\tPrecision:  0.9667590027700831\n",
      "\tRecall: 0.9858757062146892\n",
      "\n",
      "\n",
      "Metrics for Neural Nets\n",
      "\n",
      "\tAccuracy: 0.9745454545454546\n"
     ]
    },
    {
     "data": {
      "text/html": [
       "<div>\n",
       "<style scoped>\n",
       "    .dataframe tbody tr th:only-of-type {\n",
       "        vertical-align: middle;\n",
       "    }\n",
       "\n",
       "    .dataframe tbody tr th {\n",
       "        vertical-align: top;\n",
       "    }\n",
       "\n",
       "    .dataframe thead th {\n",
       "        text-align: right;\n",
       "    }\n",
       "</style>\n",
       "<table border=\"1\" class=\"dataframe\">\n",
       "  <thead>\n",
       "    <tr style=\"text-align: right;\">\n",
       "      <th></th>\n",
       "      <th>Predicted 1</th>\n",
       "      <th>Predicted 0</th>\n",
       "    </tr>\n",
       "  </thead>\n",
       "  <tbody>\n",
       "    <tr>\n",
       "      <th>Actual 1</th>\n",
       "      <td>346</td>\n",
       "      <td>8</td>\n",
       "    </tr>\n",
       "    <tr>\n",
       "      <th>Actual 0</th>\n",
       "      <td>6</td>\n",
       "      <td>190</td>\n",
       "    </tr>\n",
       "  </tbody>\n",
       "</table>\n",
       "</div>"
      ],
      "text/plain": [
       "          Predicted 1  Predicted 0\n",
       "Actual 1          346            8\n",
       "Actual 0            6          190"
      ]
     },
     "metadata": {},
     "output_type": "display_data"
    },
    {
     "name": "stdout",
     "output_type": "stream",
     "text": [
      "\tPrecision:  0.9829545454545454\n",
      "\tRecall: 0.9774011299435028\n",
      "\n",
      "\n"
     ]
    }
   ],
   "source": [
    "for output in outputs:\n",
    "    print(\"Metrics for\",output[0])\n",
    "    print()\n",
    "    PrintMetrics_list(output[1],output[2])\n",
    "    print('\\n')"
   ]
  },
  {
   "cell_type": "markdown",
   "metadata": {},
   "source": [
    "# Results\n",
    "\n",
    "We concluded the best model for our data would be an SVM which gave an accuracy of 97% and more notably a recall of 98.6% For classifying something as critical and time sensetive as breast cancer, false positives are considerably less significant than false negatives. Being told you have cancer when you don't isn't terribly harmful but being told you don't have cancer when you do certainly is. Therefore a model with high recall is likely the model we should choose for this data. \n",
    "\n",
    "So despite the neural net having the same accuracy as the SVM, we would probably still prefer K nearest Neighber and ADA boosting as although their overall accuracy is lower their recall sits near that of the SVM. Regardless as SVM has the highest accuracy and recall its undoubtedly the best model."
   ]
  },
  {
   "cell_type": "markdown",
   "metadata": {},
   "source": []
  }
 ],
 "metadata": {
  "kernelspec": {
   "display_name": "Python 3 (ipykernel)",
   "language": "python",
   "name": "python3"
  },
  "language_info": {
   "codemirror_mode": {
    "name": "ipython",
    "version": 3
   },
   "file_extension": ".py",
   "mimetype": "text/x-python",
   "name": "python",
   "nbconvert_exporter": "python",
   "pygments_lexer": "ipython3",
   "version": "3.8.10"
  }
 },
 "nbformat": 4,
 "nbformat_minor": 2
}
